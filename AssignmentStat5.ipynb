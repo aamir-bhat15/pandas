{
 "cells": [
  {
   "cell_type": "markdown",
   "id": "b89a9b19-7e20-4b17-9cf4-0c708916ca43",
   "metadata": {},
   "source": [
    "Q1: What is Estimation Statistics? Explain point estimate and interval estimate."
   ]
  },
  {
   "cell_type": "markdown",
   "id": "b65a206a-5d44-4da2-9a58-2f66a510b9f0",
   "metadata": {},
   "source": [
    "Estimation statistics is a branch of statistics that deals with estimating the value of a population parameter based on a sample of data.\n",
    "\n",
    "Point estimate:\n",
    "\n",
    "A point estimate is a single value that is used to estimate the value of a population parameter, such as the mean or the proportion. A point estimate is calculated from a sample of data and is used to make inferences about the corresponding population parameter. For example, the sample mean can be used as a point estimate of the population mean, or the sample proportion can be used as a point estimate of the population proportion.\n",
    "\n",
    "Interval estimate:\n",
    "\n",
    "An interval estimate is a range of values that is used to estimate the value of a population parameter. An interval estimate consists of a point estimate and a margin of error, which is calculated from the standard error and the confidence level. For example, a 95% confidence interval for the population mean is a range of values that is expected to contain the true population mean with 95% confidence. This means that if we were to take multiple samples and calculate their 95% confidence intervals, about 95% of these intervals would contain the true population mean.\n",
    "\n",
    "The choice between using a point estimate or an interval estimate depends on the level of precision and accuracy required in the estimation. A point estimate is more precise but less accurate, while an interval estimate is less precise but more accurate. An interval estimate provides a range of plausible values for the population parameter, taking into account the variability and uncertainty of the sample data. To increase the precision of an interval estimate, we can increase the sample size or increase the level of confidence, which widens the interval but increases the likelihood of containing the true population parameter.\n",
    "\n",
    "In summary, estimation statistics deals with estimating the value of a population parameter based on a sample of data. A point estimate is a single value used to estimate the population parameter, while an interval estimate is a range of values that includes a margin of error and a confidence level, used to estimate the population parameter with a certain level of confidence."
   ]
  },
  {
   "cell_type": "markdown",
   "id": "90090cd5-6098-433d-8563-989adacbc886",
   "metadata": {},
   "source": [
    "Q2. Write a Python function to estimate the population mean using a sample mean and standard\n",
    "deviation."
   ]
  },
  {
   "cell_type": "code",
   "execution_count": 1,
   "id": "0a338953-5788-4523-86c1-a8773c66a855",
   "metadata": {},
   "outputs": [
    {
     "name": "stdout",
     "output_type": "stream",
     "text": [
      "Estimated population mean: 50.00\n",
      "95% Confidence interval: (48.04, 51.96)\n"
     ]
    }
   ],
   "source": [
    "import numpy as np\n",
    "import math\n",
    "def estimate_population_mean(sample_mean, sample_std, sample_size):\n",
    "    standard_error = sample_std / math.sqrt(sample_size)\n",
    "    margin_of_error = 1.96 * standard_error\n",
    "    lower_bound = sample_mean - margin_of_error\n",
    "    upper_bound = sample_mean + margin_of_error\n",
    "    return (sample_mean, (lower_bound, upper_bound))\n",
    "    \n",
    "sample_mean = 50\n",
    "sample_std = 10\n",
    "sample_size = 100\n",
    "pop_mean, confidence_interval = estimate_population_mean(sample_mean, sample_std, sample_size)\n",
    "print(\"Estimated population mean: {0:.2f}\".format(pop_mean))\n",
    "print(\"95% Confidence interval: ({0:.2f}, {1:.2f})\".format(confidence_interval[0], confidence_interval[1]))"
   ]
  },
  {
   "cell_type": "markdown",
   "id": "94d1dc36-09b1-4087-a9ea-d59ff9c7ead4",
   "metadata": {},
   "source": [
    "Q3: What is Hypothesis testing? Why is it used? State the importance of Hypothesis testing."
   ]
  },
  {
   "cell_type": "markdown",
   "id": "2b315d27-e4e2-47cc-a6f3-f52ff552fd4f",
   "metadata": {},
   "source": [
    "Hypothesis testing is a statistical method used to test a claim or hypothesis about a population parameter, based on sample data. It involves formulating two hypotheses: a null hypothesis (H0) and an alternative hypothesis (Ha), and using the data to determine whether to reject or fail to reject the null hypothesis.\n",
    "\n",
    "The null hypothesis is the default hypothesis that there is no significant difference or relationship between two variables or no effect of a treatment or intervention. The alternative hypothesis is the hypothesis that there is a significant difference or relationship between two variables or an effect of a treatment or intervention.\n",
    "\n",
    "Hypothesis testing is used to determine whether the sample data provides enough evidence to reject the null hypothesis in favor of the alternative hypothesis. This is done by calculating a test statistic, which measures the deviation of the sample data from what would be expected under the null hypothesis and comparing it to a critical value or p-value. If the test statistic exceeds the critical value or the p-value is less than a specified significance level, the null hypothesis is rejected in favor of the alternative hypothesis.\n",
    "\n",
    "The importance of hypothesis testing lies in its ability to make objective and evidence-based decisions in scientific research and decision-making. By testing hypotheses and making inferences about population parameters, hypothesis testing allows us to draw conclusions about the effectiveness of treatments or interventions, the relationship between variables, and the validity of scientific theories or claims. It also helps to minimize the risk of making incorrect or biased decisions based on anecdotal evidence or personal beliefs.\n",
    "\n",
    "Some important applications of hypothesis testing include:\n",
    "\n",
    "1. Medical research: Hypothesis testing is used to test the efficacy of new drugs or treatments for diseases, by comparing them to a placebo or a standard treatment.\n",
    "\n",
    "2. Quality control: Hypothesis testing is used to test the quality of manufactured products, by comparing them to a standard or a specification.\n",
    "\n",
    "3. Social sciences: Hypothesis testing is used to test hypotheses about human behavior, by collecting and analyzing data from surveys or experiments.\n",
    "\n",
    "In summary, hypothesis testing is a statistical method used to test a claim or hypothesis about a population parameter, based on sample data. It allows us to make objective and evidence-based decisions in scientific research and decision-making, and draw conclusions about the effectiveness of treatments or interventions, the relationship between variables, and the validity of scientific theories or claims."
   ]
  },
  {
   "cell_type": "markdown",
   "id": "403fee3c-d0f0-474f-a3ec-df07479ca310",
   "metadata": {},
   "source": [
    "Q4. Create a hypothesis that states whether the average weight of male college students is greater than\n",
    "the average weight of female college students."
   ]
  },
  {
   "cell_type": "markdown",
   "id": "96a57218-3d49-4211-980b-913afc1c2add",
   "metadata": {},
   "source": [
    "Null hypothesis (H0): The average weight of male college students is equal to or less than the average weight of female college students.\n",
    "\n",
    "Alternative hypothesis (Ha): The average weight of male college students is greater than the average weight of female college students.\n",
    "\n",
    "Symbolically, the hypotheses can be represented as:\n",
    "\n",
    "H0: μmale ≤ μfemale\n",
    "\n",
    "Ha: μmale > μfemale\n",
    "\n",
    "where μmale is the population mean weight of male college students, and μfemale is the population mean weight of female college students.\n",
    "\n",
    "This hypothesis can be tested by collecting a random sample of male and female college students, calculating the sample means of their weights, and performing a hypothesis test to determine whether the difference between the sample means is statistically significant. Depending on the results of the test, we can either reject the null hypothesis and conclude that the average weight of male college students is greater than the average weight of female college students, or fail to reject the null hypothesis and conclude that there is not enough evidence to support the claim that the average weight of male college students is greater than the average weight of female college students."
   ]
  },
  {
   "cell_type": "markdown",
   "id": "dad472d7-6195-4f8b-aa50-d3ca86ca7239",
   "metadata": {},
   "source": [
    "Q5. Write a Python script to conduct a hypothesis test on the difference between two population means,\n",
    "given a sample from each population."
   ]
  },
  {
   "cell_type": "code",
   "execution_count": 2,
   "id": "56733e9c-7aaf-4963-9b46-d518e9e171b0",
   "metadata": {},
   "outputs": [
    {
     "name": "stdout",
     "output_type": "stream",
     "text": [
      "Sample 1 Mean:  18.0\n",
      "Sample 2 Mean:  17.4\n",
      "Pooled Standard Deviation:  4.152643067305983\n",
      "Standard Error:  1.8571184369578826\n",
      "t-statistic:  0.3230811713779829\n",
      "p-value:  0.7503568049600466\n",
      "Fail to reject the null hypothesis - there is not enough evidence to support a difference between the two population means.\n"
     ]
    },
    {
     "data": {
      "text/plain": [
       "'\\n\\nIn this example, we have two samples of data (`sample1` and `sample2`) and we want to test whether there is a significant difference between the population means of the two samples. We follow the steps of a two-sample t-test to calculate the t-statistic and p-value, and then compare the p-value to the significance level to determine whether to reject or fail to reject the null hypothesis.\\n\\nThe `numpy` and `scipy.stats` libraries are used for the calculations. The `numpy` library is used to calculate the sample means and standard deviations, while the `scipy.stats.t` function is used to calculate the p-value based on the t-statistic and degrees of freedom.\\n'"
      ]
     },
     "execution_count": 2,
     "metadata": {},
     "output_type": "execute_result"
    }
   ],
   "source": [
    "import numpy as np\n",
    "from scipy.stats import t\n",
    "\n",
    "# Define the sample data\n",
    "sample1 = [11, 12, 15, 16, 18, 19, 20, 21, 23, 25]\n",
    "sample2 = [13, 14, 14, 15, 16, 17, 19, 20, 22, 24]\n",
    "\n",
    "# Calculate the sample means and standard deviations\n",
    "mean1 = np.mean(sample1)\n",
    "mean2 = np.mean(sample2)\n",
    "std1 = np.std(sample1, ddof=1)\n",
    "std2 = np.std(sample2, ddof=1)\n",
    "\n",
    "# Define the significance level and degrees of freedom\n",
    "alpha = 0.05\n",
    "df = len(sample1) + len(sample2) - 2\n",
    "\n",
    "# Calculate the pooled standard deviation and standard error\n",
    "sp = np.sqrt(((len(sample1)-1)*std1**2 + (len(sample2)-1)*std2**2) / df)\n",
    "se = sp * np.sqrt(1/len(sample1) + 1/len(sample2))\n",
    "\n",
    "# Calculate the t-statistic and p-value\n",
    "t_stat = (mean1 - mean2) / se\n",
    "p_value = 2 * t.cdf(-np.abs(t_stat), df)\n",
    "\n",
    "# Print the results\n",
    "print(\"Sample 1 Mean: \", mean1)\n",
    "print(\"Sample 2 Mean: \", mean2)\n",
    "print(\"Pooled Standard Deviation: \", sp)\n",
    "print(\"Standard Error: \", se)\n",
    "print(\"t-statistic: \", t_stat)\n",
    "print(\"p-value: \", p_value)\n",
    "\n",
    "# Conduct the hypothesis test\n",
    "if p_value < alpha:\n",
    "    print(\"Reject the null hypothesis - there is a significant difference between the two population means.\")\n",
    "else:\n",
    "    print(\"Fail to reject the null hypothesis - there is not enough evidence to support a difference between the two population means.\")\n",
    "\n",
    "'''\n",
    "\n",
    "In this example, we have two samples of data (`sample1` and `sample2`) and we want to test whether there is a significant difference between the population means of the two samples. We follow the steps of a two-sample t-test to calculate the t-statistic and p-value, and then compare the p-value to the significance level to determine whether to reject or fail to reject the null hypothesis.\n",
    "\n",
    "The `numpy` and `scipy.stats` libraries are used for the calculations. The `numpy` library is used to calculate the sample means and standard deviations, while the `scipy.stats.t` function is used to calculate the p-value based on the t-statistic and degrees of freedom.\n",
    "'''"
   ]
  },
  {
   "cell_type": "markdown",
   "id": "abf190ad-2fc7-4dbc-b382-e283e634b7c4",
   "metadata": {},
   "source": [
    "Q6: What is a null and alternative hypothesis? Give some examples."
   ]
  },
  {
   "cell_type": "markdown",
   "id": "8afa7d2e-1021-4ae8-b310-da8004715495",
   "metadata": {},
   "source": [
    "Hypothesis testing is a statistical method used to test a claim or hypothesis about a population parameter, based on sample data. It involves formulating two hypotheses: a null hypothesis (H0) and an alternative hypothesis (Ha), and using the data to determine whether to reject or fail to reject the null hypothesis.\n",
    "\n",
    "The null hypothesis is the default hypothesis that there is no significant difference or relationship between two variables or no effect of a treatment or intervention. The alternative hypothesis is the hypothesis that there is a significant difference or relationship between two variables or an effect of a treatment or intervention.\n",
    "\n",
    "Hypothesis testing is used to determine whether the sample data provides enough evidence to reject the null hypothesis in favor of the alternative hypothesis. This is done by calculating a test statistic, which measures the deviation of the sample data from what would be expected under the null hypothesis and comparing it to a critical value or p-value. If the test statistic exceeds the critical value or the p-value is less than a specified significance level, the null hypothesis is rejected in favor of the alternative hypothesis.\n",
    "\n",
    "Some important applications of hypothesis testing include:\n",
    "\n",
    "1. Medical research: Hypothesis testing is used to test the efficacy of new drugs or treatments for diseases, by comparing them to a placebo or a standard treatment.\n",
    "\n",
    "2. Quality control: Hypothesis testing is used to test the quality of manufactured products, by comparing them to a standard or a specification.\n",
    "\n",
    "3. Social sciences: Hypothesis testing is used to test hypotheses about human behavior, by collecting and analyzing data from surveys or experiments."
   ]
  },
  {
   "cell_type": "markdown",
   "id": "dbeddba6-77fb-490a-b8ae-5a2a5e72b627",
   "metadata": {},
   "source": [
    "Q7: Write down the steps involved in hypothesis testing."
   ]
  },
  {
   "cell_type": "markdown",
   "id": "2752a0aa-9361-4109-9f07-3ba2e6ea5cf7",
   "metadata": {},
   "source": [
    "The following are the general steps involved in hypothesis testing:\n",
    "\n",
    "1. State the null hypothesis (H0) and the alternative hypothesis (Ha): The null hypothesis is the default hypothesis that there is no significant difference or relationship between two variables or no effect of a treatment or intervention. The alternative hypothesis is the hypothesis that there is a significant difference or relationship between two variables or an effect of a treatment or intervention.\n",
    "\n",
    "2. Choose the appropriate test statistic and significance level: The test statistic depends on the sample size, type of data, and the type of hypothesis being tested. The significance level (α) is the probability of rejecting the null hypothesis when it is actually true. Common choices for α are 0.05 and 0.01.\n",
    "\n",
    "3. Collect the sample data: The sample data should be collected randomly and should be representative of the population being studied.\n",
    "\n",
    "4. Calculate the test statistic: The test statistic is calculated from the sample data and measures the deviation of the sample data from what would be expected under the null hypothesis.\n",
    "\n",
    "5. Determine the p-value: The p-value is the probability of obtaining a test statistic as extreme or more extreme than the observed test statistic, assuming the null hypothesis is true.\n",
    "\n",
    "6. Compare the p-value to the significance level: If the p-value is less than the significance level, reject the null hypothesis in favor of the alternative hypothesis. If the p-value is greater than or equal to the significance level, fail to reject the null hypothesis.\n",
    "\n",
    "7. Interpret the results: If the null hypothesis is rejected, conclude that there is evidence to support the alternative hypothesis. If the null hypothesis is not rejected, conclude that there is not enough evidence to support the alternative hypothesis.\n",
    "\n",
    "8. Draw conclusions: Based on the results of the hypothesis test, draw conclusions about the population parameter being tested and generalize the results to the population.\n",
    "\n",
    "In summary, hypothesis testing involves stating the null and alternative hypotheses, choosing the appropriate test statistic and significance level, collecting sample data, calculating the test statistic and p-value, comparing the p-value to the significance level, interpreting the results, and drawing conclusions about the population parameter being tested."
   ]
  },
  {
   "cell_type": "markdown",
   "id": "f598c4fe-4702-4d38-ba6c-6e8ff856c49d",
   "metadata": {},
   "source": [
    "Q8. Define p-value and explain its significance in hypothesis testing."
   ]
  },
  {
   "cell_type": "markdown",
   "id": "9769bcb7-04cf-4149-8997-33c1c59a2993",
   "metadata": {},
   "source": [
    "The p-value is a statistical measure that represents the probability of obtaining a test statistic as extreme or more extreme than the observed test statistic, assuming the null hypothesis is true. It is a measure of the strength of the evidence against the null hypothesis, and is used in hypothesis testing to determine whether to reject or fail to reject the null hypothesis.\n",
    "\n",
    "In hypothesis testing, the p-value is compared to the significance level (α) to determine whether to reject or fail to reject the null hypothesis. If the p-value is less than α, it means that the observed data is unlikely to have occurred by chance, assuming the null hypothesis is true. In this case, we reject the null hypothesis in favor of the alternative hypothesis, since there is strong evidence against the null hypothesis. If the p-value is greater than or equal to α, it means that the observed data is likely to have occurred by chance, even if the null hypothesis is true. In this case, we fail to reject the null hypothesis, since there is not enough evidence to support the alternative hypothesis.\n",
    "\n",
    "The significance of the p-value in hypothesis testing is that it provides a way to quantify the strength of the evidence against the null hypothesis. A small p-value indicates strong evidence against the null hypothesis, while a large p-value indicates weak evidence against the null hypothesis. The p-value can also be used to determine the level of confidence in the hypothesis test. For example, a p-value of 0.05 means that there is a 5% chance of rejecting the null hypothesis when it is actually true, or a 95% level of confidence in the hypothesis test.\n",
    "\n",
    "It is important to note that the p-value is not the probability that the null hypothesis is true or false. Rather, it is the probability of obtaining the observed data or more extreme data, assuming the null hypothesis is true. Additionally, the p-value should not be used as the sole criterion for making decisions in hypothesis testing. Other factors, such as sample size, effect size, and practical significance, should also be taken into account when interpreting the results of a hypothesis test."
   ]
  },
  {
   "cell_type": "markdown",
   "id": "f30268fe-2f45-4db4-9007-12ce5a5a082d",
   "metadata": {},
   "source": [
    "Q9. Generate a Student's t-distribution plot using Python's matplotlib library, with the degrees of freedom\n",
    "parameter set to 10."
   ]
  },
  {
   "cell_type": "code",
   "execution_count": 1,
   "id": "c9dd3fc0-557e-4964-9b17-0e79ddf72fbf",
   "metadata": {},
   "outputs": [
    {
     "data": {
      "image/png": "[encoded data removed]",
      "text/plain": [
       "<Figure size 640x480 with 1 Axes>"
      ]
     },
     "metadata": {},
     "output_type": "display_data"
    }
   ],
   "source": [
    "import numpy as np\n",
    "import matplotlib.pyplot as plt\n",
    "from scipy.stats import t\n",
    "\n",
    "# Define the degrees of freedom\n",
    "df = 10\n",
    "\n",
    "# Define the x-axis values\n",
    "x = np.linspace(-4, 4, 1000)\n",
    "\n",
    "# Calculate the y-axis values (PDF)\n",
    "y = t.pdf(x, df)\n",
    "\n",
    "# Define the plot settings\n",
    "plt.plot(x, y)\n",
    "plt.title(\"Student's t-distribution\")\n",
    "plt.xlabel('x')\n",
    "plt.ylabel('PDF')\n",
    "plt.grid(True)"
   ]
  },
  {
   "cell_type": "markdown",
   "id": "0f88a482-173e-4dc2-b5c6-fdc7beede4fa",
   "metadata": {},
   "source": [
    "Q10. Write a Python program to calculate the two-sample t-test for independent samples, given two\n",
    "random samples of equal size and a null hypothesis that the population means are equal."
   ]
  },
  {
   "cell_type": "code",
   "execution_count": 2,
   "id": "c496bd53-e751-46ce-b858-35b2ef9081e1",
   "metadata": {},
   "outputs": [
    {
     "name": "stdout",
     "output_type": "stream",
     "text": [
      "Sample 1 Mean:  18.0\n",
      "Sample 2 Mean:  17.4\n",
      "t-statistic:  0.32308117137798287\n",
      "p-value:  0.7503568049600466\n",
      "Fail to reject the null hypothesis - there is not enough evidence to support a difference between the two population means.\n"
     ]
    }
   ],
   "source": [
    "import numpy as np\n",
    "from scipy.stats import ttest_ind\n",
    "\n",
    "# Define the two samples\n",
    "sample1 = [11, 12, 15, 16, 18, 19, 20, 21, 23, 25]\n",
    "sample2 = [13, 14, 14, 15, 16, 17, 19, 20, 22, 24]\n",
    "\n",
    "# Calculate the t-statistic and p-value\n",
    "t_stat, p_value = ttest_ind(sample1, sample2)\n",
    "\n",
    "# Define the significance level\n",
    "alpha = 0.05\n",
    "\n",
    "# Print the results\n",
    "print(\"Sample 1 Mean: \", np.mean(sample1))\n",
    "print(\"Sample 2 Mean: \", np.mean(sample2))\n",
    "print(\"t-statistic: \", t_stat)\n",
    "print(\"p-value: \", p_value)\n",
    "\n",
    "# Conduct the hypothesis test\n",
    "if p_value < alpha:\n",
    "    print(\"Reject the null hypothesis - there is a significant difference between the two population means.\")\n",
    "else:\n",
    "    print(\"Fail to reject the null hypothesis - there is not enough evidence to support a difference between the two population means.\")"
   ]
  },
  {
   "cell_type": "markdown",
   "id": "57aa5eaa-6500-4da6-9be9-60ae120e897d",
   "metadata": {},
   "source": [
    "Q11: What is Student’s t distribution? When to use the t-Distribution."
   ]
  },
  {
   "cell_type": "markdown",
   "id": "98e27633-617b-46bd-8e57-5e4c5d775ec0",
   "metadata": {},
   "source": [
    "Student's t-distribution is a probability distribution that is used in statistical inference to estimate unknown population parameters, such as the mean, when the sample size is small. It is named after William Gosset, who used the pseudonym \"Student\" when publishing his work on the distribution in 1908. The t-distribution is similar to a normal distribution in shape, but has heavier tails and more variability due to the smaller sample size.\n",
    "\n",
    "The t-distribution is commonly used in hypothesis testing and confidence interval estimation for the population mean, when the sample size is less than 30 and the population standard deviation is unknown. It is also used in linear regression analysis to test the significance of the slope parameter and to construct prediction intervals for new observations.\n",
    "\n",
    "The t-distribution is used instead of the standard normal distribution (z-distribution) when the population standard deviation is unknown and must be estimated from the sample data. The t-distribution takes into account the extra uncertainty due to estimating the population standard deviation from the sample data, and results in wider confidence intervals and larger p-values compared to the z-distribution. As the sample size increases, the t-distribution approaches the normal distribution, and the difference between the two distributions becomes negligible.\n",
    "\n",
    "In summary, the t-distribution is used to estimate unknown population parameters, such as the mean, when the sample size is small and the population standard deviation is unknown. It is commonly used in hypothesis testing and confidence interval estimation, and is an important tool in statistical inference."
   ]
  },
  {
   "cell_type": "markdown",
   "id": "46acf9e6-b583-4b06-90f4-c9bf68c336bb",
   "metadata": {},
   "source": [
    "Q12: What is t-statistic? State the formula for t-statistic."
   ]
  },
  {
   "cell_type": "markdown",
   "id": "aae581c2-3d47-4fba-9c54-6f9182346974",
   "metadata": {},
   "source": [
    "The t-statistic is a measure of how many standard errors the sample mean is away from the null hypothesis. It is used in hypothesis testing to determine whether there is a significant difference between the sample mean and the population mean, when the population standard deviation is unknown and must be estimated from the sample data.\n",
    "\n",
    "The formula for t-statistic is:\n",
    "\n",
    "t = (x̄ - μ) / (s / √n)\n",
    "\n",
    "where:\n",
    "- x̄ is the sample mean\n",
    "- μ is the population mean (or the hypothesized value of the population mean under the null hypothesis)\n",
    "- s is the sample standard deviation\n",
    "- n is the sample size\n",
    "\n",
    "The t-statistic measures the difference between the sample mean and the population mean, in terms of standard errors. It is calculated by taking the difference between the sample mean and the population mean, and dividing it by the standard error of the sample mean. The standard error of the sample mean is a measure of the variability of the sample mean, and is calculated by dividing the sample standard deviation by the square root of the sample size.\n",
    "\n",
    "The t-statistic follows a t-distribution with n-1 degrees of freedom, where n is the sample size. The t-distribution is used to calculate the p-value of the t-test, which measures the strength of the evidence against the null hypothesis. If the t-statistic is large and the p-value is small, it means that the sample mean is significantly different from the population mean, and the null hypothesis can be rejected. Conversely, if the t-statistic is small and the p-value is large, it means that the sample mean is not significantly different from the population mean, and the null hypothesis cannot be rejected."
   ]
  },
  {
   "cell_type": "markdown",
   "id": "025977cd-cfb0-4fa8-bd72-1cdfeaf12ddb",
   "metadata": {},
   "source": [
    "Q13. A coffee shop owner wants to estimate the average daily revenue for their shop. They take a random\n",
    "sample of 50 days and find the sample mean revenue to be $500 with a standard deviation of $50.\n",
    "Estimate the population mean revenue with a 95% confidence interval."
   ]
  },
  {
   "cell_type": "markdown",
   "id": "a10c7d5c-a6da-464d-be6f-4c95e8cbbdc4",
   "metadata": {},
   "source": [
    "We can use a t-distribution to construct a confidence interval for the population mean revenue. Since the sample size is greater than 30, we can assume the sample mean follows a normal distribution, and use the t-distribution with 49 degrees of freedom to estimate the population mean with a 95% confidence interval.\n",
    "\n",
    "First, let's calculate the standard error of the sample mean:\n",
    "\n",
    "SE = s / sqrt(n) = 100 / sqrt(50) = 14.14\n",
    "\n",
    "where s is the sample standard deviation, which is not given in the problem. We can estimate the sample standard deviation using the sample data, by calculating the sample variance and taking the square root:\n",
    "\n",
    "s = sqrt(sum(xi - x̄)^2 / (n-1)) = sqrt(5000 / 49) = 10.102\n",
    "\n",
    "where xi is an individual observation, x̄ is the sample mean, and n is the sample size.\n",
    "\n",
    "Next, we can construct the 95% confidence interval using the formula:\n",
    "\n",
    "CI = x̄ ± t*SE\n",
    "\n",
    "where x̄ is the sample mean, SE is the standard error of the sample mean, and t is the t-value from the t-distribution with 49 degrees of freedom and a 95% confidence level. We can find the t-value using a t-table or the `scipy.stats.t` function in Python:\n",
    "\n",
    "t = t.ppf(0.975, 49) = 2.0096\n",
    "\n",
    "where `t.ppf` returns the t-value for a given percentile (in this case, 97.5%) and degrees of freedom.\n",
    "\n",
    "Finally, we can substitute the values into the formula to get the confidence interval:\n",
    "\n",
    "CI = 500 ± 2.0096*14.14 = (471.14, 528.86)\n",
    "\n",
    "Therefore, we can be 95% confident that the true population mean revenue is between $471.14 and $528.86, based on the random sample of 50 days with a sample mean revenue of $500."
   ]
  },
  {
   "cell_type": "markdown",
   "id": "1afd72e6-8e0b-4e65-91f8-eb583a12281c",
   "metadata": {},
   "source": [
    "Q14. A researcher hypothesizes that a new drug will decrease blood pressure by 10 mmHg. They conduct a\n",
    "clinical trial with 100 patients and find that the sample mean decrease in blood pressure is 8 mmHg with a\n",
    "standard deviation of 3 mmHg. Test the hypothesis with a significance level of 0.05."
   ]
  },
  {
   "cell_type": "markdown",
   "id": "0797a819-d659-446d-b735-c84a016b1ddf",
   "metadata": {},
   "source": [
    "To test the hypothesis that the new drug will decrease blood pressure by 10 mmHg, we can use a one-sample t-test with the null hypothesis:\n",
    "\n",
    "H0: μ = 10\n",
    "\n",
    "(where μ is the true population mean decrease in blood pressure) and the alternative hypothesis:\n",
    "\n",
    "Ha: μ < 10\n",
    "\n",
    "We use a one-tailed test with a significance level of 0.05, since we are testing for a decrease in blood pressure.\n",
    "\n",
    "First, we calculate the t-statistic using the formula:\n",
    "\n",
    "t = (x̄ - μ) / (s / sqrt(n))\n",
    "\n",
    "where x̄ is the sample mean decrease in blood pressure, μ is the hypothesized population mean decrease in blood pressure (10 mmHg), s is the sample standard deviation, and n is the sample size.\n",
    "\n",
    "Substituting the values given in the problem, we get:\n",
    "\n",
    "t = (8 - 10) / (3 / sqrt(100)) = -3.33\n",
    "\n",
    "Next, we find the critical t-value from the t-distribution with 99 degrees of freedom (100 - 1), and a significance level of 0.05. Since this is a one-tailed test, the critical t-value is -1.660 (found using a t-table or a calculator).\n",
    "\n",
    "Since the calculated t-statistic (-3.33) is less than the critical t-value (-1.660), we reject the null hypothesis and conclude that the new drug does decrease blood pressure by a statistically significant amount. We can also calculate the p-value associated with the t-statistic, which represents the probability of obtaining a t-value as extreme or more extreme than the observed value, assuming the null hypothesis is true. The p-value in this case is less than 0.001, which is much smaller than the significance level of 0.05, providing further evidence to reject the null hypothesis.\n",
    "\n",
    "Therefore, we can conclude that there is evidence to support the hypothesis that the new drug decreases blood pressure by a statistically significant amount, based on the clinical trial with 100 patients."
   ]
  },
  {
   "cell_type": "markdown",
   "id": "895c8d27-70c4-446a-b71a-1fc7d611d62c",
   "metadata": {},
   "source": [
    "Q15. An electronics company produces a certain type of product with a mean weight of 5 pounds and a\n",
    "standard deviation of 0.5 pounds. A random sample of 25 products is taken, and the sample mean weight\n",
    "is found to be 4.8 pounds. Test the hypothesis that the true mean weight of the products is less than 5\n",
    "pounds with a significance level of 0.01."
   ]
  },
  {
   "cell_type": "markdown",
   "id": "113f435b-df87-48dc-8fbe-e0ea89d064dc",
   "metadata": {},
   "source": [
    "To test the hypothesis that the true mean weight of the products is less than 5 pounds, we can use a one-sample t-test with the null hypothesis:\n",
    "\n",
    "H0: μ = 5\n",
    "\n",
    "(where μ is the true population mean weight of the products) and the alternative hypothesis:\n",
    "\n",
    "Ha: μ < 5\n",
    "\n",
    "We use a one-tailed test with a significance level of 0.01, since we are testing for a weight that is less than 5 pounds.\n",
    "\n",
    "First, we calculate the t-statistic using the formula:\n",
    "\n",
    "t = (x̄ - μ) / (s / sqrt(n))\n",
    "\n",
    "where x̄ is the sample mean weight, μ is the hypothesized population mean weight (5 pounds), s is the sample standard deviation, and n is the sample size.\n",
    "\n",
    "Substituting the values given in the problem, we get:\n",
    "\n",
    "t = (4.8 - 5) / (0.5 / sqrt(25)) = -2\n",
    "\n",
    "Next, we find the critical t-value from the t-distribution with 24 degrees of freedom (25 - 1), and a significance level of 0.01. Since this is a one-tailed test with a left-tailed rejection region, the critical t-value is -2.492 (found using a t-table or a calculator).\n",
    "\n",
    "Since the calculated t-statistic (-2) is less than the critical t-value (-2.492), we reject the null hypothesis and conclude that the true mean weight of the products is less than 5 pounds with a significance level of 0.01. We can also calculate the p-value associated with the t-statistic, which represents the probability of obtaining a t-value as extreme or more extreme than the observed value, assuming the null hypothesis is true. The p-value in this case is 0.027, which is smaller than the significance level of 0.01, providing further evidence to reject the null hypothesis.\n",
    "\n",
    "Therefore, we can conclude that there is evidence to support the hypothesis that the true mean weight of the products is less than 5 pounds, based on the random sample of 25 products with a sample mean weight of 4.8 pounds."
   ]
  },
  {
   "cell_type": "markdown",
   "id": "f6f4b0ce-e6f3-4b31-a157-bbbed0380716",
   "metadata": {},
   "source": [
    "Q16. Two groups of students are given different study materials to prepare for a test. The first group (n1 =\n",
    "30) has a mean score of 80 with a standard deviation of 10, and the second group (n2 = 40) has a mean\n",
    "score of 75 with a standard deviation of 8. Test the hypothesis that the population means for the two\n",
    "groups are equal with a significance level of 0.01."
   ]
  },
  {
   "cell_type": "markdown",
   "id": "45e37ba9-012b-49d8-b2b1-8ae22ec8141b",
   "metadata": {},
   "source": [
    "To test the hypothesis that the population means for the two groups are equal, we can use a two-sample t-test with the null hypothesis:\n",
    "\n",
    "H0: μ1 = μ2\n",
    "\n",
    "(where μ1 and μ2 are the true population means for the two groups) and the alternative hypothesis:\n",
    "\n",
    "Ha: μ1 ≠ μ2\n",
    "\n",
    "We use a two-tailed test with a significance level of 0.01.\n",
    "\n",
    "First, we calculate the t-statistic using the formula:\n",
    "\n",
    "t = (x̄1 - x̄2) / sqrt(s1^2/n1 + s2^2/n2)\n",
    "\n",
    "where x̄1 and x̄2 are the sample means for the two groups, s1 and s2 are the sample standard deviations, and n1 and n2 are the sample sizes.\n",
    "\n",
    "Substituting the values given in the problem, we get:\n",
    "\n",
    "t = (80 - 75) / sqrt(10^2/30 + 8^2/40) = 2.09\n",
    "\n",
    "Next, we find the critical t-value from the t-distribution with 68 degrees of freedom (30 + 40 - 2), and a significance level of 0.01/2 (since this is a two-tailed test). The critical t-value is approximately ±2.615 (found using a t-table or a calculator).\n",
    "\n",
    "Since the calculated t-statistic (2.09) is less than the critical t-value (±2.615), we fail to reject the null hypothesis and conclude that there is not enough evidence to suggest that the population means for the two groups are different at a significance level of 0.01. We can also calculate the p-value associated with the t-statistic, which represents the probability of obtaining a t-value as extreme or more extreme than the observed value, assuming the null hypothesis is true. The p-value in this case is 0.040, which is greater than the significance level of 0.01, providing further evidence to fail to reject the null hypothesis.\n",
    "\n",
    "Therefore, we can conclude that there is not enough evidence to suggest that the population means for the two groups are different, based on the two samples of 30 and 40 students with sample means of 80 and 75, and sample standard deviations of 10 and 8, respectively."
   ]
  },
  {
   "cell_type": "markdown",
   "id": "443c4010-ff6d-494d-b82d-c8c2ceb96315",
   "metadata": {},
   "source": [
    "Q17. A marketing company wants to estimate the average number of ads watched by viewers during a TV\n",
    "program. They take a random sample of 50 viewers and find that the sample mean is 4 with a standard\n",
    "deviation of 1.5. Estimate the population mean with a 99% confidence interval."
   ]
  },
  {
   "cell_type": "markdown",
   "id": "f4844b5d-37ee-412a-83d3-930a5ca40ae5",
   "metadata": {},
   "source": [
    "We can use a t-distribution to construct a confidence interval for the population mean number of ads watched by viewers during a TV program. Since the sample size is greater than 30, we can assume the sample mean follows a normal distribution, and use the t-distribution with 49 degrees of freedom to estimate the population mean with a 99% confidence interval.\n",
    "\n",
    "First, let's calculate the standard error of the sample mean:\n",
    "\n",
    "SE = s / sqrt(n) = 1.5 / sqrt(50) = 0.2121\n",
    "\n",
    "where s is the sample standard deviation.\n",
    "\n",
    "Next, we can construct the 99% confidence interval using the formula:\n",
    "\n",
    "CI = x̄ ± t*SE\n",
    "\n",
    "where x̄ is the sample mean, SE is the standard error of the sample mean, and t is the t-value from the t-distribution with 49 degrees of freedom and a 99% confidence level. We can find the t-value using a t-table or the `scipy.stats.t` function in Python:\n",
    "\n",
    "t = t.ppf(0.995, 49) = 2.680\n",
    "\n",
    "where `t.ppf` returns the t-value for a given percentile (in this case, 99.5%) and degrees of freedom.\n",
    "\n",
    "Finally, we can substitute the values into the formula to get the confidence interval:\n",
    "\n",
    "CI = 4 ± 2.680*0.2121 = (3.433, 4.567)\n",
    "\n",
    "Therefore, we can be 99% confident that the true population mean number of ads watched by viewers during a TV program is between 3.433 and 4.567, based on the random sample of 50 viewers with a sample mean of 4 and a sample standard deviation of 1.5."
   ]
  }
 ],
 "metadata": {
  "kernelspec": {
   "display_name": "Python 3 (ipykernel)",
   "language": "python",
   "name": "python3"
  },
  "language_info": {
   "codemirror_mode": {
    "name": "ipython",
    "version": 3
   },
   "file_extension": ".py",
   "mimetype": "text/x-python",
   "name": "python",
   "nbconvert_exporter": "python",
   "pygments_lexer": "ipython3",
   "version": "3.10.8"
  }
 },
 "nbformat": 4,
 "nbformat_minor": 5
}
