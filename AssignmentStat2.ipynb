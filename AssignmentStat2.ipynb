{
 "cells": [
  {
   "cell_type": "markdown",
   "id": "2abc001d-311c-4ff3-baf9-3257d9dea610",
   "metadata": {},
   "source": [
    "Q1. What are the three measures of central tendency?"
   ]
  },
  {
   "cell_type": "markdown",
   "id": "dd014aa9-79a7-4bbc-a42b-ee889f7c48e3",
   "metadata": {},
   "source": [
    "Mean,Median and Mode"
   ]
  },
  {
   "cell_type": "markdown",
   "id": "45b84747-a762-4ac8-a3f8-f492812bd668",
   "metadata": {},
   "source": [
    "Q2. What is the difference between the mean, median, and mode? How are they used to measure the\n",
    "central tendency of a dataset?"
   ]
  },
  {
   "cell_type": "markdown",
   "id": "0f348ddd-228f-44b4-a271-e0fc7d6c836b",
   "metadata": {},
   "source": [
    "The mean is the arithmetic average,i.e,. adding up all of the values and divide by the number of observations in dataset.\n",
    "The median is the middle value. It is the value that splits the dataset in half, making it a natural measure of central tendency\n",
    "The mode is the value that occurs the most frequently in data set\n"
   ]
  },
  {
   "cell_type": "code",
   "execution_count": 2,
   "id": "ff8a7928-9c32-4f71-98fb-97589880f580",
   "metadata": {},
   "outputs": [],
   "source": [
    "import numpy as np\n",
    "from scipy import stats\n",
    "dataset = [10, 25, 14, 26, 35, 45, 67, 90, 40, 50, 60, 10, 16, 18, 20]"
   ]
  },
  {
   "cell_type": "code",
   "execution_count": 3,
   "id": "1609458c-c5fc-43b8-9634-496c259e11e3",
   "metadata": {},
   "outputs": [
    {
     "data": {
      "text/plain": [
       "35.06666666666667"
      ]
     },
     "execution_count": 3,
     "metadata": {},
     "output_type": "execute_result"
    }
   ],
   "source": [
    "np.mean(dataset)\n"
   ]
  },
  {
   "cell_type": "code",
   "execution_count": 4,
   "id": "0a8c41a3-71ca-4818-ae2e-66cef6ce508f",
   "metadata": {},
   "outputs": [
    {
     "data": {
      "text/plain": [
       "26.0"
      ]
     },
     "execution_count": 4,
     "metadata": {},
     "output_type": "execute_result"
    }
   ],
   "source": [
    "np.median(dataset)"
   ]
  },
  {
   "cell_type": "code",
   "execution_count": 6,
   "id": "9120200f-3805-4f86-a1aa-ee71e6cb297d",
   "metadata": {},
   "outputs": [
    {
     "name": "stderr",
     "output_type": "stream",
     "text": [
      "/tmp/ipykernel_437/3885314588.py:1: FutureWarning: Unlike other reduction functions (e.g. `skew`, `kurtosis`), the default behavior of `mode` typically preserves the axis it acts along. In SciPy 1.11.0, this behavior will change: the default value of `keepdims` will become False, the `axis` over which the statistic is taken will be eliminated, and the value None will no longer be accepted. Set `keepdims` to True or False to avoid this warning.\n",
      "  stats.mode(dataset)\n"
     ]
    },
    {
     "data": {
      "text/plain": [
       "ModeResult(mode=array([10]), count=array([2]))"
      ]
     },
     "execution_count": 6,
     "metadata": {},
     "output_type": "execute_result"
    }
   ],
   "source": [
    "stats.mode(dataset)"
   ]
  },
  {
   "cell_type": "markdown",
   "id": "df106cf8-7555-4d62-822e-6b073595cbe6",
   "metadata": {},
   "source": [
    "Q3. Measure the three measures of central tendency for the given height data:\n",
    "[178,177,176,177,178.2,178,175,179,180,175,178.9,176.2,177,172.5,178,176.5]"
   ]
  },
  {
   "cell_type": "code",
   "execution_count": 7,
   "id": "757de46b-770c-4585-a020-929c26ee4375",
   "metadata": {},
   "outputs": [],
   "source": [
    "import numpy as np\n",
    "from scipy import stats\n",
    "d=[178,177,176,177,178.2,178,175,179,180,175,178.9,176.2,177,172.5,178,176.5]"
   ]
  },
  {
   "cell_type": "code",
   "execution_count": 8,
   "id": "3bc25afe-6c6d-4c14-b255-e27ef023ad7b",
   "metadata": {},
   "outputs": [
    {
     "data": {
      "text/plain": [
       "177.01875"
      ]
     },
     "execution_count": 8,
     "metadata": {},
     "output_type": "execute_result"
    }
   ],
   "source": [
    "np.mean(d)"
   ]
  },
  {
   "cell_type": "code",
   "execution_count": 9,
   "id": "ac18ec01-3374-449d-b5f5-cac613586192",
   "metadata": {},
   "outputs": [
    {
     "data": {
      "text/plain": [
       "177.0"
      ]
     },
     "execution_count": 9,
     "metadata": {},
     "output_type": "execute_result"
    }
   ],
   "source": [
    "np.median(d)"
   ]
  },
  {
   "cell_type": "code",
   "execution_count": 10,
   "id": "83a069fe-fd45-4dc7-ac06-cd984edad6b4",
   "metadata": {},
   "outputs": [
    {
     "name": "stderr",
     "output_type": "stream",
     "text": [
      "/tmp/ipykernel_437/3857837850.py:1: FutureWarning: Unlike other reduction functions (e.g. `skew`, `kurtosis`), the default behavior of `mode` typically preserves the axis it acts along. In SciPy 1.11.0, this behavior will change: the default value of `keepdims` will become False, the `axis` over which the statistic is taken will be eliminated, and the value None will no longer be accepted. Set `keepdims` to True or False to avoid this warning.\n",
      "  stats.mode(d)\n"
     ]
    },
    {
     "data": {
      "text/plain": [
       "ModeResult(mode=array([177.]), count=array([3]))"
      ]
     },
     "execution_count": 10,
     "metadata": {},
     "output_type": "execute_result"
    }
   ],
   "source": [
    "stats.mode(d)"
   ]
  },
  {
   "cell_type": "markdown",
   "id": "1c8684e5-026e-45e3-ba1a-c479bea7c52d",
   "metadata": {},
   "source": [
    "Q4. Find the standard deviation for the given data:\n",
    "[178,177,176,177,178.2,178,175,179,180,175,178.9,176.2,177,172.5,178,176.5]"
   ]
  },
  {
   "cell_type": "code",
   "execution_count": 11,
   "id": "75aeb2d7-7bae-49d2-826d-ddd51e66e51c",
   "metadata": {},
   "outputs": [
    {
     "data": {
      "text/plain": [
       "1.7885814036548633"
      ]
     },
     "execution_count": 11,
     "metadata": {},
     "output_type": "execute_result"
    }
   ],
   "source": [
    "np.std(d)"
   ]
  },
  {
   "cell_type": "markdown",
   "id": "88f09c64-bef1-44a6-b986-dfaa7231fbc5",
   "metadata": {},
   "source": [
    "Q5. How are measures of dispersion such as range, variance, and standard deviation used to describe\n",
    "the spread of a dataset? Provide an example."
   ]
  },
  {
   "cell_type": "markdown",
   "id": "f49cf110-4d45-4f7c-9dab-816391aeb34f",
   "metadata": {},
   "source": [
    "The range can measure by subtracting the lowest value from the massive Number\n",
    "Variance is the average squared difference of the values from the mean.\n",
    "The standard deviation is just the square root of the variance\n",
    "\n",
    "  Range = Highest_value  – Lowest_value\n",
    "  data=[10,20,30,40,50]\n",
    "  Range=50-10=40\n",
    "  \n",
    "  variance=sum(mean-data)^2/n\n",
    "  stsqrt(varience)"
   ]
  },
  {
   "cell_type": "markdown",
   "id": "971dac8d-cfe3-44b6-8271-69f33158a855",
   "metadata": {},
   "source": [
    "Q6. What is a Venn diagram?"
   ]
  },
  {
   "cell_type": "markdown",
   "id": "6c23ac9c-d852-4a99-b193-f92ca74ad65b",
   "metadata": {},
   "source": [
    "A Venn diagram uses overlapping circles or other shapes to illustrate the logical relationships between two or more sets of items"
   ]
  },
  {
   "cell_type": "markdown",
   "id": "a4956edd-dfb9-4ef7-a63d-302a9294caa4",
   "metadata": {},
   "source": [
    "Q7. For the two given sets A = (2,3,4,5,6,7) & B = (0,2,6,8,10). Find:\n",
    "(i) A B\n",
    "(ii) A ⋃ B"
   ]
  },
  {
   "cell_type": "code",
   "execution_count": null,
   "id": "18025e29-397a-4f7c-88b9-51f2882c94a7",
   "metadata": {},
   "outputs": [],
   "source": [
    "(i)  A ⋂ B={2,6}\n",
    "(ii) A ⋃ B={0,2,3,4,5,6,7,8,10}"
   ]
  },
  {
   "cell_type": "markdown",
   "id": "d7fd8284-aa92-46d2-b6ec-072786e773cb",
   "metadata": {},
   "source": [
    "Q8. What do you understand about skewness in data?"
   ]
  },
  {
   "cell_type": "markdown",
   "id": "a41626e5-c61f-402c-90c0-7a9553cf3e54",
   "metadata": {},
   "source": [
    "Skewness is demonstrated on a bell curve when data points are not distributed symmetrically to the left and right sides of the median on a bell curve. \n",
    "If the bell curve is shifted to the left or the right, it is said to be skewed"
   ]
  },
  {
   "cell_type": "markdown",
   "id": "470da7da-5f29-4fb0-a5b7-9626a6d78989",
   "metadata": {},
   "source": [
    "Q9. If a data is right skewed then what will be the position of median with respect to mean?"
   ]
  },
  {
   "cell_type": "markdown",
   "id": "3323ee94-e77e-4688-9254-e9e4b2348f28",
   "metadata": {},
   "source": []
  },
  {
   "cell_type": "markdown",
   "id": "96b809d6-cb19-4c9f-bec8-03acf29cf454",
   "metadata": {},
   "source": [
    "Q10. Explain the difference between covariance and correlation. How are these measures used in\n",
    "statistical analysis?"
   ]
  },
  {
   "cell_type": "markdown",
   "id": "f589c441-c981-4b21-99b2-3224db4566bb",
   "metadata": {},
   "source": []
  },
  {
   "cell_type": "markdown",
   "id": "b331ea31-52a1-43e8-93fe-62daca7fb744",
   "metadata": {},
   "source": [
    "Q11. What is the formula for calculating the sample mean? Provide an example calculation for a\n",
    "dataset."
   ]
  },
  {
   "cell_type": "code",
   "execution_count": null,
   "id": "df6ab91b-cf23-4f9b-b520-c58e925a3d00",
   "metadata": {},
   "outputs": [],
   "source": []
  },
  {
   "cell_type": "markdown",
   "id": "8555dd5e-cb18-4255-9687-a4b02fc24005",
   "metadata": {},
   "source": [
    "Q12. For a normal distribution data what is the relationship between its measure of central tendency?"
   ]
  },
  {
   "cell_type": "code",
   "execution_count": null,
   "id": "64c8c54a-caf2-41d3-a2f3-94b970486107",
   "metadata": {},
   "outputs": [],
   "source": []
  },
  {
   "cell_type": "code",
   "execution_count": null,
   "id": "a11a8528-0ec7-4026-b66e-9b438cf890d8",
   "metadata": {},
   "outputs": [],
   "source": [
    "Q13. How is covariance different from correlation?"
   ]
  },
  {
   "cell_type": "code",
   "execution_count": null,
   "id": "ff2d2a4f-634c-41f5-921e-5b6d5a8a5244",
   "metadata": {},
   "outputs": [],
   "source": []
  },
  {
   "cell_type": "code",
   "execution_count": null,
   "id": "02139564-49d8-492f-bd66-d5587e0a24cb",
   "metadata": {},
   "outputs": [],
   "source": [
    "Q14. How do outliers affect measures of central tendency and dispersion? Provide an example."
   ]
  }
 ],
 "metadata": {
  "kernelspec": {
   "display_name": "Python 3 (ipykernel)",
   "language": "python",
   "name": "python3"
  },
  "language_info": {
   "codemirror_mode": {
    "name": "ipython",
    "version": 3
   },
   "file_extension": ".py",
   "mimetype": "text/x-python",
   "name": "python",
   "nbconvert_exporter": "python",
   "pygments_lexer": "ipython3",
   "version": "3.10.8"
  }
 },
 "nbformat": 4,
 "nbformat_minor": 5
}
