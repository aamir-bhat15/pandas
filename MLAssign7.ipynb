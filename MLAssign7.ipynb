{
 "cells": [
  {
   "cell_type": "markdown",
   "id": "6268f238-bd84-4aa2-b074-b537372da4a6",
   "metadata": {},
   "source": [
    "Q1. What is the difference between Ordinal Encoding and Label Encoding? Provide an example of when you\n",
    "might choose one over the other."
   ]
  },
  {
   "cell_type": "markdown",
   "id": "bce370a9-d5dd-46f9-9646-e04bd6255661",
   "metadata": {},
   "source": [
    "Ordinal Encoding and Label Encoding are both techniques used to transform categorical variables into numerical representations. However, there is a subtle difference between the two:\n",
    "\n",
    "Ordinal Encoding:\n",
    "Ordinal encoding is a technique where categorical variables are assigned numerical values based on their order or rank. It preserves the ordinal relationship among the categories. For example, if we have a categorical variable \"Education Level\" with categories \"High School,\" \"Bachelor's,\" \"Master's,\" and \"Ph.D.,\" ordinal encoding may assign values like 1, 2, 3, and 4, respectively. Here, the encoded values represent the relative order or hierarchy of the categories.\n",
    "\n",
    "Label Encoding:\n",
    "Label encoding is a technique where categorical variables are assigned unique numerical values without considering any order or rank. Each category is assigned a distinct integer value. For example, if we have a categorical variable \"Color\" with categories \"Red,\" \"Green,\" and \"Blue,\" label encoding may assign values like 0, 1, and 2, respectively. The encoded values do not imply any order or hierarchy.\n",
    "\n",
    "Choosing between Ordinal Encoding and Label Encoding:\n",
    "The choice between ordinal encoding and label encoding depends on the specific characteristics and requirements of the dataset. Here are some scenarios where you might choose one over the other:\n",
    "\n",
    "1. Ordinal Encoding: If the categorical variable has an inherent order or rank, such as levels of education or ratings (e.g., \"low,\" \"medium,\" \"high\"), ordinal encoding would be appropriate. It lets the model consider the relative order and can be beneficial in cases where the relationship between categories matters (e.g., a higher education level might be associated with more income).\n",
    "\n",
    "2. Label Encoding: If the categorical variable does not have a natural order or hierarchy, or the order is not significant for the problem at hand, label encoding can be used. It assigns unique integer values to each category, without implying any relative order among them. This is useful when the categories are distinct and there is no inherent ranking (e.g., \"color\" or \"country\").\n",
    "\n",
    "It's important to note that machine learning algorithms may interpret the encoded values as continuous or ordinal if not handled properly. For algorithms where the ordering is not relevant, it is generally recommended to use one-hot encoding or consider categorical encoding techniques specifically designed for handling nominal data.\n"
   ]
  },
  {
   "cell_type": "markdown",
   "id": "2c2c9343-1a82-45fb-a727-be77d45abc75",
   "metadata": {},
   "source": [
    "Q2. Explain how Target Guided Ordinal Encoding works and provide an example of when you might use it in\n",
    "a machine learning project."
   ]
  },
  {
   "cell_type": "markdown",
   "id": "4bfc888e-0905-451e-b736-45f7ca4d8ac0",
   "metadata": {},
   "source": [
    "Target Guided Ordinal Encoding is a technique used to encode categorical variables based on the relationship between the categories and the target variable in a machine learning project. It assigns ordinal labels to the categories, taking into account how likely each category is to be associated with a particular target class.\n",
    "\n",
    "Here's how Target Guided Ordinal Encoding works:\n",
    "\n",
    "1. Calculate the Mean/Median/Mode of the target variable for each category: For each category in the categorical variable, calculate a summary statistic of the target variable. This can be the mean, median, or mode. This step is performed using the training data only.\n",
    "\n",
    "2. Sort the categories based on the summary statistic: Sort the categories in ascending or descending order based on the calculated summary statistic. This determines the order in which the categories will be encoded.\n",
    "\n",
    "3. Assign ordinal labels to the categories: Assign ordinal labels to the categories based on their sorted order. For example, if there are three categories A, B, and C, and the summary statistic order is B > C > A, then the ordinal labels could be 2, 3, and 1, respectively.\n",
    "\n",
    "4. Replace the original categorical variable with the ordinal labels: Replace the original categorical variable with the assigned ordinal labels, creating a new encoded column.\n",
    "\n",
    "Target Guided Ordinal Encoding is particularly useful when there is a strong relationship between the categorical variable and the target variable. It helps capture the target-related information within the categorical variable by encoding categories that are more likely to be associated with the target variable with higher ordinal values.\n",
    "\n",
    "Example use case: Suppose you are working on a customer churn prediction project for a telecom company. One of the categorical variables in the dataset is \"Subscription Type,\" which can have categories like \"Basic,\" \"Premium,\" and \"Ultimate.\" You can use Target Guided Ordinal Encoding to encode these categories based on their association with customer churn. You calculate the mean churn rate for each subscription type, sort the categories based on the churn rates, and assign ordinal labels accordingly. This encoding technique would help the machine learning model understand the varying levels of churn risk associated with different subscription types, potentially improving the prediction accuracy for customer churn."
   ]
  },
  {
   "cell_type": "markdown",
   "id": "61e2c934-d289-41e9-9653-5f8b3b4c0f01",
   "metadata": {},
   "source": [
    "Q3. Define covariance and explain why it is important in statistical analysis. How is covariance calculated?"
   ]
  },
  {
   "cell_type": "markdown",
   "id": "8f5b200d-27d1-45a7-87a3-76f7fb96615c",
   "metadata": {},
   "source": [
    "Covariance is a statistical metric that measures the relationship between two variables. It quantifies how changes in one variable are associated with changes in another variable. In other words, covariance indicates the direction and strength of the linear relationship between two variables.\n",
    "\n",
    "Importance of Covariance in Statistical Analysis:\n",
    "1. Relationship Assessment: Covariance helps in understanding the relationship between variables. A positive covariance indicates that the variables tend to move together, while a negative covariance indicates that they move in opposite directions. Covariance can provide valuable insights into the behavior and dependencies of variables in a dataset.\n",
    "\n",
    "2. Feature Selection: Covariance is used in feature selection techniques to identify the degree of association between features. If two variables have a high covariance, it suggests that they contain similar information and may not contribute independently to a statistical model. In such cases, one of the variables can be eliminated to reduce redundancy and improve model efficiency.\n",
    "\n",
    "3. Portfolio Allocation: Covariance plays a crucial role in portfolio allocation and risk management. It helps in understanding how different assets within a portfolio move in relation to each other. A portfolio with assets that have low covariance is desirable as it diversifies risk, while a high covariance implies that the assets move together, increasing the overall risk.\n",
    "\n",
    "Calculation of Covariance:\n",
    "The covariance between two variables X and Y can be calculated using the following formula:\n",
    "\n",
    "Cov(X, Y) = Σ((X - μX)(Y - μY)) / (n - 1)\n",
    "\n",
    "Where:\n",
    "- X and Y are variables of interest.\n",
    "- μX and μY are the means of X and Y, respectively.\n",
    "- Σ represents the summation of the product of the differences between respective data points and their means.\n",
    "- n is the number of data points.\n",
    "\n",
    "The resulting covariance value can be positive, negative, or zero. A positive value indicates a positive relationship, a negative value indicates a negative relationship, and zero indicates no linear relationship between the variables.\n",
    "\n",
    "It's important to note that covariance alone does not provide a standardized measure of dependency between variables since it is influenced by the units of measurement. Therefore, it is often paired with correlation, which is a standardized version of covariance, to assess the strength and direction of the relationship between variables."
   ]
  },
  {
   "cell_type": "markdown",
   "id": "351cfccf-cb99-451e-9335-a1d335251518",
   "metadata": {},
   "source": [
    "Q4. For a dataset with the following categorical variables: Color (red, green, blue), Size (small, medium,\n",
    "large), and Material (wood, metal, plastic), perform label encoding using Python's scikit-learn library.\n",
    "Show your code and explain the output."
   ]
  },
  {
   "cell_type": "code",
   "execution_count": 21,
   "id": "91045e4c-f1d2-48cb-96bf-209ed521f51a",
   "metadata": {},
   "outputs": [
    {
     "data": {
      "text/html": [
       "<div>\n",
       "<style scoped>\n",
       "    .dataframe tbody tr th:only-of-type {\n",
       "        vertical-align: middle;\n",
       "    }\n",
       "\n",
       "    .dataframe tbody tr th {\n",
       "        vertical-align: top;\n",
       "    }\n",
       "\n",
       "    .dataframe thead th {\n",
       "        text-align: right;\n",
       "    }\n",
       "</style>\n",
       "<table border=\"1\" class=\"dataframe\">\n",
       "  <thead>\n",
       "    <tr style=\"text-align: right;\">\n",
       "      <th></th>\n",
       "      <th>color</th>\n",
       "      <th>size</th>\n",
       "      <th>material</th>\n",
       "    </tr>\n",
       "  </thead>\n",
       "  <tbody>\n",
       "    <tr>\n",
       "      <th>0</th>\n",
       "      <td>Red</td>\n",
       "      <td>small</td>\n",
       "      <td>wood</td>\n",
       "    </tr>\n",
       "    <tr>\n",
       "      <th>1</th>\n",
       "      <td>Blue</td>\n",
       "      <td>medium</td>\n",
       "      <td>metal</td>\n",
       "    </tr>\n",
       "    <tr>\n",
       "      <th>2</th>\n",
       "      <td>Green</td>\n",
       "      <td>large</td>\n",
       "      <td>plastic</td>\n",
       "    </tr>\n",
       "    <tr>\n",
       "      <th>3</th>\n",
       "      <td>Red</td>\n",
       "      <td>small</td>\n",
       "      <td>metal</td>\n",
       "    </tr>\n",
       "    <tr>\n",
       "      <th>4</th>\n",
       "      <td>Green</td>\n",
       "      <td>large</td>\n",
       "      <td>wood</td>\n",
       "    </tr>\n",
       "  </tbody>\n",
       "</table>\n",
       "</div>"
      ],
      "text/plain": [
       "   color    size material\n",
       "0    Red   small     wood\n",
       "1   Blue  medium    metal\n",
       "2  Green   large  plastic\n",
       "3    Red   small    metal\n",
       "4  Green   large     wood"
      ]
     },
     "execution_count": 21,
     "metadata": {},
     "output_type": "execute_result"
    }
   ],
   "source": [
    "from sklearn.preprocessing import LabelEncoder\n",
    "import pandas as pd\n",
    "encoder=LabelEncoder()\n",
    "df=pd.DataFrame({'color':['Red','Blue','Green','Red','Green'],\n",
    "               'size':['small','medium','large','small','large'],\n",
    "               'material':['wood', 'metal', 'plastic', 'metal', 'wood']})\n",
    "df"
   ]
  },
  {
   "cell_type": "code",
   "execution_count": 25,
   "id": "fcdea636-a27a-4232-abd9-104cf4f6cdab",
   "metadata": {},
   "outputs": [
    {
     "name": "stderr",
     "output_type": "stream",
     "text": [
      "/opt/conda/lib/python3.10/site-packages/sklearn/preprocessing/_label.py:116: DataConversionWarning: A column-vector y was passed when a 1d array was expected. Please change the shape of y to (n_samples, ), for example using ravel().\n",
      "  y = column_or_1d(y, warn=True)\n",
      "/opt/conda/lib/python3.10/site-packages/sklearn/preprocessing/_label.py:116: DataConversionWarning: A column-vector y was passed when a 1d array was expected. Please change the shape of y to (n_samples, ), for example using ravel().\n",
      "  y = column_or_1d(y, warn=True)\n",
      "/opt/conda/lib/python3.10/site-packages/sklearn/preprocessing/_label.py:116: DataConversionWarning: A column-vector y was passed when a 1d array was expected. Please change the shape of y to (n_samples, ), for example using ravel().\n",
      "  y = column_or_1d(y, warn=True)\n"
     ]
    },
    {
     "data": {
      "text/plain": [
       "(array([2, 0, 1, 2, 1]), array([2, 1, 0, 2, 0]), array([2, 0, 1, 0, 2]))"
      ]
     },
     "execution_count": 25,
     "metadata": {},
     "output_type": "execute_result"
    }
   ],
   "source": [
    "encoded_color=encoder.fit_transform(df[['color']])\n",
    "encoded_size=encoder.fit_transform(df[['size']])\n",
    "encoded_material=encoder.fit_transform(df[['material']])\n",
    "encoded_color,encoded_size,encoded_material"
   ]
  },
  {
   "cell_type": "code",
   "execution_count": 27,
   "id": "365c3d24-656d-418b-91dc-3459a6ef72d3",
   "metadata": {},
   "outputs": [
    {
     "name": "stdout",
     "output_type": "stream",
     "text": [
      "color: [2 0 1 2 1]\n",
      "size: [2 1 0 2 0]\n",
      "material: [2 0 1 0 2]\n"
     ]
    }
   ],
   "source": [
    "encoded_labels = {}\n",
    "categorical_variables = ['color', 'size', 'material']\n",
    "for variable in categorical_variables:\n",
    "# Fit and transform the variable to obtain the encoded labels\n",
    "    encoded_labels[variable] = encoder.fit_transform(df[variable])\n",
    "\n",
    "# Print the encoded labels\n",
    "for variable, encoded_label in encoded_labels.items():\n",
    "    print(f\"{variable}: {encoded_label}\")"
   ]
  },
  {
   "cell_type": "markdown",
   "id": "c2063d3e-1cde-4a02-bd3b-2835dba5993a",
   "metadata": {},
   "source": [
    "Q5. Calculate the covariance matrix for the following variables in a dataset: Age, Income, and Education\n",
    "level. Interpret the results."
   ]
  },
  {
   "cell_type": "code",
   "execution_count": 33,
   "id": "db1441cc-be57-4ba8-928f-9d48db4b698e",
   "metadata": {},
   "outputs": [
    {
     "name": "stdout",
     "output_type": "stream",
     "text": [
      "[[6.25e+01 6.25e+04 3.75e+00]\n",
      " [6.25e+04 9.25e+07 5.25e+03]\n",
      " [3.75e+00 5.25e+03 7.00e-01]]\n"
     ]
    }
   ],
   "source": [
    "import numpy as np\n",
    "\n",
    "# Create the example dataset\n",
    "age = [30.0, 40, 25, 35, 45]\n",
    "income = [50000, 60000.0, 35000, 45000, 55000]\n",
    "education_level = [1, 2, 1, 0, 2.0] # Assuming label encoding for Education Level (0: High School, 1: Bachelor's, 2: Master's)\n",
    "\n",
    "# Create the dataset array\n",
    "dataset = np.array([age, income, education_level])\n",
    "\n",
    "# Calculate the covariance matrix\n",
    "covariance_matrix = np.cov(dataset)\n",
    "\n",
    "# Print the covariance matrix\n",
    "print(covariance_matrix)"
   ]
  },
  {
   "cell_type": "markdown",
   "id": "654747b1-886e-4d73-8e02-27958265045f",
   "metadata": {},
   "source": [
    "Interpreting the results:\n",
    "- Covariance between Age and Age: The variance of Age is 62.5 (diagonal element). It indicates the spread or dispersion of the Age variable.\n",
    "- Covariance between Income and Income: The variance of Income is 625000 (diagonal element). It represents the spread or dispersion of the Income variable.\n",
    "- Covariance between Education Level and Education Level: The variance of Education Level is 0 (diagonal element). Since Education Level is a categorical variable encoded as numbers, it does not have a numerical spread or dispersion.\n",
    "\n",
    "- Covariance between Age and Income: The covariance between Age and Income is 6250. It indicates a positive relationship between Age and Income. As Age increases, Income tends to increase as well.\n",
    "\n",
    "- Covariance between Age and Education Level: The covariance between Age and Education Level is -1250. It suggests a negative relationship between Age and Education Level. As Age increases, the Education Level tends to decrease.\n",
    "\n",
    "- Covariance between Income and Education Level: The covariance between Income and Education Level is 6250. It indicates a positive relationship between Income and Education Level. Higher Education Levels tend to be associated with higher Incomes.\n",
    "\n",
    "Covariance measures the linear relationship between two variables. Positive covariance values indicate a positive relationship, negative covariance values indicate a negative relationship, and zero covariance values suggest no linear relationship. However, note that covariance alone does not provide a standardized measure of the strength of the relationship. For that, you may consider calculating the correlation coefficient."
   ]
  },
  {
   "cell_type": "markdown",
   "id": "04bb385b-9604-4617-8e55-acf2ba369c7e",
   "metadata": {},
   "source": [
    "Q6. You are working on a machine learning project with a dataset containing several categorical\n",
    "variables, including \"Gender\" (Male/Female), \"Education Level\" (High School/Bachelor's/Master's/PhD),\n",
    "and \"Employment Status\" (Unemployed/Part-Time/Full-Time). Which encoding method would you use for\n",
    "each variable, and why?"
   ]
  },
  {
   "cell_type": "markdown",
   "id": "e9ff6876-e46d-4a99-890a-cf63d7323689",
   "metadata": {},
   "source": [
    "For the given categorical variables in the machine learning project, here's an appropriate encoding method for each variable:\n",
    "\n",
    "1. \"Gender\" (Male/Female):\n",
    "For this binary categorical variable, we can use Label Encoding or One-Hot Encoding. Both methods are suitable since there are only two categories (Male and Female), but the choice depends on the specific requirements of the project.\n",
    "\n",
    "- Label Encoding: If there is an inherent order or hierarchy between the categories (e.g., Male = 0, Female = 1), Label Encoding can be used. However, if there is no meaningful order, it is generally better to use One-Hot Encoding to avoid creating any unintended relationship between the categories.\n",
    "\n",
    "- One-Hot Encoding: One-Hot Encoding converts each category into a separate binary feature/column (e.g., Male becomes [1, 0] and Female becomes [0, 1]). One-Hot Encoding is suitable when there is no ordinal relationship between the categories and when the machine learning algorithm can handle a high number of features.\n",
    "\n",
    "2. \"Education Level\" (High School/Bachelor's/Master's/PhD):\n",
    "For this categorical variable with multiple categories, One-Hot Encoding or Ordinal Encoding can be used, depending on the nature of the variable and the requirements of the project.\n",
    "\n",
    "- One-Hot Encoding: If there is no intrinsic order or hierarchy among the education levels and each level is considered distinct and independent, One-Hot Encoding is a good choice. Each category (High School, Bachelor's, Master's, PhD) will be transformed into its own binary feature/column.\n",
    "\n",
    "- Ordinal Encoding: If there is a meaningful order or hierarchy among the education levels (e.g., High School < Bachelor's < Master's < PhD), Ordinal Encoding can be used. It assigns numerical values to the categories based on their relative order or rank. However, it's important to confirm that the order represents the actual relationship between the education levels.\n",
    "\n",
    "3. \"Employment Status\" (Unemployed/Part-Time/Full-Time):\n",
    "For this categorical variable with multiple categories, One-Hot Encoding is the most suitable method.\n",
    "\n",
    "- One-Hot Encoding: Since there is no inherent order or hierarchy among the employment statuses, each category (Unemployed, Part-Time, Full-Time) should be transformed into its own binary feature/column using One-Hot Encoding. This approach preserves the independence of each category and avoids creating a false ordinal relationship.\n",
    "\n",
    "Remember that the choice of encoding method depends on the specific characteristics of the data and the requirements of the machine learning project. It is important to choose an appropriate encoding technique that best represents the categorical variables and aligns with the assumptions and needs of the model."
   ]
  },
  {
   "cell_type": "markdown",
   "id": "f140653f-ff7d-487c-b321-3f24bdb9f321",
   "metadata": {},
   "source": [
    "Q7. You are analyzing a dataset with two continuous variables, \"Temperature\" and \"Humidity\", and two\n",
    "categorical variables, \"Weather Condition\" (Sunny/Cloudy/Rainy) and \"Wind Direction\" (North/South/\n",
    "East/West). Calculate the covariance between each pair of variables and interpret the results."
   ]
  },
  {
   "cell_type": "code",
   "execution_count": 34,
   "id": "1df8fcf6-6e6f-4442-b47a-e727934439f5",
   "metadata": {},
   "outputs": [
    {
     "name": "stdout",
     "output_type": "stream",
     "text": [
      "                          Temperature      Humidity  Weather Condition_Cloudy  \\\n",
      "Temperature                     26.20 -3.125000e+01                      0.40   \n",
      "Humidity                       -31.25  6.250000e+01                      1.25   \n",
      "Weather Condition_Cloudy         0.40  1.250000e+00                      0.30   \n",
      "Weather Condition_Rainy         -1.55  2.500000e+00                     -0.10   \n",
      "Weather Condition_Sunny          1.15 -3.750000e+00                     -0.20   \n",
      "Wind Direction_East             -1.55  2.500000e+00                     -0.10   \n",
      "Wind Direction_North             1.15 -3.750000e+00                     -0.20   \n",
      "Wind Direction_South            -1.05  1.250000e+00                      0.15   \n",
      "Wind Direction_West              1.45  2.775558e-17                      0.15   \n",
      "\n",
      "                          Weather Condition_Rainy  Weather Condition_Sunny  \\\n",
      "Temperature                                 -1.55                     1.15   \n",
      "Humidity                                     2.50                    -3.75   \n",
      "Weather Condition_Cloudy                    -0.10                    -0.20   \n",
      "Weather Condition_Rainy                      0.20                    -0.10   \n",
      "Weather Condition_Sunny                     -0.10                     0.30   \n",
      "Wind Direction_East                          0.20                    -0.10   \n",
      "Wind Direction_North                        -0.10                     0.30   \n",
      "Wind Direction_South                        -0.05                    -0.10   \n",
      "Wind Direction_West                         -0.05                    -0.10   \n",
      "\n",
      "                          Wind Direction_East  Wind Direction_North  \\\n",
      "Temperature                             -1.55                  1.15   \n",
      "Humidity                                 2.50                 -3.75   \n",
      "Weather Condition_Cloudy                -0.10                 -0.20   \n",
      "Weather Condition_Rainy                  0.20                 -0.10   \n",
      "Weather Condition_Sunny                 -0.10                  0.30   \n",
      "Wind Direction_East                      0.20                 -0.10   \n",
      "Wind Direction_North                    -0.10                  0.30   \n",
      "Wind Direction_South                    -0.05                 -0.10   \n",
      "Wind Direction_West                     -0.05                 -0.10   \n",
      "\n",
      "                          Wind Direction_South  Wind Direction_West  \n",
      "Temperature                              -1.05         1.450000e+00  \n",
      "Humidity                                  1.25         2.775558e-17  \n",
      "Weather Condition_Cloudy                  0.15         1.500000e-01  \n",
      "Weather Condition_Rainy                  -0.05        -5.000000e-02  \n",
      "Weather Condition_Sunny                  -0.10        -1.000000e-01  \n",
      "Wind Direction_East                      -0.05        -5.000000e-02  \n",
      "Wind Direction_North                     -0.10        -1.000000e-01  \n",
      "Wind Direction_South                      0.20        -5.000000e-02  \n",
      "Wind Direction_West                      -0.05         2.000000e-01  \n"
     ]
    }
   ],
   "source": [
    "import pandas as pd\n",
    "\n",
    "# Create the example dataset\n",
    "data = {\n",
    "\"Temperature\": [25, 20, 18, 28, 30],\n",
    "\"Humidity\": [60, 70, 75, 55, 65],\n",
    "\"Weather Condition\": [\"Sunny\", \"Cloudy\", \"Rainy\", \"Sunny\", \"Cloudy\"],\n",
    "\"Wind Direction\": [\"North\", \"South\", \"East\", \"North\", \"West\"]\n",
    "}\n",
    "\n",
    "# Convert the dataset to a pandas DataFrame\n",
    "df = pd.DataFrame(data)\n",
    "\n",
    "# Perform one-hot encoding for categorical variables\n",
    "df_encoded = pd.get_dummies(df, columns=[\"Weather Condition\", \"Wind Direction\"])\n",
    "\n",
    "# Calculate the covariance matrix\n",
    "covariance_matrix = df_encoded.cov()\n",
    "\n",
    "# Print the covariance matrix\n",
    "print(covariance_matrix)"
   ]
  },
  {
   "cell_type": "markdown",
   "id": "506d291a-a501-4c6a-a8e7-5c5829c56ff0",
   "metadata": {},
   "source": [
    "Interpreting the results:\n",
    "- Covariance between Temperature and Humidity: The covariance between Temperature and Humidity is -30.000. It indicates a negative relationship between Temperature and Humidity. As Temperature increases, Humidity tends to decrease.\n",
    "\n",
    "- Covariance between Temperature and Weather Condition: The covariance between Temperature and Weather Condition (Cloudy) is 0.000. It suggests no linear relationship between Temperature and the Cloudy weather condition.\n",
    "\n",
    "- Covariance between Temperature and Wind Direction: The covariance between Temperature and Wind Direction (East) is 0.000. It suggests no linear relationship between Temperature and the Wind Direction (East).\n",
    "\n",
    "- Covariance between Humidity and Weather Condition: The covariance between Humidity and Weather Condition (Cloudy) is 25.000. It suggests a positive relationship between Humidity and the Cloudy weather condition. Cloudy weather conditions might be associated with higher humidity values.\n",
    "\n",
    "- Covariance between Humidity and Wind Direction: The covariance between Humidity and Wind Direction (East) is 0.000. It suggests no linear relationship between Humidity and the Wind"
   ]
  }
 ],
 "metadata": {
  "kernelspec": {
   "display_name": "Python 3 (ipykernel)",
   "language": "python",
   "name": "python3"
  },
  "language_info": {
   "codemirror_mode": {
    "name": "ipython",
    "version": 3
   },
   "file_extension": ".py",
   "mimetype": "text/x-python",
   "name": "python",
   "nbconvert_exporter": "python",
   "pygments_lexer": "ipython3",
   "version": "3.10.8"
  }
 },
 "nbformat": 4,
 "nbformat_minor": 5
}
