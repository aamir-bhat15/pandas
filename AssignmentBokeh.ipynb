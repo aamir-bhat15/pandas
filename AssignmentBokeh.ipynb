{
  "nbformat": 4,
  "nbformat_minor": 0,
  "metadata": {
    "colab": {
      "provenance": []
    },
    "kernelspec": {
      "name": "python3",
      "display_name": "Python 3"
    },
    "language_info": {
      "name": "python"
    }
  },
  "cells": [
    {
      "cell_type": "code",
      "execution_count": null,
      "metadata": {
        "id": "w_MsU24nZV44"
      },
      "outputs": [],
      "source": [
        "Q1. How can you create a Bokeh plot using Python code?"
      ]
    },
    {
      "cell_type": "code",
      "source": [
        "!pip install bokeh\n",
        "from bokeh.plotting import figure, output_notebook, show\n"
      ],
      "metadata": {
        "colab": {
          "base_uri": "https://localhost:8080/"
        },
        "id": "02t41qtaZt2I",
        "outputId": "1a1f45ab-02fd-46be-b2c0-16afa68f2f19"
      },
      "execution_count": 8,
      "outputs": [
        {
          "output_type": "stream",
          "name": "stdout",
          "text": [
            "Requirement already satisfied: bokeh in /usr/local/lib/python3.10/dist-packages (2.4.3)\n",
            "Requirement already satisfied: Jinja2>=2.9 in /usr/local/lib/python3.10/dist-packages (from bokeh) (3.1.2)\n",
            "Requirement already satisfied: numpy>=1.11.3 in /usr/local/lib/python3.10/dist-packages (from bokeh) (1.22.4)\n",
            "Requirement already satisfied: packaging>=16.8 in /usr/local/lib/python3.10/dist-packages (from bokeh) (23.1)\n",
            "Requirement already satisfied: pillow>=7.1.0 in /usr/local/lib/python3.10/dist-packages (from bokeh) (8.4.0)\n",
            "Requirement already satisfied: PyYAML>=3.10 in /usr/local/lib/python3.10/dist-packages (from bokeh) (6.0)\n",
            "Requirement already satisfied: tornado>=5.1 in /usr/local/lib/python3.10/dist-packages (from bokeh) (6.3.1)\n",
            "Requirement already satisfied: typing-extensions>=3.10.0 in /usr/local/lib/python3.10/dist-packages (from bokeh) (4.6.3)\n",
            "Requirement already satisfied: MarkupSafe>=2.0 in /usr/local/lib/python3.10/dist-packages (from Jinja2>=2.9->bokeh) (2.1.3)\n"
          ]
        }
      ]
    },
    {
      "cell_type": "code",
      "source": [
        "x = [1,2,3,4,5]\n",
        "y = [2,4,6,8,10]\n",
        "\n",
        "fig = figure(title = 'Line Plot example', x_axis_label = 'x', y_axis_label = 'y')\n",
        "fig.line(x,y)\n",
        "show(fig)"
      ],
      "metadata": {
        "id": "WT_arjSxaXkg"
      },
      "execution_count": 11,
      "outputs": []
    },
    {
      "cell_type": "code",
      "source": [
        "Q2. What are glyphs in Bokeh, and how can you add them to a Bokeh plot? Explain with an example."
      ],
      "metadata": {
        "id": "kKM1121-Zgkm"
      },
      "execution_count": null,
      "outputs": []
    },
    {
      "cell_type": "markdown",
      "source": [
        "Glyphs are the visual markers that represent in data points, such as circles, lines, or bars. We can add these glyphs using the `figure()` object's `add_glyph()` method.\n"
      ],
      "metadata": {
        "id": "uIIC8CRWc9tX"
      }
    },
    {
      "cell_type": "code",
      "source": [
        "from bokeh.plotting import figure, output_file, show\n",
        "fig = figure(plot_width = 200, plot_height = 400)\n",
        "fig.vbar(x = [1,2,3], width = 0.5, bottom = 0, top = [2,4,6], color = \"Cyan\")\n",
        "output_file('bar.html')\n",
        "show(fig)"
      ],
      "metadata": {
        "id": "JwCVhFerdETH"
      },
      "execution_count": 12,
      "outputs": []
    },
    {
      "cell_type": "markdown",
      "source": [
        "Q3. How can you customize the appearance of a Bokeh plot, including the axes, title, and legend?"
      ],
      "metadata": {
        "id": "Rfq-bM5XZk4P"
      }
    },
    {
      "cell_type": "markdown",
      "source": [
        "To customize the appearance of a Bokeh plot, we can use various options and attributes provided by the Bokeh library. Here's a rundown of how we can customize different elements of a plot:\n",
        "\n",
        "1. Axes: We can customize the appearance of the axes by modifying attributes like `x_axis_label` and `y_axis_label` for setting axis labels, `x_axis_type` and `y_axis_type` for specifying the scale type, `x_range` and `y_range` for setting custom data ranges, and many more.\n",
        "\n",
        "2. Title: Set the title of the plot using the `title` attribute of the figure object. We can change the font size, font family, or position of the title by modifying additional attributes like `title_text_font_size`, `title_text_font`, and `title_location`.\n",
        "\n",
        "3. Legend: If we have multiple glyphs or data series, we can add a legend to help distinguish them. To include a legend, we can add the `legend` argument to the glyph creation methods (e.g., `circle()`, `line()`) and specify a legend label. We can further customize the legend's appearance using attributes like `legend_label`, `legend_location`, `legend_spacing`, etc.\n",
        "\n",
        "4. Colors and Styles: Bokeh offers various ways to customize the colors and styles of glyphs. We can set the `color` attribute to change the color of a glyph. Additionally, Bokeh provides numerous built-in palettes for specifying color sequences. We can also modify line styles like `line_width`, `line_dash`, or fill styles like `fill_color`, `fill_alpha` for different glyphs.\n",
        "\n",
        "5. Background and Grid: We can modify the background color of the plot using the `background_fill_color` attribute. Customize grid lines using attributes like `xgrid_grid_line_color`, `xgrid_grid_line_alpha`, `ygrid_grid_line_dash`, etc.\n",
        "\n"
      ],
      "metadata": {
        "id": "Yzr61r0ddkJy"
      }
    },
    {
      "cell_type": "markdown",
      "source": [
        "Q4. What is a Bokeh server, and how can you use it to create interactive plots that can be updated in\n",
        "real time?"
      ],
      "metadata": {
        "id": "Cb2nEN2DZorH"
      }
    },
    {
      "cell_type": "markdown",
      "source": [
        "A Bokeh server is a tool provided by the Bokeh library that allows you to create interactive plots and applications that can be updated in real time. It enables you to build dynamic and interactive visualizations that respond to user inputs or changing data.\n",
        "\n",
        "With the Bokeh server, you can create a Python script that defines your data, plots, and interactive elements. The server then hosts the script, allowing multiple users to access and interact with the plot simultaneously through a web browser.\n",
        "\n",
        "To use the Bokeh server, you need to follow these steps:\n",
        "\n",
        "1. Install the Bokeh library by running `pip install bokeh` in your command prompt or terminal if you haven't already.\n",
        "\n",
        "2. Import the necessary modules and functions from the `bokeh.plotting` and `bokeh.io` modules.\n",
        "\n",
        "3. Create a `curdoc` object using `curdoc()` function from the `bokeh.io` module. This represents the current document or application.\n",
        "\n",
        "4. Define your data, plots, and interactive elements with Python code, just like you would create a static Bokeh plot. However, you can make use of Bokeh's interactive features like widgets, buttons, sliders, etc., to enable user interaction.\n",
        "\n",
        "5. Run the Bokeh server by executing the Python script from the command line using `python script.py`, where `script.py` is the name of your script.\n",
        "\n",
        "6. Access the interactive plot in a web browser by opening the specified URL provided by the Bokeh server. Multiple users can view and interact with the plot simultaneously, and any updates made by one user will be immediately visible to others.\n",
        "\n",
        "The Bokeh server can be useful for a wide range of applications, such as real-time monitoring systems, data dashboards, or collaborative visualizations. It allows you to create interactive plots that respond to user input or changing data, providing a dynamic and engaging visualization experience."
      ],
      "metadata": {
        "id": "R5WyB0q0eKPK"
      }
    },
    {
      "cell_type": "markdown",
      "source": [
        "Q5. How can you embed a Bokeh plot into a web page or dashboard using Flask or Django?"
      ],
      "metadata": {
        "id": "OHLjgLs_Zq7w"
      }
    },
    {
      "cell_type": "markdown",
      "source": [
        "To embed a Bokeh plot into a web page or dashboard using Flask or Django, you can follow these general steps:\n",
        "\n",
        "1. Install the necessary libraries: Make sure you have Flask or Django and Bokeh installed in your Python environment.\n",
        "\n",
        "2. Create a Bokeh plot using Python code: Write the code to create your Bokeh plot as you normally would, using the Bokeh library.\n",
        "\n",
        "3. Define a view in your Flask or Django application: In Flask, you would create a route using the `@app.route` decorator, while in Django, you would define a view function in your `views.py` file.\n",
        "\n",
        "4. Render the Bokeh plot in the view: In the view function, you will need to create an instance of the Bokeh plot, generate the plot data, and render it to an HTML file or a div element.\n",
        "\n",
        "   For Flask:\n",
        "   - Use the `components()` function from the `bokeh.embed` module to generate the necessary JavaScript and HTML components for the plot. Pass your plot object as an argument to the `components()` function.\n",
        "   - Render the generated components in your template by passing them as context variables to the template engine.\n",
        "\n",
        "   For Django:\n",
        "   - Use the `components()` function from the `bokeh.embed` module to generate the JavaScript and HTML components for the plot.\n",
        "   - Pass the generated components as context variables to your template while rendering it.\n",
        "\n",
        "5. Create the template: In both Flask and Django, you will need to create an HTML template that will be used to render the Bokeh plot. In this template, you include the generated JavaScript and HTML components using the `script` and `div` tags from the previous step.\n",
        "\n",
        "   For Flask, use the template engine like Jinja2 to render the HTML template.\n",
        "\n",
        "   For Django, create an HTML template and use the template language to include the generated components.\n",
        "\n",
        "6. Serve the web page: Start your Flask or Django server, and you should be able to access and view the Bokeh plot embedded in your web page or dashboard.\n",
        "\n",
        "By following these steps, you can integrate a Bokeh plot into a web page or dashboard built using Flask or Django, allowing you to create interactive visualizations within your application."
      ],
      "metadata": {
        "id": "7dq8URqyfLsb"
      }
    },
    {
      "cell_type": "code",
      "source": [],
      "metadata": {
        "id": "6e2ElKv6fNwh"
      },
      "execution_count": null,
      "outputs": []
    }
  ]
}