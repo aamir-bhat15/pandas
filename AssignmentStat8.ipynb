{
 "cells": [
  {
   "cell_type": "markdown",
   "id": "b28f6cda-b535-4a6f-a253-d98e7515e5fa",
   "metadata": {},
   "source": [
    "Q1. Explain the assumptions required to use ANOVA and provide examples of violations that could impact\n",
    "the validity of the results."
   ]
  },
  {
   "cell_type": "markdown",
   "id": "61b57d48-b99e-422c-bac2-4b66a609e068",
   "metadata": {},
   "source": [
    "ANOVA (Analysis of Variance) is a statistical technique used to compare means of three or more groups. The following are the assumptions required to use ANOVA:\n",
    "\n",
    "1. Independence: The observations within each group must be independent of each other. In other words, the values in one group should not be related to the values in any other group.\n",
    "\n",
    "2. Normality: The data within each group should be normally distributed. This means that the distribution of the values within each group should be bell-shaped when plotted on a histogram or a normal probability plot.\n",
    "\n",
    "3. Homogeneity of variance: The variances of the data within each group should be equal. This means that the spread of the values within each group should be roughly the same.\n",
    "\n",
    "Examples of violations of these assumptions that could impact the validity of the results are:\n",
    "\n",
    "1. Independence: Violations of independence can arise when there is a relationship between the observations in different groups. For example, if we are comparing the heights of siblings in different families, the observations within each family may not be independent due to genetic factors.\n",
    "\n",
    "2. Normality: Violations of normality can arise when the data within each group is not normally distributed. For example, if we are comparing the weights of different breeds of dogs, the data within each breed may not be normally distributed due to differences in body shape and size.\n",
    "\n",
    "3. Homogeneity of variance: Violations of homogeneity of variance can arise when the variances of the data within each group are different. For example, if we are comparing the salaries of employees in different departments of a company, the variances of the salaries within each department may not be equal due to differences in job roles and levels.\n",
    "\n",
    "Violations of these assumptions can lead to incorrect results, reduced statistical power, or increased false positives or false negatives. It is important to check these assumptions before conducting ANOVA and consider alternative methods if the assumptions are violated."
   ]
  },
  {
   "cell_type": "markdown",
   "id": "fa03a646-186f-4f60-8686-2407d8911325",
   "metadata": {},
   "source": [
    "Q2. What are the three types of ANOVA, and in what situations would each be used?"
   ]
  },
  {
   "cell_type": "markdown",
   "id": "3513f399-ac7d-4375-9969-82bad8a3e99d",
   "metadata": {},
   "source": [
    "The three types of ANOVA are:\n",
    "\n",
    "1. One-way ANOVA: This type of ANOVA is used when there is only one independent variable or factor with three or more levels. It is used to determine if there is a significant difference between the means of the groups.\n",
    "\n",
    "2. Two-way ANOVA: This type of ANOVA is used when there are two independent variables or factors with two or more levels each. It is used to determine if there is a significant interaction between the two factors and if there are main effects for each factor.\n",
    "\n",
    "3. N-way ANOVA: This type of ANOVA is used when there are more than two independent variables or factors with two or more levels each. It is used to determine if there are significant interactions between the factors and if there are main effects for each factor.\n",
    "\n",
    "Each type of ANOVA is used in different situations:\n",
    "\n",
    "1. One-way ANOVA is used when we want to compare the means of three or more groups on one variable. For example, we could use one-way ANOVA to compare the mean heights of people in three or more different countries.\n",
    "\n",
    "2. Two-way ANOVA is used when we want to compare the means of three or more groups on two variables and see if there is an interaction between the two variables. For example, we could use two-way ANOVA to compare the mean heights of people in three or more different countries and see if there is an interaction with gender.\n",
    "\n",
    "3. N-way ANOVA is used when we want to compare the means of three or more groups on more than two variables and see if there are interactions between the variables. For example, we could use N-way ANOVA to compare the mean heights of people in different countries, with different genders, and across different age groups, and see if there are interactions between these variables.\n",
    "\n",
    "In summary, we use one-way ANOVA when we have one factor, two-way ANOVA when we have two factors, and N-way ANOVA when we have more than two factors. Each type of ANOVA helps us to determine if there is a significant difference between the means of the groups being compared, while also accounting for the effects of multiple factors or variables."
   ]
  },
  {
   "cell_type": "markdown",
   "id": "eb3a0fab-9090-4375-9a60-f2fba868b5b9",
   "metadata": {},
   "source": [
    "Q3. What is the partitioning of variance in ANOVA, and why is it important to understand this concept?"
   ]
  },
  {
   "cell_type": "markdown",
   "id": "a5ed9253-be14-4550-a3b2-858cd10a4f71",
   "metadata": {},
   "source": [
    "Partitioning of variance in ANOVA refers to the process of breaking down the total variation in the data into separate components that can be attributed to different sources of variation. This is achieved by decomposing the total sum of squares (SS) into different components: the sum of squares between groups (SSB) and the sum of squares within groups (SSW).\n",
    "\n",
    "SSB represents the variation between the means of the groups being compared, while SSW represents the variation within each group. By comparing the ratio of SSB to SSW, ANOVA allows us to determine if the differences in means between the groups are statistically significant or simply due to random variation.\n",
    "\n",
    "Understanding the concept of partitioning of variance is important because it helps us to:\n",
    "\n",
    "1. Identify the sources of variation in the data: By breaking down the total variation into separate components, we can identify the extent to which differences between groups contribute to the overall variation, as well as the amount of variation within each group.\n",
    "\n",
    "2. Assess the significance of group differences: By comparing the ratio of SSB to SSW, we can determine if the differences between groups are statistically significant or simply due to chance.\n",
    "\n",
    "3. Determine the size of the effect: By calculating the effect size, which is the ratio of SSB to the total SS, we can determine the magnitude of the difference between the groups.\n",
    "\n",
    "4. Identify potential confounding variables: By partitioning the variance, we can identify if there are other sources of variation that may be confounding our analysis, such as differences in age, gender, or other variables.\n",
    "\n",
    "In summary, partitioning of variance is a key concept in ANOVA, as it allows us to identify the sources of variation in the data, assess the significance of group differences, determine the size of the effect, and identify potential confounding variables."
   ]
  },
  {
   "cell_type": "markdown",
   "id": "9cd2cdd1-17b0-419b-872e-bc6126400890",
   "metadata": {},
   "source": [
    "Q4. How would you calculate the total sum of squares (SST), explained sum of squares (SSE), and residual\n",
    "sum of squares (SSR) in a one-way ANOVA using Python?"
   ]
  },
  {
   "cell_type": "code",
   "execution_count": 1,
   "id": "1789d7e4-aa7e-4d33-8ebb-e2d7b00f3328",
   "metadata": {},
   "outputs": [
    {
     "name": "stdout",
     "output_type": "stream",
     "text": [
      "SST: 33.46666666666664\n",
      "SSE: 13.066666666666642\n",
      "SSR: 20.4\n"
     ]
    }
   ],
   "source": [
    "import pandas as pd\n",
    "import statsmodels.api as sm\n",
    "from statsmodels.formula.api import ols\n",
    "\n",
    "# Define the data\n",
    "data = pd.DataFrame({\n",
    "'Variety': ['Fuji']*10 + ['Gala']*10 + ['Granny Smith']*10,\n",
    "'Weight': [5, 6, 7, 5, 6, 7, 4, 5, 6, 5] + [4, 5, 6, 5, 4, 5, 6, 4, 5, 6] + [3, 4, 5, 4, 3, 4, 5, 3, 4, 5]\n",
    "})\n",
    "\n",
    "# Fit a one-way ANOVA model\n",
    "model = ols('Weight ~ Variety', data=data).fit()\n",
    "anova_table = sm.stats.anova_lm(model, type=2)\n",
    "\n",
    "# Calculate SST, SSE, and SSR\n",
    "sst = anova_table['sum_sq']['Variety'] + anova_table['sum_sq']['Residual']\n",
    "sse = anova_table['sum_sq']['Variety']\n",
    "ssr = anova_table['sum_sq']['Residual']\n",
    "\n",
    "print('SST:', sst)\n",
    "print('SSE:', sse)\n",
    "print('SSR:', ssr)"
   ]
  },
  {
   "cell_type": "markdown",
   "id": "2a4fa79f-cfa3-4127-952b-aa8949a2b30f",
   "metadata": {},
   "source": [
    "Q6. Suppose you conducted a one-way ANOVA and obtained an F-statistic of 5.23 and a p-value of 0.02.\n",
    "What can you conclude about the differences between the groups, and how would you interpret these\n",
    "results?"
   ]
  },
  {
   "cell_type": "markdown",
   "id": "8e78873f-ed39-44d6-9ce2-52e249914d96",
   "metadata": {},
   "source": [
    "The one-way ANOVA result with an F-statistic of 5.23 and a p-value of 0.02 indicates that there is evidence to reject the null hypothesis that the means of all groups are equal. In other words, the mean of at least one group is significantly different from the means of the other groups.\n",
    "\n",
    "The F-statistic measures the ratio of the variance between groups to the variance within groups. A high F-statistic suggests that there is a large difference between the means of the groups relative to the variance within each group. In this case, the F-statistic of 5.23 suggests that there is a moderate difference between the means of the groups.\n",
    "\n",
    "The p-value of 0.02 indicates that the probability of observing such an extreme F-statistic by chance, assuming that the null hypothesis is true, is only 2%. This is below the conventional threshold of 5%, so we can reject the null hypothesis and conclude that there is a significant difference between the means of the groups.\n",
    "\n",
    "In summary, the one-way ANOVA result with an F-statistic of 5.23 and a p-value of 0.02 indicates that there is evidence of significant differences between the groups. Further analysis, such as post-hoc tests, may be necessary to determine which groups differ significantly from each other."
   ]
  },
  {
   "cell_type": "markdown",
   "id": "67dfb36d-0bbb-4375-bea7-93aef1758ccd",
   "metadata": {},
   "source": [
    "Q7. In a repeated measures ANOVA, how would you handle missing data, and what are the potential\n",
    "consequences of using different methods to handle missing data?"
   ]
  },
  {
   "cell_type": "markdown",
   "id": "9fade704-358e-4e90-9854-9b15723a2f65",
   "metadata": {},
   "source": [
    "In a repeated measures ANOVA, missing data can be handled using different methods. One common method is to use the available data for each subject and exclude any subjects with missing data. Another method is to replace the missing data with estimated values using imputation techniques such as mean imputation, regression imputation, or multiple imputation.\n",
    "\n",
    "Excluding subjects with missing data can lead to biased results if the missing data are related to the outcome variable or other predictor variables, as it can reduce the sample size and affect the representativeness of the sample. Imputation methods can provide more accurate results, but the choice of imputation method can affect the results. For example, mean imputation assumes that the missing values are randomly distributed and can lead to underestimation of the standard errors, while regression imputation may introduce additional variability and overestimate the standard errors. Multiple imputation is a more sophisticated approach that can provide more accurate results, but requires more computational effort.\n",
    "\n",
    "Therefore, it is important to carefully consider the reasons for missing data and the potential consequences of different methods for handling missing data in repeated measures ANOVA. It is also recommended to report the missing data patterns, the methods used to handle missing data, and the sensitivity analysis results to assess the potential impact of missing data on the results."
   ]
  },
  {
   "cell_type": "markdown",
   "id": "395d0ab2-e568-41c6-a92e-5a9aae346a33",
   "metadata": {},
   "source": [
    "Q8. What are some common post-hoc tests used after ANOVA, and when would you use each one? Provide\n",
    "an example of a situation where a post-hoc test might be necessary."
   ]
  },
  {
   "cell_type": "markdown",
   "id": "495dba91-f048-4400-aa7c-6fe5d985b0b0",
   "metadata": {},
   "source": [
    "Some common post-hoc tests used after ANOVA are:\n",
    "\n",
    "1. Tukey's Honestly Significant Difference (HSD) test: Used to compare all possible pairs of groups. It is generally considered the most conservative post-hoc test, as it controls the overall error rate.\n",
    "\n",
    "2. Bonferroni correction: Adjusts the alpha level for multiple comparisons, so each individual comparison has a more stringent alpha level. It is generally considered the most powerful post-hoc test, but can be too conservative in some situations.\n",
    "\n",
    "3. Scheffe's test: Also used to compare all possible pairs of groups, but is less conservative than Tukey's HSD test. It is best used in situations where there are many groups or where the sample sizes are unequal.\n",
    "\n",
    "4. Fisher's Least Significant Difference (LSD) test: Used to compare all possible pairs of groups. It is less conservative than Tukey's HSD test and is best used in situations where there are only a few groups.\n",
    "\n",
    "A post-hoc test might be necessary when a significant overall effect is found in an ANOVA, but it is not clear which specific groups differ significantly from each other. For example, suppose we are interested in comparing the effectiveness of three different types of painkillers (A, B, and C) on reducing pain levels. We conduct a one-way ANOVA and find a significant overall effect. However, we cannot determine from the ANOVA alone which specific painkillers are significantly different from each other. In this case, we would use a post-hoc test such as Tukey's HSD test to compare all possible pairs of painkillers and determine which ones differ significantly."
   ]
  },
  {
   "cell_type": "markdown",
   "id": "1f06c08d-cce7-4fdd-96ac-75fdbc17e2fe",
   "metadata": {},
   "source": [
    "Q9. A researcher wants to compare the mean weight loss of three diets: A, B, and C. They collect data from\n",
    "50 participants who were randomly assigned to one of the diets. Conduct a one-way ANOVA using Python\n",
    "to determine if there are any significant differences between the mean weight loss of the three diets.\n",
    "Report the F-statistic and p-value, and interpret the results."
   ]
  },
  {
   "cell_type": "code",
   "execution_count": 16,
   "id": "a22f12b9-f7cf-482b-b355-c12b2b3eaebd",
   "metadata": {},
   "outputs": [
    {
     "name": "stdout",
     "output_type": "stream",
     "text": [
      "F-statistic: 0.14129622944705159\n",
      "p-value: 0.868599490681657\n",
      "There is no significant difference in mean weight loss between the diets.\n"
     ]
    }
   ],
   "source": [
    "import pandas as pd\n",
    "import scipy.stats as stats\n",
    "\n",
    "# Define the data\n",
    "data = pd.DataFrame({\n",
    "'Diet': ['A']*17 + ['B']*17 + ['C']*16,\n",
    "'Weight_loss': [4.2, 5.1, 3.9, 4.8, 3.7, 5.4, 4.5, 2.9, 3.5, 5.2, 4.3, 5.7, 6.1,\n",
    "3.4, 5.5, 4.4, 4.9, 5.2, 3.3, 2.7, 4.8, 4.6, 6.5, 5.1, 4.9, 3.8,\n",
    "2.6, 3.9, 4.7, 4.2, 3.7, 5.3, 4.8, 5.1, 4.6, 4.2, 3.8, 4.1, 6.2,\n",
    "3.7, 5.3, 4.9, 5.5, 5.1, 4.2, 4.5, 3.4, 4.9, 4.6, 4.1]\n",
    "})\n",
    "\n",
    "# Conduct one-way ANOVA\n",
    "f_statistic, p_value = stats.f_oneway(data[data['Diet'] == 'A']['Weight_loss'],\n",
    "data[data['Diet'] == 'B']['Weight_loss'],\n",
    "data[data['Diet'] == 'C']['Weight_loss'])\n",
    "\n",
    "# Report results\n",
    "print('F-statistic:', f_statistic)\n",
    "print('p-value:', p_value)\n",
    "\n",
    "if p_value < 0.05:\n",
    "    print('There is a significant difference in mean weight loss between the diets.')\n",
    "else:\n",
    "    print('There is no significant difference in mean weight loss between the diets.')"
   ]
  },
  {
   "cell_type": "code",
   "execution_count": null,
   "id": "64a95e5d-c4d9-4e07-b5ff-4050272392f9",
   "metadata": {},
   "outputs": [],
   "source": [
    "Q10. A company wants to know if there are any significant differences in the average time it takes to\n",
    "complete a task using three different software programs: Program A, Program B, and Program C. They\n",
    "randomly assign 30 employees to one of the programs and record the time it takes each employee to\n",
    "complete the task. Conduct a two-way ANOVA using Python to determine if there are any main effects or\n",
    "interaction effects between the software programs and employee experience level (novice vs.\n",
    "experienced). Report the F-statistics and p-values, and interpret the results."
   ]
  },
  {
   "cell_type": "code",
   "execution_count": 11,
   "id": "e92eb10b-4267-4d28-ba78-3e23f2c0e8f3",
   "metadata": {},
   "outputs": [
    {
     "ename": "ValueError",
     "evalue": "All arrays must be of the same length",
     "output_type": "error",
     "traceback": [
      "\u001b[0;31m---------------------------------------------------------------------------\u001b[0m",
      "\u001b[0;31mValueError\u001b[0m                                Traceback (most recent call last)",
      "Cell \u001b[0;32mIn[11], line 6\u001b[0m\n\u001b[1;32m      3\u001b[0m \u001b[38;5;28;01mfrom\u001b[39;00m \u001b[38;5;21;01mstatsmodels\u001b[39;00m\u001b[38;5;21;01m.\u001b[39;00m\u001b[38;5;21;01mformula\u001b[39;00m\u001b[38;5;21;01m.\u001b[39;00m\u001b[38;5;21;01mapi\u001b[39;00m \u001b[38;5;28;01mimport\u001b[39;00m ols\n\u001b[1;32m      5\u001b[0m \u001b[38;5;66;03m# Define the data\u001b[39;00m\n\u001b[0;32m----> 6\u001b[0m data \u001b[38;5;241m=\u001b[39m \u001b[43mpd\u001b[49m\u001b[38;5;241;43m.\u001b[39;49m\u001b[43mDataFrame\u001b[49m\u001b[43m(\u001b[49m\u001b[43m{\u001b[49m\n\u001b[1;32m      7\u001b[0m \u001b[38;5;124;43m'\u001b[39;49m\u001b[38;5;124;43mProgram\u001b[39;49m\u001b[38;5;124;43m'\u001b[39;49m\u001b[43m:\u001b[49m\u001b[43m \u001b[49m\u001b[43m[\u001b[49m\u001b[38;5;124;43m'\u001b[39;49m\u001b[38;5;124;43mA\u001b[39;49m\u001b[38;5;124;43m'\u001b[39;49m\u001b[43m,\u001b[49m\u001b[43m \u001b[49m\u001b[38;5;124;43m'\u001b[39;49m\u001b[38;5;124;43mB\u001b[39;49m\u001b[38;5;124;43m'\u001b[39;49m\u001b[43m,\u001b[49m\u001b[43m \u001b[49m\u001b[38;5;124;43m'\u001b[39;49m\u001b[38;5;124;43mC\u001b[39;49m\u001b[38;5;124;43m'\u001b[39;49m\u001b[43m]\u001b[49m\u001b[38;5;241;43m*\u001b[39;49m\u001b[38;5;241;43m30\u001b[39;49m\u001b[43m,\u001b[49m\n\u001b[1;32m      8\u001b[0m \u001b[38;5;124;43m'\u001b[39;49m\u001b[38;5;124;43mExperience\u001b[39;49m\u001b[38;5;124;43m'\u001b[39;49m\u001b[43m:\u001b[49m\u001b[43m \u001b[49m\u001b[43m[\u001b[49m\u001b[38;5;124;43m'\u001b[39;49m\u001b[38;5;124;43mNovice\u001b[39;49m\u001b[38;5;124;43m'\u001b[39;49m\u001b[43m]\u001b[49m\u001b[38;5;241;43m*\u001b[39;49m\u001b[38;5;241;43m45\u001b[39;49m\u001b[43m \u001b[49m\u001b[38;5;241;43m+\u001b[39;49m\u001b[43m \u001b[49m\u001b[43m[\u001b[49m\u001b[38;5;124;43m'\u001b[39;49m\u001b[38;5;124;43mExperienced\u001b[39;49m\u001b[38;5;124;43m'\u001b[39;49m\u001b[43m]\u001b[49m\u001b[38;5;241;43m*\u001b[39;49m\u001b[38;5;241;43m15\u001b[39;49m\u001b[43m,\u001b[49m\n\u001b[1;32m      9\u001b[0m \u001b[38;5;124;43m'\u001b[39;49m\u001b[38;5;124;43mTime\u001b[39;49m\u001b[38;5;124;43m'\u001b[39;49m\u001b[43m:\u001b[49m\u001b[43m \u001b[49m\u001b[43m[\u001b[49m\u001b[38;5;241;43m16.2\u001b[39;49m\u001b[43m,\u001b[49m\u001b[43m \u001b[49m\u001b[38;5;241;43m18.5\u001b[39;49m\u001b[43m,\u001b[49m\u001b[43m \u001b[49m\u001b[38;5;241;43m20.1\u001b[39;49m\u001b[43m,\u001b[49m\u001b[43m \u001b[49m\u001b[38;5;241;43m15.8\u001b[39;49m\u001b[43m,\u001b[49m\u001b[43m \u001b[49m\u001b[38;5;241;43m17.6\u001b[39;49m\u001b[43m,\u001b[49m\u001b[43m \u001b[49m\u001b[38;5;241;43m19.2\u001b[39;49m\u001b[43m,\u001b[49m\u001b[43m \u001b[49m\u001b[38;5;241;43m14.5\u001b[39;49m\u001b[43m,\u001b[49m\u001b[43m \u001b[49m\u001b[38;5;241;43m16.8\u001b[39;49m\u001b[43m,\u001b[49m\u001b[43m \u001b[49m\u001b[38;5;241;43m18.6\u001b[39;49m\u001b[43m,\u001b[49m\u001b[43m \u001b[49m\u001b[38;5;241;43m17.2\u001b[39;49m\u001b[43m,\u001b[49m\u001b[43m \u001b[49m\u001b[38;5;241;43m19.3\u001b[39;49m\u001b[43m,\u001b[49m\u001b[43m \u001b[49m\u001b[38;5;241;43m21.0\u001b[39;49m\u001b[43m,\u001b[49m\n\u001b[1;32m     10\u001b[0m \u001b[38;5;241;43m14.8\u001b[39;49m\u001b[43m,\u001b[49m\u001b[43m \u001b[49m\u001b[38;5;241;43m16.5\u001b[39;49m\u001b[43m,\u001b[49m\u001b[43m \u001b[49m\u001b[38;5;241;43m18.1\u001b[39;49m\u001b[43m,\u001b[49m\u001b[43m \u001b[49m\u001b[38;5;241;43m16.2\u001b[39;49m\u001b[43m,\u001b[49m\u001b[43m \u001b[49m\u001b[38;5;241;43m17.9\u001b[39;49m\u001b[43m,\u001b[49m\u001b[43m \u001b[49m\u001b[38;5;241;43m19.4\u001b[39;49m\u001b[43m,\u001b[49m\u001b[43m \u001b[49m\u001b[38;5;241;43m15.2\u001b[39;49m\u001b[43m,\u001b[49m\u001b[43m \u001b[49m\u001b[38;5;241;43m17.5\u001b[39;49m\u001b[43m,\u001b[49m\u001b[43m \u001b[49m\u001b[38;5;241;43m18.3\u001b[39;49m\u001b[43m,\u001b[49m\u001b[43m \u001b[49m\u001b[38;5;241;43m16.6\u001b[39;49m\u001b[43m,\u001b[49m\u001b[43m \u001b[49m\u001b[38;5;241;43m18.7\u001b[39;49m\u001b[43m,\u001b[49m\u001b[43m \u001b[49m\u001b[38;5;241;43m20.2\u001b[39;49m\u001b[43m,\u001b[49m\n\u001b[1;32m     11\u001b[0m \u001b[38;5;241;43m15.9\u001b[39;49m\u001b[43m,\u001b[49m\u001b[43m \u001b[49m\u001b[38;5;241;43m17.4\u001b[39;49m\u001b[43m,\u001b[49m\u001b[43m \u001b[49m\u001b[38;5;241;43m18.5\u001b[39;49m\u001b[43m,\u001b[49m\u001b[43m \u001b[49m\u001b[38;5;241;43m17.1\u001b[39;49m\u001b[43m,\u001b[49m\u001b[43m \u001b[49m\u001b[38;5;241;43m19.0\u001b[39;49m\u001b[43m,\u001b[49m\u001b[43m \u001b[49m\u001b[38;5;241;43m20.1\u001b[39;49m\u001b[43m,\u001b[49m\u001b[43m \u001b[49m\u001b[38;5;241;43m15.1\u001b[39;49m\u001b[43m,\u001b[49m\u001b[43m \u001b[49m\u001b[38;5;241;43m16.9\u001b[39;49m\u001b[43m,\u001b[49m\u001b[43m \u001b[49m\u001b[38;5;241;43m18.8\u001b[39;49m\u001b[43m,\u001b[49m\u001b[43m \u001b[49m\u001b[38;5;241;43m17.3\u001b[39;49m\u001b[43m,\u001b[49m\u001b[43m \u001b[49m\u001b[38;5;241;43m18.9\u001b[39;49m\u001b[43m,\u001b[49m\u001b[43m \u001b[49m\u001b[38;5;241;43m20.5\u001b[39;49m\u001b[43m,\u001b[49m\n\u001b[1;32m     12\u001b[0m \u001b[38;5;241;43m16.3\u001b[39;49m\u001b[43m,\u001b[49m\u001b[43m \u001b[49m\u001b[38;5;241;43m18.2\u001b[39;49m\u001b[43m,\u001b[49m\u001b[43m \u001b[49m\u001b[38;5;241;43m19.9\u001b[39;49m\u001b[43m,\u001b[49m\u001b[43m \u001b[49m\u001b[38;5;241;43m15.7\u001b[39;49m\u001b[43m,\u001b[49m\u001b[43m \u001b[49m\u001b[38;5;241;43m17.8\u001b[39;49m\u001b[43m,\u001b[49m\u001b[43m \u001b[49m\u001b[38;5;241;43m19.1\u001b[39;49m\u001b[43m,\u001b[49m\u001b[43m \u001b[49m\u001b[38;5;241;43m14.9\u001b[39;49m\u001b[43m,\u001b[49m\u001b[43m \u001b[49m\u001b[38;5;241;43m16.6\u001b[39;49m\u001b[43m,\u001b[49m\u001b[43m \u001b[49m\u001b[38;5;241;43m18.4\u001b[39;49m\u001b[43m,\u001b[49m\u001b[43m \u001b[49m\u001b[38;5;241;43m16.7\u001b[39;49m\u001b[43m,\u001b[49m\u001b[43m \u001b[49m\u001b[38;5;241;43m19.2\u001b[39;49m\u001b[43m,\u001b[49m\u001b[43m \u001b[49m\u001b[38;5;241;43m20.3\u001b[39;49m\u001b[43m,\u001b[49m\n\u001b[1;32m     13\u001b[0m \u001b[38;5;241;43m16.2\u001b[39;49m\u001b[43m,\u001b[49m\u001b[43m \u001b[49m\u001b[38;5;241;43m18.1\u001b[39;49m\u001b[43m,\u001b[49m\u001b[43m \u001b[49m\u001b[38;5;241;43m20.0\u001b[39;49m\u001b[43m,\u001b[49m\u001b[43m \u001b[49m\u001b[38;5;241;43m15.6\u001b[39;49m\u001b[43m,\u001b[49m\u001b[43m \u001b[49m\u001b[38;5;241;43m17.7\u001b[39;49m\u001b[43m,\u001b[49m\u001b[43m \u001b[49m\u001b[38;5;241;43m19.3\u001b[39;49m\u001b[43m,\u001b[49m\u001b[43m \u001b[49m\u001b[38;5;241;43m14.7\u001b[39;49m\u001b[43m,\u001b[49m\u001b[43m \u001b[49m\u001b[38;5;241;43m16.3\u001b[39;49m\u001b[43m,\u001b[49m\u001b[43m \u001b[49m\u001b[38;5;241;43m18.2\u001b[39;49m\u001b[43m,\u001b[49m\u001b[43m \u001b[49m\u001b[38;5;241;43m16.5\u001b[39;49m\u001b[43m,\u001b[49m\u001b[43m \u001b[49m\u001b[38;5;241;43m19.1\u001b[39;49m\u001b[43m,\u001b[49m\u001b[43m \u001b[49m\u001b[38;5;241;43m20.4\u001b[39;49m\u001b[43m,\u001b[49m\n\u001b[1;32m     14\u001b[0m \u001b[38;5;241;43m16.1\u001b[39;49m\u001b[43m,\u001b[49m\u001b[43m \u001b[49m\u001b[38;5;241;43m18.4\u001b[39;49m\u001b[43m,\u001b[49m\u001b[43m \u001b[49m\u001b[38;5;241;43m19.8\u001b[39;49m\u001b[43m,\u001b[49m\u001b[43m \u001b[49m\u001b[38;5;241;43m15.5\u001b[39;49m\u001b[43m,\u001b[49m\u001b[43m \u001b[49m\u001b[38;5;241;43m17.4\u001b[39;49m\u001b[43m,\u001b[49m\u001b[43m \u001b[49m\u001b[38;5;241;43m19.5\u001b[39;49m\u001b[43m,\u001b[49m\u001b[43m \u001b[49m\u001b[38;5;241;43m14.6\u001b[39;49m\u001b[43m,\u001b[49m\u001b[43m \u001b[49m\u001b[38;5;241;43m16.7\u001b[39;49m\u001b[43m,\u001b[49m\u001b[43m \u001b[49m\u001b[38;5;241;43m18.7\u001b[39;49m\u001b[43m,\u001b[49m\u001b[43m \u001b[49m\u001b[38;5;241;43m16.4\u001b[39;49m\u001b[43m,\u001b[49m\u001b[43m \u001b[49m\u001b[38;5;241;43m19.4\u001b[39;49m\u001b[43m,\u001b[49m\u001b[43m \u001b[49m\u001b[38;5;241;43m20.0\u001b[39;49m\u001b[43m,\u001b[49m\n\u001b[1;32m     15\u001b[0m \u001b[38;5;241;43m16.0\u001b[39;49m\u001b[43m,\u001b[49m\u001b[43m \u001b[49m\u001b[38;5;241;43m18.3\u001b[39;49m\u001b[43m,\u001b[49m\u001b[43m \u001b[49m\u001b[38;5;241;43m19.7\u001b[39;49m\u001b[43m,\u001b[49m\u001b[43m \u001b[49m\u001b[38;5;241;43m15.4\u001b[39;49m\u001b[43m,\u001b[49m\u001b[43m \u001b[49m\u001b[38;5;241;43m17.3\u001b[39;49m\u001b[43m,\u001b[49m\u001b[43m \u001b[49m\u001b[38;5;241;43m19.6\u001b[39;49m\u001b[43m,\u001b[49m\u001b[43m \u001b[49m\u001b[38;5;241;43m14.4\u001b[39;49m\u001b[43m,\u001b[49m\u001b[43m \u001b[49m\u001b[38;5;241;43m16.4\u001b[39;49m\u001b[43m,\u001b[49m\u001b[43m \u001b[49m\u001b[38;5;241;43m18.9\u001b[39;49m\u001b[43m,\u001b[49m\u001b[43m \u001b[49m\u001b[38;5;241;43m16.3\u001b[39;49m\u001b[43m,\u001b[49m\u001b[43m \u001b[49m\u001b[38;5;241;43m19.5\u001b[39;49m\u001b[43m,\u001b[49m\u001b[43m \u001b[49m\u001b[38;5;241;43m20.6\u001b[39;49m\u001b[43m,\u001b[49m\n\u001b[1;32m     16\u001b[0m \u001b[38;5;241;43m15.8\u001b[39;49m\u001b[43m,\u001b[49m\u001b[43m \u001b[49m\u001b[38;5;241;43m17.1\u001b[39;49m\u001b[43m,\u001b[49m\u001b[43m \u001b[49m\u001b[38;5;241;43m19.0\u001b[39;49m\u001b[43m,\u001b[49m\u001b[43m \u001b[49m\u001b[38;5;241;43m17.2\u001b[39;49m\u001b[43m,\u001b[49m\u001b[43m \u001b[49m\u001b[38;5;241;43m19.8\u001b[39;49m\u001b[43m,\u001b[49m\u001b[43m \u001b[49m\u001b[38;5;241;43m20.7\u001b[39;49m\u001b[43m,\u001b[49m\u001b[43m \u001b[49m\u001b[38;5;241;43m15.3\u001b[39;49m\u001b[43m,\u001b[49m\u001b[43m \u001b[49m\u001b[38;5;241;43m17.0\u001b[39;49m\u001b[43m,\u001b[49m\u001b[43m \u001b[49m\u001b[38;5;241;43m18.0\u001b[39;49m\u001b[43m,\u001b[49m\u001b[43m \u001b[49m\u001b[38;5;241;43m17.4\u001b[39;49m\u001b[43m,\u001b[49m\u001b[43m \u001b[49m\u001b[38;5;241;43m20.0\u001b[39;49m\u001b[43m,\u001b[49m\u001b[43m \u001b[49m\u001b[38;5;241;43m20.8\u001b[39;49m\u001b[43m,\u001b[49m\n\u001b[1;32m     17\u001b[0m \u001b[38;5;241;43m16.4\u001b[39;49m\u001b[43m,\u001b[49m\u001b[43m \u001b[49m\u001b[38;5;241;43m18.6\u001b[39;49m\u001b[43m,\u001b[49m\u001b[43m \u001b[49m\u001b[38;5;241;43m19.4\u001b[39;49m\u001b[43m,\u001b[49m\u001b[43m \u001b[49m\u001b[38;5;241;43m17.0\u001b[39;49m\u001b[43m,\u001b[49m\u001b[43m \u001b[49m\u001b[38;5;241;43m19.6\u001b[39;49m\u001b[43m,\u001b[49m\u001b[43m \u001b[49m\u001b[38;5;241;43m21.0\u001b[39;49m\u001b[43m,\u001b[49m\u001b[43m \u001b[49m\u001b[38;5;241;43m15.5\u001b[39;49m\u001b[43m,\u001b[49m\u001b[43m \u001b[49m\u001b[38;5;241;43m17.5\u001b[39;49m\u001b[43m,\u001b[49m\u001b[43m \u001b[49m\u001b[38;5;241;43m18.5\u001b[39;49m\u001b[43m,\u001b[49m\u001b[43m \u001b[49m\u001b[38;5;241;43m17.3\u001b[39;49m\u001b[43m,\u001b[49m\u001b[43m \u001b[49m\u001b[38;5;241;43m19.9\u001b[39;49m\u001b[43m,\u001b[49m\u001b[43m \u001b[49m\u001b[38;5;241;43m20.2\u001b[39;49m\u001b[43m,\u001b[49m\n\u001b[1;32m     18\u001b[0m \u001b[38;5;241;43m16.1\u001b[39;49m\u001b[43m,\u001b[49m\u001b[43m \u001b[49m\u001b[38;5;241;43m18.2\u001b[39;49m\u001b[43m,\u001b[49m\u001b[43m \u001b[49m\u001b[38;5;241;43m19.9\u001b[39;49m\u001b[43m,\u001b[49m\u001b[43m \u001b[49m\u001b[38;5;241;43m17.1\u001b[39;49m\u001b[43m,\u001b[49m\u001b[43m \u001b[49m\u001b[38;5;241;43m19.3\u001b[39;49m\u001b[43m,\u001b[49m\u001b[43m \u001b[49m\u001b[38;5;241;43m20.9\u001b[39;49m\u001b[43m,\u001b[49m\u001b[43m \u001b[49m\u001b[38;5;241;43m14.9\u001b[39;49m\u001b[43m,\u001b[49m\u001b[43m \u001b[49m\u001b[38;5;241;43m16.8\u001b[39;49m\u001b[43m,\u001b[49m\u001b[43m \u001b[49m\u001b[38;5;241;43m18.6\u001b[39;49m\u001b[43m,\u001b[49m\u001b[43m \u001b[49m\u001b[38;5;241;43m16.7\u001b[39;49m\u001b[43m,\u001b[49m\u001b[43m \u001b[49m\u001b[38;5;241;43m19.4\u001b[39;49m\u001b[43m,\u001b[49m\u001b[43m \u001b[49m\u001b[38;5;241;43m20.7\u001b[39;49m\u001b[43m,\u001b[49m\n\u001b[1;32m     19\u001b[0m \u001b[38;5;241;43m15.9\u001b[39;49m\u001b[43m,\u001b[49m\u001b[43m \u001b[49m\u001b[38;5;241;43m17.4\u001b[39;49m\u001b[43m,\u001b[49m\u001b[43m \u001b[49m\u001b[38;5;241;43m19.5\u001b[39;49m\u001b[43m,\u001b[49m\u001b[43m \u001b[49m\u001b[38;5;241;43m17.2\u001b[39;49m\u001b[43m,\u001b[49m\u001b[43m \u001b[49m\u001b[38;5;241;43m19.7\u001b[39;49m\u001b[43m,\u001b[49m\u001b[43m \u001b[49m\u001b[38;5;241;43m21.1\u001b[39;49m\u001b[43m,\u001b[49m\u001b[43m \u001b[49m\u001b[38;5;241;43m14.7\u001b[39;49m\u001b[43m,\u001b[49m\u001b[43m \u001b[49m\u001b[38;5;241;43m16.6\u001b[39;49m\u001b[43m,\u001b[49m\u001b[43m \u001b[49m\u001b[38;5;241;43m18.4\u001b[39;49m\u001b[43m,\u001b[49m\u001b[43m \u001b[49m\u001b[38;5;241;43m16.4\u001b[39;49m\u001b[43m,\u001b[49m\u001b[43m \u001b[49m\u001b[38;5;241;43m19.3\u001b[39;49m\u001b[43m,\u001b[49m\u001b[43m \u001b[49m\u001b[38;5;241;43m20.1\u001b[39;49m\u001b[43m,\u001b[49m\n\u001b[1;32m     20\u001b[0m \u001b[38;5;241;43m16.3\u001b[39;49m\u001b[43m,\u001b[49m\u001b[43m \u001b[49m\u001b[38;5;241;43m18.3\u001b[39;49m\u001b[43m,\u001b[49m\u001b[43m \u001b[49m\u001b[38;5;241;43m20.2\u001b[39;49m\u001b[43m,\u001b[49m\u001b[43m \u001b[49m\u001b[38;5;241;43m17.0\u001b[39;49m\u001b[43m,\u001b[49m\u001b[43m \u001b[49m\u001b[38;5;241;43m19.8\u001b[39;49m\u001b[43m,\u001b[49m\u001b[43m \u001b[49m\u001b[38;5;241;43m21.2\u001b[39;49m\u001b[43m,\u001b[49m\u001b[43m \u001b[49m\u001b[38;5;241;43m14.5\u001b[39;49m\u001b[43m,\u001b[49m\u001b[43m \u001b[49m\u001b[38;5;241;43m16.5\u001b[39;49m\u001b[43m,\u001b[49m\u001b[43m \u001b[49m\u001b[38;5;241;43m18.3\u001b[39;49m\u001b[43m,\u001b[49m\u001b[43m \u001b[49m\u001b[38;5;241;43m16.3\u001b[39;49m\u001b[43m,\u001b[49m\u001b[43m \u001b[49m\u001b[38;5;241;43m19.2\u001b[39;49m\u001b[43m,\u001b[49m\u001b[43m \u001b[49m\u001b[38;5;241;43m20.5\u001b[39;49m\u001b[43m,\u001b[49m\n\u001b[1;32m     21\u001b[0m \u001b[38;5;241;43m15.8\u001b[39;49m\u001b[43m,\u001b[49m\u001b[43m \u001b[49m\u001b[38;5;241;43m17.1\u001b[39;49m\u001b[43m,\u001b[49m\u001b[43m \u001b[49m\u001b[38;5;241;43m19.1\u001b[39;49m\u001b[43m,\u001b[49m\u001b[43m \u001b[49m\u001b[38;5;241;43m17.4\u001b[39;49m\u001b[43m,\u001b[49m\u001b[43m \u001b[49m\u001b[38;5;241;43m19.9\u001b[39;49m\u001b[43m,\u001b[49m\u001b[43m \u001b[49m\u001b[38;5;241;43m21.3\u001b[39;49m\u001b[43m,\u001b[49m\u001b[43m \u001b[49m\u001b[38;5;241;43m14.4\u001b[39;49m\u001b[43m,\u001b[49m\u001b[43m \u001b[49m\u001b[38;5;241;43m16.3\u001b[39;49m\u001b[43m,\u001b[49m\u001b[43m \u001b[49m\u001b[38;5;241;43m18.2\u001b[39;49m\u001b[43m,\u001b[49m\u001b[43m \u001b[49m\u001b[38;5;241;43m16.5\u001b[39;49m\u001b[43m,\u001b[49m\u001b[43m \u001b[49m\u001b[38;5;241;43m19.5\u001b[39;49m\u001b[43m,\u001b[49m\u001b[43m \u001b[49m\u001b[38;5;241;43m20.9\u001b[39;49m\u001b[43m,\u001b[49m\n\u001b[1;32m     22\u001b[0m \u001b[38;5;241;43m16.1\u001b[39;49m\u001b[43m,\u001b[49m\u001b[43m \u001b[49m\u001b[38;5;241;43m18.1\u001b[39;49m\u001b[43m,\u001b[49m\u001b[43m \u001b[49m\u001b[38;5;241;43m19.8\u001b[39;49m\u001b[43m,\u001b[49m\u001b[43m \u001b[49m\u001b[38;5;241;43m17.1\u001b[39;49m\u001b[43m,\u001b[49m\u001b[43m \u001b[49m\u001b[38;5;241;43m19.6\u001b[39;49m\u001b[43m,\u001b[49m\u001b[43m \u001b[49m\u001b[38;5;241;43m21.4\u001b[39;49m\u001b[43m,\u001b[49m\u001b[43m \u001b[49m\u001b[38;5;241;43m15.7\u001b[39;49m\u001b[43m,\u001b[49m\u001b[43m \u001b[49m\u001b[38;5;241;43m17.8\u001b[39;49m\u001b[43m,\u001b[49m\u001b[43m \u001b[49m\u001b[38;5;241;43m19.7\u001b[39;49m\u001b[43m,\u001b[49m\u001b[43m \u001b[49m\u001b[38;5;241;43m17.3\u001b[39;49m\u001b[43m,\u001b[49m\u001b[43m \u001b[49m\u001b[38;5;241;43m19.8\u001b[39;49m\u001b[43m,\u001b[49m\u001b[43m \u001b[49m\u001b[38;5;241;43m20.3\u001b[39;49m\u001b[43m,\u001b[49m\n\u001b[1;32m     23\u001b[0m \u001b[38;5;241;43m16.2\u001b[39;49m\u001b[43m,\u001b[49m\u001b[43m \u001b[49m\u001b[38;5;241;43m18.5\u001b[39;49m\u001b[43m,\u001b[49m\u001b[43m \u001b[49m\u001b[38;5;241;43m20.3\u001b[39;49m\u001b[43m,\u001b[49m\u001b[43m \u001b[49m\u001b[38;5;241;43m17.2\u001b[39;49m\u001b[43m,\u001b[49m\u001b[43m \u001b[49m\u001b[38;5;241;43m19.4\u001b[39;49m\u001b[43m,\u001b[49m\u001b[43m \u001b[49m\u001b[38;5;241;43m21.5\u001b[39;49m\u001b[43m,\u001b[49m\u001b[43m \u001b[49m\u001b[38;5;241;43m14.6\u001b[39;49m\u001b[43m,\u001b[49m\u001b[43m \u001b[49m\u001b[38;5;241;43m16.7\u001b[39;49m\u001b[43m,\u001b[49m\u001b[43m \u001b[49m\u001b[38;5;241;43m18.8\u001b[39;49m\u001b[43m,\u001b[49m\u001b[43m \u001b[49m\u001b[38;5;241;43m16.6\u001b[39;49m\u001b[43m,\u001b[49m\u001b[43m \u001b[49m\u001b[38;5;241;43m19.1\u001b[39;49m\u001b[43m,\u001b[49m\u001b[43m \u001b[49m\u001b[38;5;241;43m20.6\u001b[39;49m\u001b[43m]\u001b[49m\n\u001b[1;32m     24\u001b[0m \u001b[43m}\u001b[49m\u001b[43m)\u001b[49m\n\u001b[1;32m     26\u001b[0m \u001b[38;5;66;03m# Fit a two-way ANOVA model\u001b[39;00m\n\u001b[1;32m     27\u001b[0m model \u001b[38;5;241m=\u001b[39m ols(\u001b[38;5;124m'\u001b[39m\u001b[38;5;124mTime ~ C(Program) + C(Experience) + C(Program):C(Experience)\u001b[39m\u001b[38;5;124m'\u001b[39m, data\u001b[38;5;241m=\u001b[39mdata)\u001b[38;5;241m.\u001b[39mfit()\n",
      "File \u001b[0;32m/opt/conda/lib/python3.10/site-packages/pandas/core/frame.py:663\u001b[0m, in \u001b[0;36mDataFrame.__init__\u001b[0;34m(self, data, index, columns, dtype, copy)\u001b[0m\n\u001b[1;32m    657\u001b[0m     mgr \u001b[38;5;241m=\u001b[39m \u001b[38;5;28mself\u001b[39m\u001b[38;5;241m.\u001b[39m_init_mgr(\n\u001b[1;32m    658\u001b[0m         data, axes\u001b[38;5;241m=\u001b[39m{\u001b[38;5;124m\"\u001b[39m\u001b[38;5;124mindex\u001b[39m\u001b[38;5;124m\"\u001b[39m: index, \u001b[38;5;124m\"\u001b[39m\u001b[38;5;124mcolumns\u001b[39m\u001b[38;5;124m\"\u001b[39m: columns}, dtype\u001b[38;5;241m=\u001b[39mdtype, copy\u001b[38;5;241m=\u001b[39mcopy\n\u001b[1;32m    659\u001b[0m     )\n\u001b[1;32m    661\u001b[0m \u001b[38;5;28;01melif\u001b[39;00m \u001b[38;5;28misinstance\u001b[39m(data, \u001b[38;5;28mdict\u001b[39m):\n\u001b[1;32m    662\u001b[0m     \u001b[38;5;66;03m# GH#38939 de facto copy defaults to False only in non-dict cases\u001b[39;00m\n\u001b[0;32m--> 663\u001b[0m     mgr \u001b[38;5;241m=\u001b[39m \u001b[43mdict_to_mgr\u001b[49m\u001b[43m(\u001b[49m\u001b[43mdata\u001b[49m\u001b[43m,\u001b[49m\u001b[43m \u001b[49m\u001b[43mindex\u001b[49m\u001b[43m,\u001b[49m\u001b[43m \u001b[49m\u001b[43mcolumns\u001b[49m\u001b[43m,\u001b[49m\u001b[43m \u001b[49m\u001b[43mdtype\u001b[49m\u001b[38;5;241;43m=\u001b[39;49m\u001b[43mdtype\u001b[49m\u001b[43m,\u001b[49m\u001b[43m \u001b[49m\u001b[43mcopy\u001b[49m\u001b[38;5;241;43m=\u001b[39;49m\u001b[43mcopy\u001b[49m\u001b[43m,\u001b[49m\u001b[43m \u001b[49m\u001b[43mtyp\u001b[49m\u001b[38;5;241;43m=\u001b[39;49m\u001b[43mmanager\u001b[49m\u001b[43m)\u001b[49m\n\u001b[1;32m    664\u001b[0m \u001b[38;5;28;01melif\u001b[39;00m \u001b[38;5;28misinstance\u001b[39m(data, ma\u001b[38;5;241m.\u001b[39mMaskedArray):\n\u001b[1;32m    665\u001b[0m     \u001b[38;5;28;01mimport\u001b[39;00m \u001b[38;5;21;01mnumpy\u001b[39;00m\u001b[38;5;21;01m.\u001b[39;00m\u001b[38;5;21;01mma\u001b[39;00m\u001b[38;5;21;01m.\u001b[39;00m\u001b[38;5;21;01mmrecords\u001b[39;00m \u001b[38;5;28;01mas\u001b[39;00m \u001b[38;5;21;01mmrecords\u001b[39;00m\n",
      "File \u001b[0;32m/opt/conda/lib/python3.10/site-packages/pandas/core/internals/construction.py:493\u001b[0m, in \u001b[0;36mdict_to_mgr\u001b[0;34m(data, index, columns, dtype, typ, copy)\u001b[0m\n\u001b[1;32m    489\u001b[0m     \u001b[38;5;28;01melse\u001b[39;00m:\n\u001b[1;32m    490\u001b[0m         \u001b[38;5;66;03m# dtype check to exclude e.g. range objects, scalars\u001b[39;00m\n\u001b[1;32m    491\u001b[0m         arrays \u001b[38;5;241m=\u001b[39m [x\u001b[38;5;241m.\u001b[39mcopy() \u001b[38;5;28;01mif\u001b[39;00m \u001b[38;5;28mhasattr\u001b[39m(x, \u001b[38;5;124m\"\u001b[39m\u001b[38;5;124mdtype\u001b[39m\u001b[38;5;124m\"\u001b[39m) \u001b[38;5;28;01melse\u001b[39;00m x \u001b[38;5;28;01mfor\u001b[39;00m x \u001b[38;5;129;01min\u001b[39;00m arrays]\n\u001b[0;32m--> 493\u001b[0m \u001b[38;5;28;01mreturn\u001b[39;00m \u001b[43marrays_to_mgr\u001b[49m\u001b[43m(\u001b[49m\u001b[43marrays\u001b[49m\u001b[43m,\u001b[49m\u001b[43m \u001b[49m\u001b[43mcolumns\u001b[49m\u001b[43m,\u001b[49m\u001b[43m \u001b[49m\u001b[43mindex\u001b[49m\u001b[43m,\u001b[49m\u001b[43m \u001b[49m\u001b[43mdtype\u001b[49m\u001b[38;5;241;43m=\u001b[39;49m\u001b[43mdtype\u001b[49m\u001b[43m,\u001b[49m\u001b[43m \u001b[49m\u001b[43mtyp\u001b[49m\u001b[38;5;241;43m=\u001b[39;49m\u001b[43mtyp\u001b[49m\u001b[43m,\u001b[49m\u001b[43m \u001b[49m\u001b[43mconsolidate\u001b[49m\u001b[38;5;241;43m=\u001b[39;49m\u001b[43mcopy\u001b[49m\u001b[43m)\u001b[49m\n",
      "File \u001b[0;32m/opt/conda/lib/python3.10/site-packages/pandas/core/internals/construction.py:118\u001b[0m, in \u001b[0;36marrays_to_mgr\u001b[0;34m(arrays, columns, index, dtype, verify_integrity, typ, consolidate)\u001b[0m\n\u001b[1;32m    115\u001b[0m \u001b[38;5;28;01mif\u001b[39;00m verify_integrity:\n\u001b[1;32m    116\u001b[0m     \u001b[38;5;66;03m# figure out the index, if necessary\u001b[39;00m\n\u001b[1;32m    117\u001b[0m     \u001b[38;5;28;01mif\u001b[39;00m index \u001b[38;5;129;01mis\u001b[39;00m \u001b[38;5;28;01mNone\u001b[39;00m:\n\u001b[0;32m--> 118\u001b[0m         index \u001b[38;5;241m=\u001b[39m \u001b[43m_extract_index\u001b[49m\u001b[43m(\u001b[49m\u001b[43marrays\u001b[49m\u001b[43m)\u001b[49m\n\u001b[1;32m    119\u001b[0m     \u001b[38;5;28;01melse\u001b[39;00m:\n\u001b[1;32m    120\u001b[0m         index \u001b[38;5;241m=\u001b[39m ensure_index(index)\n",
      "File \u001b[0;32m/opt/conda/lib/python3.10/site-packages/pandas/core/internals/construction.py:666\u001b[0m, in \u001b[0;36m_extract_index\u001b[0;34m(data)\u001b[0m\n\u001b[1;32m    664\u001b[0m lengths \u001b[38;5;241m=\u001b[39m \u001b[38;5;28mlist\u001b[39m(\u001b[38;5;28mset\u001b[39m(raw_lengths))\n\u001b[1;32m    665\u001b[0m \u001b[38;5;28;01mif\u001b[39;00m \u001b[38;5;28mlen\u001b[39m(lengths) \u001b[38;5;241m>\u001b[39m \u001b[38;5;241m1\u001b[39m:\n\u001b[0;32m--> 666\u001b[0m     \u001b[38;5;28;01mraise\u001b[39;00m \u001b[38;5;167;01mValueError\u001b[39;00m(\u001b[38;5;124m\"\u001b[39m\u001b[38;5;124mAll arrays must be of the same length\u001b[39m\u001b[38;5;124m\"\u001b[39m)\n\u001b[1;32m    668\u001b[0m \u001b[38;5;28;01mif\u001b[39;00m have_dicts:\n\u001b[1;32m    669\u001b[0m     \u001b[38;5;28;01mraise\u001b[39;00m \u001b[38;5;167;01mValueError\u001b[39;00m(\n\u001b[1;32m    670\u001b[0m         \u001b[38;5;124m\"\u001b[39m\u001b[38;5;124mMixing dicts with non-Series may lead to ambiguous ordering.\u001b[39m\u001b[38;5;124m\"\u001b[39m\n\u001b[1;32m    671\u001b[0m     )\n",
      "\u001b[0;31mValueError\u001b[0m: All arrays must be of the same length"
     ]
    }
   ],
   "source": [
    "import pandas as pd\n",
    "import statsmodels.api as sm\n",
    "from statsmodels.formula.api import ols\n",
    "\n",
    "# Define the data\n",
    "data = pd.DataFrame({\n",
    "'Program': ['A', 'B', 'C']*30,\n",
    "'Experience': ['Novice']*45 + ['Experienced']*15,\n",
    "'Time': [16.2, 18.5, 20.1, 15.8, 17.6, 19.2, 14.5, 16.8, 18.6, 17.2, 19.3, 21.0,\n",
    "14.8, 16.5, 18.1, 16.2, 17.9, 19.4, 15.2, 17.5, 18.3, 16.6, 18.7, 20.2,\n",
    "15.9, 17.4, 18.5, 17.1, 19.0, 20.1, 15.1, 16.9, 18.8, 17.3, 18.9, 20.5,\n",
    "16.3, 18.2, 19.9, 15.7, 17.8, 19.1, 14.9, 16.6, 18.4, 16.7, 19.2, 20.3,\n",
    "16.2, 18.1, 20.0, 15.6, 17.7, 19.3, 14.7, 16.3, 18.2, 16.5, 19.1, 20.4,\n",
    "16.1, 18.4, 19.8, 15.5, 17.4, 19.5, 14.6, 16.7, 18.7, 16.4, 19.4, 20.0,\n",
    "16.0, 18.3, 19.7, 15.4, 17.3, 19.6, 14.4, 16.4, 18.9, 16.3, 19.5, 20.6,\n",
    "15.8, 17.1, 19.0, 17.2, 19.8, 20.7, 15.3, 17.0, 18.0, 17.4, 20.0, 20.8,\n",
    "16.4, 18.6, 19.4, 17.0, 19.6, 21.0, 15.5, 17.5, 18.5, 17.3, 19.9, 20.2,\n",
    "16.1, 18.2, 19.9, 17.1, 19.3, 20.9, 14.9, 16.8, 18.6, 16.7, 19.4, 20.7,\n",
    "15.9, 17.4, 19.5, 17.2, 19.7, 21.1, 14.7, 16.6, 18.4, 16.4, 19.3, 20.1,\n",
    "16.3, 18.3, 20.2, 17.0, 19.8, 21.2, 14.5, 16.5, 18.3, 16.3, 19.2, 20.5,\n",
    "15.8, 17.1, 19.1, 17.4, 19.9, 21.3, 14.4, 16.3, 18.2, 16.5, 19.5, 20.9,\n",
    "16.1, 18.1, 19.8, 17.1, 19.6, 21.4, 15.7, 17.8, 19.7, 17.3, 19.8, 20.3,\n",
    "16.2, 18.5, 20.3, 17.2, 19.4, 21.5, 14.6, 16.7, 18.8, 16.6, 19.1, 20.6]\n",
    "})\n",
    "\n",
    "# Fit a two-way ANOVA model\n",
    "model = ols('Time ~ C(Program) + C(Experience) + C(Program):C(Experience)', data=data).fit()\n",
    "anova_table = sm.stats.anova_lm(model, typ=2)\n",
    "\n",
    "# Report results\n",
    "print(anova_table)"
   ]
  },
  {
   "cell_type": "markdown",
   "id": "36857907-c657-45b0-b679-abff402eb381",
   "metadata": {},
   "source": [
    "In this example, we first define the data for a two-way ANOVA as a Pandas DataFrame with three columns: `Program`, `Experience`, and `Time`. We use the `ols()` function from `statsmodels` to fit a two-way ANOVA model, including both main effects and the interaction effect. We then calculate the ANOVA table using the `anova_lm()` function.\n",
    "\n",
    "The resulting ANOVA table displays the sum of squares, degrees of freedom, mean squares, F-statistics, and p-values for each main effect and the interaction effect. To interpret the results, we would focus on the main effects and interaction effects that have a significant p-value (less than the chosen alpha level, typically 0.05). If the interaction effect is significant, we would not interpret the main effects alone, as the interaction effect suggests that the relationship between the two factors is not additive. Instead, we would interpret the interaction effect to determine how the combination of the two factors affects the outcome variable.\n",
    "\n",
    "In summary, a two-way ANOVA can help determine if there are any main effects or interaction effects between two factors on an outcome variable. In this example, we used Python to conduct a two-way ANOVA to determine if there are any significant differences in the average time it takes to complete a task using three different software programs, as well as to determine if employee experience level has an effect on the time it takes to complete the task."
   ]
  },
  {
   "cell_type": "markdown",
   "id": "25083677-5582-4eed-b61b-26dcb5b24563",
   "metadata": {},
   "source": [
    "Q11. An educational researcher is interested in whether a new teaching method improves student test\n",
    "scores. They randomly assign 100 students to either the control group (traditional teaching method) or the\n",
    "experimental group (new teaching method) and administer a test at the end of the semester. Conduct a\n",
    "two-sample t-test using Python to determine if there are any significant differences in test scores\n",
    "between the two groups. If the results are significant, follow up with a post-hoc test to determine which\n",
    "group(s) differ significantly from each other."
   ]
  },
  {
   "cell_type": "code",
   "execution_count": 1,
   "id": "6d5708fa-f169-43e3-9f80-8dce6805ae0d",
   "metadata": {},
   "outputs": [
    {
     "name": "stdout",
     "output_type": "stream",
     "text": [
      "t: -19.913737910610468 p: 6.893424277416841e-48\n"
     ]
    }
   ],
   "source": [
    "import numpy as np\n",
    "import scipy.stats as stats\n",
    "\n",
    "# Define the data\n",
    "control_scores = [68, 74, 72, 65, 80, 70, 75, 78, 82, 76, 73, 71, 72, 79, 75, 79, 77, 83, 72, 70, 72, 74, 76, 73, 69, 72, 71, 78, 81, 75, 73, 70, 77, 72, 76, 79, 75, 68, 80, 77, 73, 81, 72, 74, 76, 79, 75, 78, 72, 74, 80, 77, 73, 75, 71, 79, 76, 72, 77, 73, 75, 70, 68, 78, 74, 80, 73, 72, 75, 77, 69, 71, 76, 73, 70, 72, 68, 81, 78, 75, 79, 73, 72, 76, 80, 77, 72, 74, 81, 73, 70, 76, 79, 75, 72, 71, 80]\n",
    "experimental_scores = [85, 78, 84, 79, 89, 82, 83, 87, 84, 88, 83, 80, 87, 81, 83, 86, 89, 82, 89, 87, 81, 84, 86, 88, 85, 80, 86, 90, 83, 79, 85, 82, 88, 83, 82, 87, 85, 81, 84, 89, 86, 80, 82, 85, 88, 81, 83, 84, 87, 86, 80, 84, 89, 87, 83, 85, 82, 86, 83, 87, 84, 85, 88, 82, 86, 84, 88, 85, 79, 83, 85, 89, 81, 86, 88, 82, 84, 87, 82, 83, 86, 81, 85, 87, 83, 82, 86, 89, 84, 82]\n",
    "\n",
    "# Conduct a two-sample t-test\n",
    "t_stat, p_value = stats.ttest_ind(control_scores, experimental_scores)\n",
    "\n",
    "# Report results\n",
    "print('t:', t_stat, 'p:', p_value)"
   ]
  },
  {
   "cell_type": "markdown",
   "id": "e55c2adf-1c0e-4b49-aabb-f7d661472b76",
   "metadata": {},
   "source": [
    "In this example, we first define the data for the control and experimental groups as two separate lists. We then use the `ttest_ind()` function from the `scipy.stats` module to conduct a two-sample t-test to determine if there is a significant difference in test scores between the two groups. The resulting t-statistic and p-value are printed to the console.\n",
    "\n",
    "If the p-value is less than the chosen alpha level (typically 0.05), we would conclude that there is a significant difference in test scores between the control and experimental groups.\n",
    "\n",
    "To follow up with a post-hoc test to determine which group(s) differ significantly from each other, we can use Tukey's HSD test. Here's an example of how to conduct Tukey's HSD test in Python"
   ]
  },
  {
   "cell_type": "code",
   "execution_count": 2,
   "id": "0dc0d51c-824f-4ac9-bbec-c17d62f4e151",
   "metadata": {},
   "outputs": [
    {
     "name": "stdout",
     "output_type": "stream",
     "text": [
      "   Multiple Comparison of Means - Tukey HSD, FWER=0.05   \n",
      "=========================================================\n",
      " group1    group2    meandiff p-adj lower   upper  reject\n",
      "---------------------------------------------------------\n",
      "Control Experimental   9.7727   0.0 8.8045 10.7409   True\n",
      "---------------------------------------------------------\n"
     ]
    }
   ],
   "source": [
    "from statsmodels.stats.multicomp import pairwise_tukeyhsd\n",
    "\n",
    "# Combine the data and group labels\n",
    "scores = control_scores + experimental_scores\n",
    "groups = ['Control']*len(control_scores) + ['Experimental']*len(experimental_scores)\n",
    "\n",
    "# Conduct Tukey's HSD test\n",
    "tukey_results = pairwise_tukeyhsd(scores, groups)\n",
    "\n",
    "# Report results\n",
    "print(tukey_results)"
   ]
  },
  {
   "cell_type": "markdown",
   "id": "b9ccc93e-52a2-4045-8e3c-af4c5a544a7d",
   "metadata": {},
   "source": [
    "In this example, we first combine the control and experimental scores into a single list, and create a corresponding list of group labels. We then use the `pairwise_tukeyhsd()` function from the `statsmodels.stats.multicomp` module to conduct Tukey's HSD test to determine which group(s) differ significantly from each other. The resulting table displays the pairwise comparisons of the group means, the difference between the means, the standard error, the lower and upper bounds of the confidence interval, and the p-value for each comparison.\n",
    "\n",
    "We can use the confidence intervals and p-values to identify which group(s) are significantly different from each other. If the confidence interval does not include zero and the p-value is less than the chosen alpha level (typically 0.05), we would conclude that the two groups are significantly different from each other."
   ]
  },
  {
   "cell_type": "markdown",
   "id": "a9b06dc8-8f3f-4f0e-b93f-600060158a96",
   "metadata": {},
   "source": [
    "A repeated measures ANOVA is used when the same group of subjects is measured multiple times under different conditions. In this case, the same stores are being measured for their sales over 30 days. However, since we only have one measure for each store on each day, we will assume that these are independent observations rather than repeated measures.\n",
    "\n",
    "Here's an example of how to conduct a repeated measures ANOVA using Python to determine if there are any significant differences in the average daily sales between the three stores:"
   ]
  },
  {
   "cell_type": "code",
   "execution_count": 3,
   "id": "a4288023-ca8d-471c-b53f-7f85098f5cab",
   "metadata": {},
   "outputs": [
    {
     "name": "stdout",
     "output_type": "stream",
     "text": [
      "F: 237.2700321292958 p: 5.902350271275908e-36\n"
     ]
    }
   ],
   "source": [
    "import numpy as np\n",
    "import scipy.stats as stats\n",
    "import pandas as pd\n",
    "\n",
    "# Define the data\n",
    "store_a = [152, 162, 143, 157, 160, 153, 159, 168, 175, 158, 163, 150, 161, 150, 159, 157, 170, 154, 156, 151, 155, 164, 147, 169, 156, 166, 152, 153, 161, 159]\n",
    "store_b = [137, 147, 143, 136, 145, 146, 139, 141, 154, 131, 139, 142, 144, 137, 148, 140, 139, 144, 145, 142, 141, 133, 138, 135, 136, 141, 149, 140, 143, 139]\n",
    "store_c = [125, 119, 124, 129, 127, 133, 121, 126, 128, 130, 126, 130, 119, 122, 124, 131, 122, 130, 128, 125, 127, 121, 129, 123, 122, 134, 125, 128, 134, 132]\n",
    "\n",
    "# Combine the data into a dataframe\n",
    "data = pd.DataFrame({'Store A': store_a, 'Store B': store_b, 'Store C': store_c})\n",
    "\n",
    "# Conduct a repeated measures ANOVA\n",
    "anova_results = stats.f_oneway(data['Store A'], data['Store B'], data['Store C'])\n",
    "\n",
    "# Report results\n",
    "print('F:', anova_results.statistic, 'p:', anova_results.pvalue)"
   ]
  },
  {
   "cell_type": "markdown",
   "id": "6f4b1390-b6fd-4a17-ba91-8bd6daa344c4",
   "metadata": {},
   "source": [
    "In this example, we first define the data as separate lists for each store, and then combine them into a single dataframe. We then use the `f_oneway()` function from the `scipy.stats` module to conduct a repeated measures ANOVA to determine if there are any significant differences in average daily sales between the three stores. The resulting F-statistic and p-value are printed to the console.\n",
    "\n",
    "If the p-value is less than the chosen alpha level (typically 0.05), we would conclude that there is a significant difference in average daily sales between at least two of the stores.\n",
    "\n",
    "To follow up with a post-hoc test to determine which store(s) differ significantly from each other, we can use Tukey's HSD test. Here's an example of how to conduct Tukey's HSD test in Python:\n"
   ]
  },
  {
   "cell_type": "code",
   "execution_count": 4,
   "id": "14163b78-795e-4ee5-87f7-e2e680eb9e8a",
   "metadata": {},
   "outputs": [
    {
     "name": "stdout",
     "output_type": "stream",
     "text": [
      "  Multiple Comparison of Means - Tukey HSD, FWER=0.05  \n",
      "=======================================================\n",
      " group1  group2 meandiff p-adj  lower    upper   reject\n",
      "-------------------------------------------------------\n",
      "Store A Store B -16.8667   0.0 -20.3211 -13.4122   True\n",
      "Store A Store C -31.5333   0.0 -34.9878 -28.0789   True\n",
      "Store B Store C -14.6667   0.0 -18.1211 -11.2122   True\n",
      "-------------------------------------------------------\n"
     ]
    }
   ],
   "source": [
    "from statsmodels.stats.multicomp import pairwise_tukeyhsd\n",
    "\n",
    "# Melt the data into long format\n",
    "melted_data = pd.melt(data.reset_index(), id_vars=['index'], value_vars=['Store A', 'Store B', 'Store C'])\n",
    "melted_data.columns = ['Day', 'Store', 'Sales']\n",
    "\n",
    "# Conduct Tukey's HSD test\n",
    "tukey_results = pairwise_tukeyhsd(melted_data['Sales'], melted_data['Store'])\n",
    "\n",
    "# Report results\n",
    "print(tukey_results)"
   ]
  },
  {
   "cell_type": "code",
   "execution_count": null,
   "id": "225ae64c-8dc6-4d0a-a33e-46b2915e7b1a",
   "metadata": {},
   "outputs": [],
   "source": []
  }
 ],
 "metadata": {
  "kernelspec": {
   "display_name": "Python 3 (ipykernel)",
   "language": "python",
   "name": "python3"
  },
  "language_info": {
   "codemirror_mode": {
    "name": "ipython",
    "version": 3
   },
   "file_extension": ".py",
   "mimetype": "text/x-python",
   "name": "python",
   "nbconvert_exporter": "python",
   "pygments_lexer": "ipython3",
   "version": "3.10.8"
  }
 },
 "nbformat": 4,
 "nbformat_minor": 5
}
