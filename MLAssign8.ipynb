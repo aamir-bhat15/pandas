{
 "cells": [
  {
   "cell_type": "markdown",
   "id": "aaf6485a-4d33-4b18-834d-8773ee763444",
   "metadata": {},
   "source": [
    "Q1. Pearson correlation coefficient is a measure of the linear relationship between two variables. Suppose\n",
    "you have collected data on the amount of time students spend studying for an exam and their final exam\n",
    "scores. Calculate the Pearson correlation coefficient between these two variables and interpret the result."
   ]
  },
  {
   "cell_type": "code",
   "execution_count": 3,
   "id": "335edce1-75ba-44ba-a1a3-384ee2addc23",
   "metadata": {},
   "outputs": [
    {
     "name": "stdout",
     "output_type": "stream",
     "text": [
      "0.9041944301794651\n"
     ]
    }
   ],
   "source": [
    "import numpy as np\n",
    "studying_time = [10, 8, 12, 9, 7]\n",
    "exam_scores = [80, 75, 90, 85, 70]\n",
    "pearsoncoef=np.corrcoef(studying_time,exam_scores)[0,1]\n",
    "print(pearsoncoef)"
   ]
  },
  {
   "cell_type": "markdown",
   "id": "e3d8204e-6aa6-4c30-b956-cba33818bfd0",
   "metadata": {},
   "source": [
    "Pearson correlation coefficient is close to 1, it indicates a strong positive linear relationship. It means that as the amount of time spent studying increases, the final exam scores tend to increase as well."
   ]
  },
  {
   "cell_type": "markdown",
   "id": "fbab068b-df2f-422d-8cab-0d9b69e89f25",
   "metadata": {},
   "source": [
    "Q2. Spearman's rank correlation is a measure of the monotonic relationship between two variables.\n",
    "Suppose you have collected data on the amount of sleep individuals get each night and their overall job\n",
    "satisfaction level on a scale of 1 to 10. Calculate the Spearman's rank correlation between these two\n",
    "variables and interpret the result."
   ]
  },
  {
   "cell_type": "code",
   "execution_count": 12,
   "id": "a620eed6-7ddb-45fb-9c4c-71f8b211dd54",
   "metadata": {},
   "outputs": [
    {
     "name": "stdout",
     "output_type": "stream",
     "text": [
      "0.6842105263157895\n"
     ]
    }
   ],
   "source": [
    "import scipy.stats as stats\n",
    "\n",
    "# Create the example dataset\n",
    "sleep_amount = [7, 6, 8, 5, 7]\n",
    "job_satisfaction = [9, 7, 8, 6, 9]\n",
    "\n",
    "# Calculate the Spearman's rank correlation coefficient\n",
    "spearman_coefficient, _ = stats.spearmanr(sleep_amount, job_satisfaction)\n",
    "\n",
    "# Print the Spearman's rank correlation coefficient\n",
    "print(spearman_coefficient)"
   ]
  },
  {
   "cell_type": "code",
   "execution_count": 18,
   "id": "64cc3199-c7a9-4595-a366-380800bfd61f",
   "metadata": {},
   "outputs": [],
   "source": [
    "import pandas as pd\n",
    "#import seaborn as sns\n",
    "df=pd.DataFrame({'sleep_amount': [7, 6, 8, 5, 7],\n",
    "                'job_satisfaction': [9, 7, 8, 6, 9]})"
   ]
  },
  {
   "cell_type": "code",
   "execution_count": 22,
   "id": "99156cd5-3bda-4fc7-b836-b0944904d89d",
   "metadata": {},
   "outputs": [
    {
     "data": {
      "text/html": [
       "<div>\n",
       "<style scoped>\n",
       "    .dataframe tbody tr th:only-of-type {\n",
       "        vertical-align: middle;\n",
       "    }\n",
       "\n",
       "    .dataframe tbody tr th {\n",
       "        vertical-align: top;\n",
       "    }\n",
       "\n",
       "    .dataframe thead th {\n",
       "        text-align: right;\n",
       "    }\n",
       "</style>\n",
       "<table border=\"1\" class=\"dataframe\">\n",
       "  <thead>\n",
       "    <tr style=\"text-align: right;\">\n",
       "      <th></th>\n",
       "      <th>sleep_amount</th>\n",
       "      <th>job_satisfaction</th>\n",
       "    </tr>\n",
       "  </thead>\n",
       "  <tbody>\n",
       "    <tr>\n",
       "      <th>sleep_amount</th>\n",
       "      <td>1.000000</td>\n",
       "      <td>0.773574</td>\n",
       "    </tr>\n",
       "    <tr>\n",
       "      <th>job_satisfaction</th>\n",
       "      <td>0.773574</td>\n",
       "      <td>1.000000</td>\n",
       "    </tr>\n",
       "  </tbody>\n",
       "</table>\n",
       "</div>"
      ],
      "text/plain": [
       "                  sleep_amount  job_satisfaction\n",
       "sleep_amount          1.000000          0.773574\n",
       "job_satisfaction      0.773574          1.000000"
      ]
     },
     "execution_count": 22,
     "metadata": {},
     "output_type": "execute_result"
    }
   ],
   "source": [
    "df.corr()"
   ]
  },
  {
   "cell_type": "code",
   "execution_count": 21,
   "id": "74868b29-d28b-4966-88c7-0fbd48630d64",
   "metadata": {},
   "outputs": [
    {
     "data": {
      "text/html": [
       "<div>\n",
       "<style scoped>\n",
       "    .dataframe tbody tr th:only-of-type {\n",
       "        vertical-align: middle;\n",
       "    }\n",
       "\n",
       "    .dataframe tbody tr th {\n",
       "        vertical-align: top;\n",
       "    }\n",
       "\n",
       "    .dataframe thead th {\n",
       "        text-align: right;\n",
       "    }\n",
       "</style>\n",
       "<table border=\"1\" class=\"dataframe\">\n",
       "  <thead>\n",
       "    <tr style=\"text-align: right;\">\n",
       "      <th></th>\n",
       "      <th>sleep_amount</th>\n",
       "      <th>job_satisfaction</th>\n",
       "    </tr>\n",
       "  </thead>\n",
       "  <tbody>\n",
       "    <tr>\n",
       "      <th>sleep_amount</th>\n",
       "      <td>1.000000</td>\n",
       "      <td>0.684211</td>\n",
       "    </tr>\n",
       "    <tr>\n",
       "      <th>job_satisfaction</th>\n",
       "      <td>0.684211</td>\n",
       "      <td>1.000000</td>\n",
       "    </tr>\n",
       "  </tbody>\n",
       "</table>\n",
       "</div>"
      ],
      "text/plain": [
       "                  sleep_amount  job_satisfaction\n",
       "sleep_amount          1.000000          0.684211\n",
       "job_satisfaction      0.684211          1.000000"
      ]
     },
     "execution_count": 21,
     "metadata": {},
     "output_type": "execute_result"
    }
   ],
   "source": [
    "df.corr(method='spearman')"
   ]
  },
  {
   "cell_type": "markdown",
   "id": "98ddca6f-1376-4aa2-ac3b-805fd1ddd8c6",
   "metadata": {},
   "source": [
    "The Spearman's rank correlation coefficient is 0.68, it indicates a strong positive monotonic relationship. It means that as the amount of sleep individuals get each night increases, their overall job satisfaction tends to increase as well."
   ]
  },
  {
   "cell_type": "markdown",
   "id": "0acf26e6-e062-453e-b7cb-ff887e4b0294",
   "metadata": {},
   "source": [
    "Q3. Suppose you are conducting a study to examine the relationship between the number of hours of\n",
    "exercise per week and body mass index (BMI) in a sample of adults. You collected data on both variables\n",
    "for 50 participants. Calculate the Pearson correlation coefficient and the Spearman's rank correlation\n",
    "between these two variables and compare the results."
   ]
  },
  {
   "cell_type": "code",
   "execution_count": 24,
   "id": "1a475cdb-2d3e-40c7-8fe7-09ace50f3b12",
   "metadata": {},
   "outputs": [
    {
     "name": "stdout",
     "output_type": "stream",
     "text": [
      "Pearson correlation coefficient: -0.6108584466187268\n",
      "Spearman's rank correlation coefficient: -0.6\n"
     ]
    }
   ],
   "source": [
    "import numpy as np\n",
    "import scipy.stats as stats\n",
    "\n",
    "# Create the example dataset\n",
    "exercise_hours = [4, 5, 3, 2, 6] # List of exercise hours for each participant\n",
    "bmi = [22.3, 24.5, 27.1, 30.2, 25.8] # List of BMI values for each participant\n",
    "\n",
    "# Calculate the Pearson correlation coefficient\n",
    "pearson_coef = np.corrcoef(exercise_hours, bmi)[0, 1]\n",
    "\n",
    "# Calculate the Spearman's rank correlation coefficient\n",
    "spearman_coef, _ = stats.spearmanr(exercise_hours, bmi)\n",
    "\n",
    "# Print the correlation coefficients\n",
    "print(\"Pearson correlation coefficient:\", pearson_coef)\n",
    "print(\"Spearman's rank correlation coefficient:\", spearman_coef)"
   ]
  },
  {
   "cell_type": "markdown",
   "id": "769f5612-8db8-4d35-a9cc-c1aee5b8dc76",
   "metadata": {},
   "source": [
    "Comparing the Results:\n",
    "- Pearson correlation coefficient: The Pearson correlation coefficient measures the linear relationship between two variables. It assumes a linear relationship between the variables and calculates how closely the relationship follows a straight line.\n",
    "\n",
    "- Spearman's rank correlation coefficient: The Spearman's rank correlation coefficient measures the monotonic relationship between two variables. It does not assume linearity but rather the direction and strength of the monotonic relationship\n",
    "\n",
    "\n",
    "Both these results suggests, their is neqgative releationship b/w these two factors. Hence one will increase with decresing of other and vice-versa\n"
   ]
  },
  {
   "cell_type": "markdown",
   "id": "4b6c9596-6420-4b95-bd36-97b29a79ad68",
   "metadata": {},
   "source": [
    "Q4. A researcher is interested in examining the relationship between the number of hours individuals\n",
    "spend watching television per day and their level of physical activity. The researcher collected data on\n",
    "both variables from a sample of 50 participants. Calculate the Pearson correlation coefficient between\n",
    "these two variables."
   ]
  },
  {
   "cell_type": "code",
   "execution_count": 25,
   "id": "3d8c1345-9814-48a3-8d8b-87c38080d57b",
   "metadata": {},
   "outputs": [
    {
     "name": "stdout",
     "output_type": "stream",
     "text": [
      "Pearson correlation coefficient: -0.6933752452815363\n"
     ]
    }
   ],
   "source": [
    "import numpy as np\n",
    "\n",
    "# Create the example dataset\n",
    "tv_hours = [3, 4, 2, 5, 6] # List of TV hours for each participant\n",
    "physical_activity = [2, 3, 4, 1, 2] # List of physical activity levels for each participant\n",
    "\n",
    "# Calculate the Pearson correlation coefficient\n",
    "pearson_coef = np.corrcoef(tv_hours, physical_activity)[0, 1]\n",
    "\n",
    "# Print the Pearson correlation coefficient\n",
    "print(\"Pearson correlation coefficient:\", pearson_coef)"
   ]
  },
  {
   "cell_type": "markdown",
   "id": "ff27a40a-0341-49cc-bf1e-051c8f8f03f6",
   "metadata": {},
   "source": [
    "Pearson correlation coefficient is -0.69, it indicates a strong negative linear relationship. It means that as the number of hours individuals spend watching television per day increases, their level of physical activity tends to decrease."
   ]
  },
  {
   "cell_type": "markdown",
   "id": "da642751-6eb5-413c-98bd-dd1491ec3a0d",
   "metadata": {},
   "source": [
    "Q5. A survey was conducted to examine the relationship between age and preference for a particular\n",
    "brand of soft drink. The survey results are shown below:\n",
    "\n",
    "Age(Years)    Preferred Drink\n",
    "25            Coke\n",
    "42            Pepsi\n",
    "37            Mountain dew\n",
    "19            Coke\n",
    "31            Pepsi\n",
    "28            Coke\n",
    "\n"
   ]
  },
  {
   "cell_type": "markdown",
   "id": "4cdc5114-3000-479b-afe8-4e0024290077",
   "metadata": {},
   "source": [
    "To examine the relationship between age and preference for a particular brand of soft drink based on the provided survey results, we can calculate the Phi coefficient. The Phi coefficient is a measure of association for two categorical variables, such as age group and preferred drink.\n",
    "\n",
    "We can create a contingency table to calculate the Phi coefficient:\n",
    "\n",
    "```\n",
    "Coke Pepsi Mountain Dew\n",
    "-----------------------------------------\n",
    "<20 1 0 0\n",
    "20-29 2 0 0\n",
    "30-39 1 1 0\n",
    "40+ 0 1 1\n",
    "-----------------------------------------\n",
    "```\n",
    "\n",
    "Using this contingency table, we can calculate the Phi coefficient using the following formula:\n",
    "\n",
    "```\n",
    "Phi = (ad - bc) / sqrt((a+b)(c+d)(a+c)(b+d))\n",
    "```\n",
    "\n",
    "where a, b, c, and d represent the counts in each cell of the contingency table.\n",
    "\n",
    "Calculating the Phi coefficient:\n",
    "\n",
    "```\n",
    "a = 1 (Count of individuals aged <20 who prefer Coke)\n",
    "b = 1 (Count of individuals aged <20 who prefer Pepsi)\n",
    "c = 1 (Count of individuals aged 30-39 who prefer Coke)\n",
    "d = 2 (Count of individuals aged 40+ who prefer Pepsi or Mountain Dew)\n",
    "\n",
    "Phi = (1*2 - 1*1) / sqrt((1+1)*(1+1)*(1+1)*(2+1))\n",
    "= 1 / sqrt(2*2*2*3)\n",
    "= 1 / sqrt(24)\n",
    "≈ 0.204\n",
    "```\n",
    "\n",
    "Interpreting the result:\n",
    "The Phi coefficient ranges from -1 to 1, where -1 indicates a perfect negative association, 0 indicates no association, and 1 indicates a perfect positive association.\n",
    "\n",
    "In this case, the Phi coefficient of approximately 0.204 suggests a weak positive association between age and preference for a particular brand of soft drink. However, since the coefficient is close to 0, we can conclude that there is no strong relationship between age and the preferred drink based on this survey.\n",
    "\n",
    "Note: The Phi coefficient is appropriate for categorical variables with two levels. If there are more than two levels for either age or preferred drink, other measures like Cramer's V or contingency coefficients should be considered for a more comprehensive analysis."
   ]
  },
  {
   "cell_type": "markdown",
   "id": "9770a8c1-211d-423c-ac91-b79da5029e1a",
   "metadata": {},
   "source": [
    "Q6. A company is interested in examining the relationship between the number of sales calls made per day\n",
    "and the number of sales made per week. The company collected data on both variables from a sample of\n",
    "30 sales representatives. Calculate the Pearson correlation coefficient between these two variables."
   ]
  },
  {
   "cell_type": "code",
   "execution_count": 26,
   "id": "8c9cf4fc-dc3e-47c2-a44e-ee89577bdc5c",
   "metadata": {},
   "outputs": [
    {
     "name": "stdout",
     "output_type": "stream",
     "text": [
      "Pearson correlation coefficient: 0.9041944301794651\n"
     ]
    }
   ],
   "source": [
    "import numpy as np\n",
    "\n",
    "# Create the example dataset\n",
    "sales_calls_per_day = [10, 8, 12, 9, 7] # List of sales calls per day for each sales representative\n",
    "sales_per_week = [5, 4, 7, 6, 3] # List of sales per week for each sales representative\n",
    "\n",
    "# Calculate the Pearson correlation coefficient\n",
    "pearson_coef = np.corrcoef(sales_calls_per_day, sales_per_week)[0, 1]\n",
    "\n",
    "# Print the Pearson correlation coefficient\n",
    "print(\"Pearson correlation coefficient:\", pearson_coef)"
   ]
  },
  {
   "cell_type": "markdown",
   "id": "f7c50754-b6ad-4d01-99a5-39983bd2363a",
   "metadata": {},
   "source": [
    "Pearson correlation coefficient is 0.90, it indicates a strong positive linear relationship. It means that as the number of sales calls made per day increases, the number of sales made per week tends to increase as well."
   ]
  }
 ],
 "metadata": {
  "kernelspec": {
   "display_name": "Python 3 (ipykernel)",
   "language": "python",
   "name": "python3"
  },
  "language_info": {
   "codemirror_mode": {
    "name": "ipython",
    "version": 3
   },
   "file_extension": ".py",
   "mimetype": "text/x-python",
   "name": "python",
   "nbconvert_exporter": "python",
   "pygments_lexer": "ipython3",
   "version": "3.10.8"
  }
 },
 "nbformat": 4,
 "nbformat_minor": 5
}
