{
 "cells": [
  {
   "cell_type": "markdown",
   "id": "af65e47b-36df-415a-860a-064cb068ce2f",
   "metadata": {},
   "source": [
    "Q1. Write a Python function that takes in two arrays of data and calculates the F-value for a variance ratio\n",
    "test. The function should return the F-value and the corresponding p-value for the test."
   ]
  },
  {
   "cell_type": "code",
   "execution_count": 3,
   "id": "5a1b1a03-f7e4-4df1-9824-865187cf679d",
   "metadata": {},
   "outputs": [],
   "source": [
    "import numpy as np\n",
    "import scipy.stats as stats\n",
    "\n",
    "def variance_ratio_test(sample1, sample2):\n",
    "# Calculate the variances\n",
    "    var1 = np.var(sample1, ddof=1)\n",
    "    var2 = np.var(sample2, ddof=1)\n",
    "\n",
    "# Calculate the F-value\n",
    "    F = var1 / var2\n",
    "\n",
    "# Calculate the p-value\n",
    "    df1 = len(sample1) - 1\n",
    "    df2 = len(sample2) - 1\n",
    "    p_value = stats.f.cdf(F, df1, df2)\n",
    "\n",
    "# Return the F-value and p-value\n",
    "    return F, p_value"
   ]
  },
  {
   "cell_type": "code",
   "execution_count": 4,
   "id": "8c2f916a-adbd-4e7b-a449-88e6e4719564",
   "metadata": {},
   "outputs": [
    {
     "name": "stdout",
     "output_type": "stream",
     "text": [
      "F: 1.0758620689655172 p: 0.5356845090561579\n"
     ]
    }
   ],
   "source": [
    "sample1 = [2, 3, 5, 4, 2, 4, 3, 5, 6, 4]\n",
    "sample2 = [4, 3, 6, 5, 3, 2, 5, 4, 3]\n",
    "\n",
    "F, p_value = variance_ratio_test(sample1, sample2)\n",
    "\n",
    "print('F:', F, 'p:', p_value)"
   ]
  },
  {
   "cell_type": "markdown",
   "id": "a6acc2b7-5c47-46ca-9c09-a3397ddd170a",
   "metadata": {},
   "source": [
    "Q2. Given a significance level of 0.05 and the degrees of freedom for the numerator and denominator of an\n",
    "F-distribution, write a Python function that returns the critical F-value for a two-tailed test."
   ]
  },
  {
   "cell_type": "code",
   "execution_count": 2,
   "id": "fb5fbc35-e516-40da-a718-83b4dc722e26",
   "metadata": {},
   "outputs": [],
   "source": [
    "import scipy.stats as stats\n",
    "def f_dist(alpha,dfn,dfd):\n",
    "    f_crit=stats.f.ppf(1-alpha,dfn,dfd)\n",
    "    return f_crit"
   ]
  },
  {
   "cell_type": "code",
   "execution_count": 3,
   "id": "98d30da4-f9a9-43e2-b203-324c069be568",
   "metadata": {},
   "outputs": [
    {
     "name": "stdout",
     "output_type": "stream",
     "text": [
      "2.7108898372096917\n"
     ]
    }
   ],
   "source": [
    "alpha=0.05\n",
    "dfn=5\n",
    "dfd=20\n",
    "f_crit=f_dist(alpha,dfn,dfd)\n",
    "print(f_crit)"
   ]
  },
  {
   "cell_type": "markdown",
   "id": "40357833-1d53-4db1-952d-52070fc1206c",
   "metadata": {},
   "source": [
    "Q3. Write a Python program that generates random samples from two normal distributions with known\n",
    "variances and uses an F-test to determine if the variances are equal. The program should output the F-\n",
    "value, degrees of freedom, and p-value for the test."
   ]
  },
  {
   "cell_type": "code",
   "execution_count": 19,
   "id": "522436bc-8c3e-43ed-a02e-337216e52b71",
   "metadata": {},
   "outputs": [
    {
     "name": "stdout",
     "output_type": "stream",
     "text": [
      "4.303206347667677\n",
      "0.04248852045853381\n",
      "1 58\n"
     ]
    }
   ],
   "source": [
    "import scipy.stats as stats\n",
    "import numpy as np\n",
    "n1,n2=30,30\n",
    "mu1,mu2=5,6\n",
    "var1,var2=4,4\n",
    "sample1=np.random.normal(loc=mu1,scale=np.sqrt(var1),size=n1)\n",
    "sample2=np.random.normal(loc=mu2,scale=np.sqrt(var2),size=n2)\n",
    "dfn=1\n",
    "dfd=n1+n2-2\n",
    "F, p_value=stats.f_oneway(sample1,sample2)\n",
    "print(F)\n",
    "print(p_value)\n",
    "print(dfn,dfd)"
   ]
  },
  {
   "cell_type": "markdown",
   "id": "69355a05-4af1-44bf-9870-9dfaf0b74c99",
   "metadata": {},
   "source": [
    "Q4.The variances of two populations are known to be 10 and 15. A sample of 12 observations is taken from\n",
    "each population. Conduct an F-test at the 5% significance level to determine if the variances are\n",
    "significantly different."
   ]
  },
  {
   "cell_type": "code",
   "execution_count": 22,
   "id": "a120544d-6e8d-4ddd-a240-78f4c33f9833",
   "metadata": {},
   "outputs": [
    {
     "name": "stdout",
     "output_type": "stream",
     "text": [
      "0.6666666666666666\n",
      "(11, 11)\n"
     ]
    }
   ],
   "source": [
    "import scipy.stats as stats\n",
    "import numpy as np\n",
    "var1=10\n",
    "var2=15\n",
    "n1,n2=12,12\n",
    "F=var1/var2\n",
    "dfd=(n1-1,n2-1)\n",
    "print(F)\n",
    "print(dfd)"
   ]
  },
  {
   "cell_type": "markdown",
   "id": "6315cc48-c669-4c85-9748-ae4bcc197e3d",
   "metadata": {},
   "source": [
    "Using a table of F-distribution values or a statistical software package, we can find the critical F-value for a two-tailed test with α = 0.05 and degrees of freedom (11, 11) to be approximately 2.70.\n",
    "\n",
    "Since our calculated F-value (1.5) is less than the critical F-value (2.70) at the 5% significance level, we fail to reject the null hypothesis and conclude that there is not enough evidence to suggest that the variances of the two populations are significantly different.\n",
    "\n",
    "Therefore, we can conclude that there is no significant difference in the variances of the two populations at the 5% significance level."
   ]
  },
  {
   "cell_type": "markdown",
   "id": "97e23987-3bdb-42d0-a6cb-9cd76ab0e70d",
   "metadata": {},
   "source": [
    "Q5. A manufacturer claims that the variance of the diameter of a certain product is 0.005. A sample of 25\n",
    "products is taken, and the sample variance is found to be 0.006. Conduct an F-test at the 1% significance\n",
    "level to determine if the claim is justified."
   ]
  },
  {
   "cell_type": "code",
   "execution_count": 24,
   "id": "ec12a246-5534-4af6-98c8-7bad063af191",
   "metadata": {},
   "outputs": [
    {
     "name": "stdout",
     "output_type": "stream",
     "text": [
      "1.2\n",
      "24\n"
     ]
    }
   ],
   "source": [
    "import scipy.stats as stats\n",
    "import numpy as np\n",
    "var1=0.006\n",
    "var2=0.005\n",
    "n=25\n",
    "dof=n-1\n",
    "F=var1/var2\n",
    "print(F)\n",
    "print(dof)"
   ]
  },
  {
   "cell_type": "markdown",
   "id": "93902dfd-4dc9-45a4-ab6d-3b6a416d68d1",
   "metadata": {},
   "source": [
    "Using a table of F-distribution values or a statistical software package, we can find the critical F-value for a two-tailed test with α = 0.01 and degrees of freedom (24, 24) to be approximately 2.75.\n",
    "\n",
    "Since our calculated F-value (1.2) is less than the critical F-value (2.75) at the 1% significance level, we fail to reject the null hypothesis and conclude that there is not enough evidence to suggest that the claimed population variance of 0.005 is false.\n",
    "\n",
    "Therefore, we can conclude that the manufacturer's claim about the variance of the product's diameter is justified at the 1% significance level."
   ]
  },
  {
   "cell_type": "markdown",
   "id": "32625b91-9eb7-4698-93ff-84a3d4f8e375",
   "metadata": {},
   "source": [
    "Q6. Write a Python function that takes in the degrees of freedom for the numerator and denominator of an\n",
    "F-distribution and calculates the mean and variance of the distribution. The function should return the\n",
    "mean and variance as a tuple."
   ]
  },
  {
   "cell_type": "code",
   "execution_count": 2,
   "id": "309c2e9e-d9d4-47d6-bbd6-5cb56040b0ac",
   "metadata": {},
   "outputs": [],
   "source": [
    "def f_dist_mean_var(dfn, dfd):\n",
    "\n",
    "    if dfd > 2:\n",
    "        mean = dfd / (dfd - 2)\n",
    "    else:\n",
    "        mean = float('inf')\n",
    "\n",
    "\n",
    "    if dfd > 4:\n",
    "        var = (2 * dfd**2 * (dfn + dfd - 2)) / (dfn * (dfd - 2)**2 * (dfd - 4))\n",
    "    else:\n",
    "        var = float('inf')\n",
    "\n",
    "\n",
    "    return mean, var"
   ]
  },
  {
   "cell_type": "code",
   "execution_count": 3,
   "id": "ddd0397e-dcbb-4897-8319-e59cbd35eb5e",
   "metadata": {},
   "outputs": [
    {
     "name": "stdout",
     "output_type": "stream",
     "text": [
      "Mean: 1.1111111111111112\n",
      "Variance: 1.0802469135802468\n"
     ]
    }
   ],
   "source": [
    "dfn = 3\n",
    "dfd = 20\n",
    "\n",
    "mean, var = f_dist_mean_var(dfn, dfd)\n",
    "\n",
    "print('Mean:', mean)\n",
    "print('Variance:', var)"
   ]
  },
  {
   "cell_type": "markdown",
   "id": "f5f44031-6ddc-422a-9176-9b0d2cfbf17a",
   "metadata": {},
   "source": [
    "Q7. A random sample of 10 measurements is taken from a normal population with unknown variance. The\n",
    "sample variance is found to be 25. Another random sample of 15 measurements is taken from another\n",
    "normal population with unknown variance, and the sample variance is found to be 20. Conduct an F-test\n",
    "at the 10% significance level to determine if the variances are significantly different."
   ]
  },
  {
   "cell_type": "markdown",
   "id": "846ec55f-07c3-4f42-a497-a147ce28d246",
   "metadata": {},
   "source": [
    "Sample size (n1) = 10 for population 1\n",
    "Sample size (n2) = 15 for population 2\n",
    "Sample variance (s1^2) = 25 for population 1\n",
    "Sample variance (s2^2) = 20 for population 2\n",
    "Significance level (α) = 0.10\n",
    "\n",
    "To determine if the variances are significantly different, we can perform an F-test with the following null and alternative hypotheses:\n",
    "\n",
    "H0: σ1^2 = σ2^2 (the variances are equal)\n",
    "Ha: σ1^2 ≠ σ2^2 (the variances are not equal)\n",
    "\n",
    "We can use the F-test statistic:\n",
    "\n",
    "F = s1^2 / s2^2\n",
    "\n",
    "where s1^2 and s2^2 are the sample variances for the two populations, and the larger sample variance is in the numerator.\n",
    "\n",
    "The F-test statistic follows an F-distribution with degrees of freedom (n1 - 1) and (n2 - 1) for the numerator and denominator, respectively.\n",
    "\n",
    "Using the given information, we can calculate the F-test statistic as follows:\n",
    "\n",
    "F = 25 / 20 = 1.25\n",
    "\n",
    "The degrees of freedom for the F-distribution are (10 - 1) = 9 and (15 - 1) = 14.\n",
    "\n",
    "Using a table of F-distribution values or a statistical software package, we can find the critical F-value for a two-tailed test with α = 0.10 and degrees of freedom (9, 14) to be approximately 2.47.\n",
    "\n",
    "Since our calculated F-value (1.25) is less than the critical F-value (2.47) at the 10% significance level, we fail to reject the null hypothesis and conclude that there is not enough evidence to suggest that the variances of the two populations are significantly different.\n",
    "\n",
    "Therefore, we can conclude that there is no significant difference in the variances of the two populations at the 10% significance level."
   ]
  },
  {
   "cell_type": "markdown",
   "id": "2dc41136-5afd-4522-9d37-ab92d0b02a2d",
   "metadata": {},
   "source": [
    "Q8. The following data represent the waiting times in minutes at two different restaurants on a Saturday\n",
    "night: Restaurant A: 24, 25, 28, 23, 22, 20, 27; Restaurant B: 31, 33, 35, 30, 32, 36. Conduct an F-test at the 5%\n",
    "significance level to determine if the variances are significantly different."
   ]
  },
  {
   "cell_type": "markdown",
   "id": "4973743e-1d50-4b24-a710-a09001d21054",
   "metadata": {},
   "source": [
    "Sample size (n1) = 7 for Restaurant A\n",
    "Sample size (n2) = 6 for Restaurant B\n",
    "Sample data for Restaurant A: 24, 25, 28, 23, 22, 20, 27\n",
    "Sample data for Restaurant B: 31, 33, 35, 30, 32, 36\n",
    "Significance level (α) = 0.05\n",
    "\n",
    "To determine if the variances are significantly different, we can perform an F-test with the following null and alternative hypotheses:\n",
    "\n",
    "H0: σ1^2 = σ2^2 (the variances are equal)\n",
    "Ha: σ1^2 ≠ σ2^2 (the variances are not equal)\n",
    "\n",
    "We can use the F-test statistic:\n",
    "\n",
    "F = s1^2 / s2^2\n",
    "\n",
    "where s1^2 and s2^2 are the sample variances for the two populations, and the larger sample variance is in the numerator.\n",
    "\n",
    "The F-test statistic follows an F-distribution with degrees of freedom (n1 - 1) and (n2 - 1) for the numerator and denominator, respectively.\n",
    "\n",
    "First, we need to calculate the sample variances for the two populations:\n",
    "\n",
    "s1^2 = [(24 - 24.43)^2 + (25 - 24.43)^2 + (28 - 24.43)^2 + (23 - 24.43)^2 + (22 - 24.43)^2 + (20 - 24.43)^2 + (27 - 24.43)^2] / 6 = 9.84\n",
    "\n",
    "s2^2 = [(31 - 32.83)^2 + (33 - 32.83)^2 + (35 - 32.83)^2 + (30 - 32.83)^2 + (32 - 32.83)^2 + (36 - 32.83)^2] / 5 = 7.21\n",
    "\n",
    "Using the given information, we can calculate the F-test statistic as follows:\n",
    "\n",
    "F = s1^2 / s2^2 = 9.84 / 7.21 = 1.36\n",
    "\n",
    "The degrees of freedom for the F-distribution are (7 - 1) = 6 and (6 - 1) = 5.\n",
    "\n",
    "Using a table of F-distribution values or a statistical software package, we can find the critical F-value for a two-tailed test with α = 0.05 and degrees of freedom (6, 5) to be approximately 4.03.\n",
    "\n",
    "Since our calculated F-value (1.36) is less than the critical F-value (4.03) at the 5% significance level, we fail to reject the null hypothesis and conclude that there is not enough evidence to suggest that the variances of the two populations are significantly different.\n",
    "\n",
    "Therefore, we can conclude that there is no significant difference in the variances of waiting times between Restaurant A and Restaurant B at the 5% significance level."
   ]
  },
  {
   "cell_type": "markdown",
   "id": "c38e68a8-f8ca-4e33-b630-afca7b42aa33",
   "metadata": {},
   "source": [
    "Q9. The following data represent the test scores of two groups of students: Group A: 80, 85, 90, 92, 87, 83;\n",
    "Group B: 75, 78, 82, 79, 81, 84. Conduct an F-test at the 1% significance level to determine if the variances\n",
    "are significantly different."
   ]
  },
  {
   "cell_type": "code",
   "execution_count": 14,
   "id": "707a1358-b32c-4192-8a17-68a21f34092b",
   "metadata": {},
   "outputs": [
    {
     "name": "stdout",
     "output_type": "stream",
     "text": [
      "16.472222222222225 8.472222222222221\n",
      "1.9442622950819677\n"
     ]
    }
   ],
   "source": [
    "import numpy as np\n",
    "import scipy.stats as stats\n",
    "A=[80, 85, 90, 92, 87, 83]\n",
    "B=[75, 78, 82, 79, 81, 84]\n",
    "Var1=np.var(A)\n",
    "Var2=np.var(B)\n",
    "print(Var1,Var2)\n",
    "dof=(5,5)\n",
    "F=Var1/Var2\n",
    "print(F)"
   ]
  },
  {
   "cell_type": "markdown",
   "id": "80b2265b-190d-4e3e-ac97-3b0d1266db0c",
   "metadata": {},
   "source": [
    "Using a table of F-distribution values or a statistical software package, we can find the critical F-value for a two-tailed test with α = 0.01 and degrees of freedom (5, 5) to be approximately 8.45.\n",
    "\n",
    "Since our calculated F-value (3.44) is less than the critical F-value (8.45) at the 1% significance level, we fail to reject the null hypothesis and conclude that there is not enough evidence to suggest that the variances of the two populations are significantly different.\n",
    "\n",
    "Therefore, we can conclude that there is no significant difference in the variances of test scores between Group A and Group B at the 1% significance level."
   ]
  }
 ],
 "metadata": {
  "kernelspec": {
   "display_name": "Python 3 (ipykernel)",
   "language": "python",
   "name": "python3"
  },
  "language_info": {
   "codemirror_mode": {
    "name": "ipython",
    "version": 3
   },
   "file_extension": ".py",
   "mimetype": "text/x-python",
   "name": "python",
   "nbconvert_exporter": "python",
   "pygments_lexer": "ipython3",
   "version": "3.10.8"
  }
 },
 "nbformat": 4,
 "nbformat_minor": 5
}
