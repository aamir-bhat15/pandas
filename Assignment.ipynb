{
 "cells": [
  {
   "cell_type": "markdown",
   "id": "5cc6745f-cf05-4d0a-9089-aa8e8c20c543",
   "metadata": {},
   "source": [
    "Q1. Create a Pandas Series that contains the following data: 4, 8, 15, 16, 23, and 42. Then, print the series."
   ]
  },
  {
   "cell_type": "code",
   "execution_count": 1,
   "id": "6c803e56-85d0-4dd7-9cc1-174e1466ad7e",
   "metadata": {},
   "outputs": [],
   "source": [
    "import pandas as pd"
   ]
  },
  {
   "cell_type": "code",
   "execution_count": 3,
   "id": "a766c0ff-ce1a-49f2-a126-93682b5a1046",
   "metadata": {},
   "outputs": [
    {
     "name": "stdout",
     "output_type": "stream",
     "text": [
      "0     4\n",
      "1     8\n",
      "2    15\n",
      "3    16\n",
      "4    23\n",
      "5    42\n",
      "dtype: int64\n",
      "<class 'pandas.core.series.Series'>\n"
     ]
    }
   ],
   "source": [
    "data=[4,8,15,16,23,42]\n",
    "df=pd.Series(data)\n",
    "print(df)\n",
    "print(type(df))"
   ]
  },
  {
   "cell_type": "markdown",
   "id": "709dfc4e-6d8c-4bc8-8aaa-c837f557ed58",
   "metadata": {},
   "source": [
    "Q2. Create a variable of list type containing 10 elements in it, and apply pandas.Series function on the\n",
    "variable print it."
   ]
  },
  {
   "cell_type": "code",
   "execution_count": 4,
   "id": "623d16ab-8536-464c-9082-459e488970da",
   "metadata": {},
   "outputs": [],
   "source": [
    "data1=[1,2,3,4,5,6,7,8,9,10]\n",
    "df1=pd.Series(data1)"
   ]
  },
  {
   "cell_type": "code",
   "execution_count": 6,
   "id": "659e8337-a64b-4d05-9dbf-093cba905aad",
   "metadata": {},
   "outputs": [
    {
     "data": {
      "text/plain": [
       "0     1\n",
       "1     2\n",
       "2     3\n",
       "3     4\n",
       "4     5\n",
       "5     6\n",
       "6     7\n",
       "7     8\n",
       "8     9\n",
       "9    10\n",
       "dtype: int64"
      ]
     },
     "execution_count": 6,
     "metadata": {},
     "output_type": "execute_result"
    }
   ],
   "source": [
    "df1"
   ]
  },
  {
   "cell_type": "code",
   "execution_count": null,
   "id": "3169de19-4f6d-44cf-856e-624e2376d3ac",
   "metadata": {},
   "outputs": [],
   "source": [
    "Q3. Create a Pandas DataFrame that contains the following data:\n",
    "\n",
    "Then, print the DataFrame.\n",
    "\n",
    "Name\n",
    "Alice\n",
    "Bob\n",
    "Claire\n",
    "\n",
    "Age\n",
    "25\n",
    "30\n",
    "27\n",
    "\n",
    "Gender\n",
    "Female\n",
    "Male\n",
    "Female"
   ]
  },
  {
   "cell_type": "code",
   "execution_count": 14,
   "id": "f4fee7f0-f496-4309-bbe9-3190602a2c8b",
   "metadata": {},
   "outputs": [],
   "source": [
    "data2={'Name':['Alice', 'Bob', 'Claire'], 'Age':[25, 30, 27], 'Gender':[\"Female\",\"Male\",\"Female\"]}\n",
    "df2=pd.DataFrame(data2)"
   ]
  },
  {
   "cell_type": "code",
   "execution_count": 15,
   "id": "75fe5d04-1cca-4e62-857f-a7109f60526c",
   "metadata": {},
   "outputs": [
    {
     "data": {
      "text/html": [
       "<div>\n",
       "<style scoped>\n",
       "    .dataframe tbody tr th:only-of-type {\n",
       "        vertical-align: middle;\n",
       "    }\n",
       "\n",
       "    .dataframe tbody tr th {\n",
       "        vertical-align: top;\n",
       "    }\n",
       "\n",
       "    .dataframe thead th {\n",
       "        text-align: right;\n",
       "    }\n",
       "</style>\n",
       "<table border=\"1\" class=\"dataframe\">\n",
       "  <thead>\n",
       "    <tr style=\"text-align: right;\">\n",
       "      <th></th>\n",
       "      <th>Name</th>\n",
       "      <th>Age</th>\n",
       "      <th>Gender</th>\n",
       "    </tr>\n",
       "  </thead>\n",
       "  <tbody>\n",
       "    <tr>\n",
       "      <th>0</th>\n",
       "      <td>Alice</td>\n",
       "      <td>25</td>\n",
       "      <td>Female</td>\n",
       "    </tr>\n",
       "    <tr>\n",
       "      <th>1</th>\n",
       "      <td>Bob</td>\n",
       "      <td>30</td>\n",
       "      <td>Male</td>\n",
       "    </tr>\n",
       "    <tr>\n",
       "      <th>2</th>\n",
       "      <td>Claire</td>\n",
       "      <td>27</td>\n",
       "      <td>Female</td>\n",
       "    </tr>\n",
       "  </tbody>\n",
       "</table>\n",
       "</div>"
      ],
      "text/plain": [
       "     Name  Age  Gender\n",
       "0   Alice   25  Female\n",
       "1     Bob   30    Male\n",
       "2  Claire   27  Female"
      ]
     },
     "execution_count": 15,
     "metadata": {},
     "output_type": "execute_result"
    }
   ],
   "source": [
    "df2"
   ]
  },
  {
   "cell_type": "markdown",
   "id": "fe93391b-fe1e-4bed-808e-6839bf0ed772",
   "metadata": {},
   "source": [
    "Q4. What is ‘DataFrame’ in pandas and how is it different from pandas.series? Explain with an example.\n",
    "Q5. What are some common functions you can use to manipulate data in a Pandas DataFrame? Can\n",
    "you give an example of when you might use one of these functions?\n",
    "Q6. Which of the following is mutable in nature Series, DataFrame, Panel?\n",
    "Q7. Create a DataFrame using multiple Series. Explain with an example."
   ]
  },
  {
   "cell_type": "markdown",
   "id": "e5224a21-1689-4f09-a5bf-351e7959710c",
   "metadata": {},
   "source": [
    "A DataFrame is a 2-dimensional table-like data structure in pandas, similar to a spreadsheet or a SQL table. \n",
    "It is composed of rows and columns, where each column can hold data of different types, such as integers, floats, strings, or even other DataFrames. \n",
    "\n",
    "On the other hand, a pandas Series is a one-dimensional array-like object that can hold any data type, such as integers, floats, strings, or Python objects. \n",
    "It is similar to a column in a DataFrame, but does not have column names.\n",
    "\n",
    "Here's an example of how to create a DataFrame and a Series:\n",
    "\n",
    "```python\n",
    "import pandas as pd\n",
    "\n",
    "# creating a DataFrame\n",
    "df = pd.DataFrame({'Name': ['John', 'Sara', 'Adam'], 'Age': [25, 30, 28], 'City': ['New York', 'Paris', 'London']})\n",
    "print(df)\n",
    "\n",
    "# creating a Series\n",
    "s = pd.Series([25, 30, 28])\n",
    "print(s)\n",
    "```\n",
    "\n",
    "In this example, we create a DataFrame with three columns: Name, Age, and City, and three rows with corresponding values. \n",
    "We also create a Series with three values that represent the ages of the individuals in the DataFrame. \n",
    "\n",
    "As you can see, the DataFrame displays all three columns and their values, while the Series only displays the values themselves. \n",
    "Additionally, the DataFrame has column names and row indexes, whereas the Series only has row indexes."
   ]
  },
  {
   "cell_type": "markdown",
   "id": "a2b3d205-59ad-42e2-ab2d-fdf0fe22aad5",
   "metadata": {},
   "source": [
    "There are many functions available in Pandas to manipulate data in a DataFrame. \n",
    "Some of the most common functions include: \n",
    "\n",
    "1. `head()`: Displays the first n rows of a DataFrame.\n",
    "\n",
    "```python\n",
    "df.head(10)\n",
    "```\n",
    "\n",
    "2. `tail()`: Displays the last n rows of a DataFrame.\n",
    "\n",
    "```python\n",
    "df.tail(10)\n",
    "```\n",
    "\n",
    "3. `describe()`: Generates descriptive statistics of a DataFrame.\n",
    "\n",
    "```python\n",
    "df.describe()\n",
    "```\n",
    "\n",
    "4. `drop()`: Drops one or more columns or rows from a DataFrame.\n",
    "\n",
    "```python \n",
    "df = df.drop(['column_name1', 'column_name2'], axis=1)\n",
    "```\n",
    "\n",
    "5. `groupby()`: Groups data by one or more columns and applies a summary function.\n",
    "\n",
    "```python\n",
    "df.groupby('column_name').mean()\n",
    "```\n",
    "\n",
    "6. `sort_values()`: Sorts DataFrame by one or more columns.\n",
    "\n",
    "```python\n",
    "df.sort_values(by='column_name', ascending=False)\n",
    "```\n",
    "\n",
    "7. `merge()`: Merges two DataFrames into one based on a common column.\n",
    "\n",
    "```python\n",
    "merged_df = pd.merge(df1, df2, on='column_name')\n",
    "```\n"
   ]
  },
  {
   "cell_type": "code",
   "execution_count": null,
   "id": "7efa0aca-ecbd-42d5-ba2c-bd790d82839d",
   "metadata": {},
   "outputs": [],
   "source": [
    "Series and DataFrame are mutable in nature in Pandas, while Panel is immutable. \n",
    "This means that you can modify Series and DataFrame objects after they are created, \n",
    "but you cannot modify a Panel object once it has been created."
   ]
  },
  {
   "cell_type": "code",
   "execution_count": 17,
   "id": "3292f522-aa74-4631-9c35-3ea682d1e0cb",
   "metadata": {},
   "outputs": [
    {
     "name": "stdout",
     "output_type": "stream",
     "text": [
      "0      Alice\n",
      "1        Bob\n",
      "2    Charlie\n",
      "dtype: object\n",
      "0    25\n",
      "1    30\n",
      "2    35\n",
      "dtype: int64\n",
      "0       Paris\n",
      "1    New York\n",
      "2      London\n",
      "dtype: object\n",
      "      Name  Age      City\n",
      "0    Alice   25     Paris\n",
      "1      Bob   30  New York\n",
      "2  Charlie   35    London\n"
     ]
    }
   ],
   "source": [
    "import pandas as pd\n",
    "\n",
    "name_series = pd.Series(['Alice', 'Bob', 'Charlie'])\n",
    "\n",
    "age_series = pd.Series([25, 30, 35])\n",
    "\n",
    "\n",
    "city_series = pd.Series(['Paris', 'New York', 'London'])\n",
    "print(name_series)\n",
    "print(age_series)\n",
    "print(city_series)\n",
    "\n",
    "df = pd.DataFrame({'Name': name_series, 'Age': age_series, 'City': city_series})\n",
    "\n",
    "\n",
    "print(df)\n",
    "\n",
    "\n"
   ]
  },
  {
   "cell_type": "code",
   "execution_count": null,
   "id": "22d09b43-28c4-4741-96f2-81cbe780a8bf",
   "metadata": {},
   "outputs": [],
   "source": []
  }
 ],
 "metadata": {
  "kernelspec": {
   "display_name": "Python 3 (ipykernel)",
   "language": "python",
   "name": "python3"
  },
  "language_info": {
   "codemirror_mode": {
    "name": "ipython",
    "version": 3
   },
   "file_extension": ".py",
   "mimetype": "text/x-python",
   "name": "python",
   "nbconvert_exporter": "python",
   "pygments_lexer": "ipython3",
   "version": "3.10.8"
  }
 },
 "nbformat": 4,
 "nbformat_minor": 5
}
