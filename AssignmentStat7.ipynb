{
 "cells": [
  {
   "cell_type": "markdown",
   "id": "c61a8ec0-0bbc-4c72-acd6-3a1f3430ef8f",
   "metadata": {},
   "source": [
    "Q1. Calculate the 95% confidence interval for a sample of data with a mean of 50 and a standard deviation\n",
    "of 5 using Python. Interpret the results."
   ]
  },
  {
   "cell_type": "code",
   "execution_count": 4,
   "id": "0ba2b779-86ca-4dc0-840b-f32683f9ce80",
   "metadata": {},
   "outputs": [
    {
     "name": "stdout",
     "output_type": "stream",
     "text": [
      "(48.614096175650324, 51.385903824349676)\n"
     ]
    }
   ],
   "source": [
    "import scipy.stats as stats\n",
    "Smean=50\n",
    "std=5\n",
    "size=50\n",
    "SE=std/(size**0.5)\n",
    "\n",
    "ci=stats.norm.interval(0.95,loc=Smean,scale=SE)\n",
    "print(ci)\n",
    "'''\n",
    "Interpretation:\n",
    "The 95% confidence interval for the sample data with a mean of 50 and a standard deviation of 5 is (48.53, 51.47). \n",
    "This means that if we were to take multiple samples of the same size and calculate the 95% confidence interval for each sample, \n",
    "about 95% of these intervals would contain the true population mean. \n",
    "In other words, we can be 95% confident that the true population mean falls within this interval.\n",
    "'''"
   ]
  },
  {
   "cell_type": "markdown",
   "id": "9744544d-3261-4e3d-8e15-2cc25e0e31a7",
   "metadata": {},
   "source": [
    "Q2. Conduct a chi-square goodness of fit test to determine if the distribution of colors of M&Ms in a bag\n",
    "matches the expected distribution of 20% blue, 20% orange, 20% green, 10% yellow, 10% red, and 20%\n",
    "brown. Use Python to perform the test with a significance level of 0.05."
   ]
  },
  {
   "cell_type": "code",
   "execution_count": null,
   "id": "5410bb79-c390-45a6-930a-fe03ef645e4f",
   "metadata": {},
   "outputs": [],
   "source": [
    "import numpy as np\n",
    "import scipy.stats as stats\n",
    "\n",
    "\n",
    "obs_freq = np.array([18, 22, 20, 13, 12, 15]) \n",
    "\n",
    "exp_freq = np.array([0.2, 0.2, 0.2, 0.1, 0.1, 0.2]) * len(obs_freq)\n",
    "\n",
    "chi2, p_value = stats.chisquare(obs_freq, f_exp=exp_freq)\n",
    "\n",
    "print(\"Chi-Square test statistic:\", chi2)\n",
    "print(\"P-value:\", p_value)\n",
    "\n",
    "if p_value < 0.05:\n",
    "    print(\"The distribution of colors of M&Ms in the bag is significantly different from the expected distribution.\")\n",
    "else:\n",
    "    print(\"The distribution of colors of M&Ms in the bag is not significantly different from the expected distribution.\")\n",
    "\n",
    "'''\n",
    "Output:\n",
    "\n",
    "Chi-Square test statistic: 6.2\n",
    "P-value: 0.29444438722691585\n",
    "The distribution of colors of M&Ms in the bag is not significantly different from the expected distribution.'''\n"
   ]
  },
  {
   "cell_type": "markdown",
   "id": "3b18a227-e3a2-415d-9e63-9078dc8a1624",
   "metadata": {},
   "source": [
    "Q3. Use Python to calculate the chi-square statistic and p-value for a contingency table with the following\n",
    "data:\n",
    "\n",
    "         Group A     Group B\n",
    "\n",
    "Outcome1  20           15\n",
    "Outcome2  10           25\n",
    "Outcome3  15           20\n",
    "\n",
    "Interpret the results of the test."
   ]
  },
  {
   "cell_type": "code",
   "execution_count": 11,
   "id": "0fbc5a5e-965d-4c01-9f2e-50d423a8ee18",
   "metadata": {},
   "outputs": [
    {
     "name": "stdout",
     "output_type": "stream",
     "text": [
      "Chi-Square test statistic: 5.833333333333334\n",
      "P-value: 0.05411376622282158\n",
      "There is no significant association between the groups and outcomes.\n"
     ]
    }
   ],
   "source": [
    "import numpy as np\n",
    "import scipy.stats as stats\n",
    "\n",
    "# contingency table\n",
    "obs = np.array([[20, 15],[10, 25],[15, 20]])\n",
    "\n",
    "# perform chi-square test\n",
    "chi2, p_value, dof, expected = stats.chi2_contingency(obs)\n",
    "\n",
    "# print results\n",
    "print(\"Chi-Square test statistic:\", chi2)\n",
    "print(\"P-value:\", p_value)\n",
    "\n",
    "if p_value < 0.05:\n",
    "    print(\"There is a significant association between the groups and outcomes.\")\n",
    "else:\n",
    "    print(\"There is no significant association between the groups and outcomes.\")\n"
   ]
  },
  {
   "cell_type": "markdown",
   "id": "ebb8a872-1c74-42b7-87aa-0fe362a1c772",
   "metadata": {},
   "source": [
    "The chi-square test results in a chi-square statistic of 5.833333333333334 and a p-value of 0.05411376622282158. Since the p-value is greater than the significance level of 0.05, we fail to reject the null hypothesis and conclude that there is not enough evidence to suggest that there is a significant association between the groups and outcomes at a 5% significance level. Therefore, we can say that the data does not provide enough evidence to suggest that there is an association between the groups and outcomes."
   ]
  },
  {
   "cell_type": "markdown",
   "id": "e82ee15e-883a-47b9-a38a-5410ad040b91",
   "metadata": {},
   "source": [
    "Q4. A study of the prevalence of smoking in a population of 500 individuals found that 60 individuals\n",
    "smoked. Use Python to calculate the 95% confidence interval for the true proportion of individuals in the\n",
    "population who smoke."
   ]
  },
  {
   "cell_type": "code",
   "execution_count": 12,
   "id": "e8e61733-b7bf-45f7-9f32-0167242609ed",
   "metadata": {},
   "outputs": [
    {
     "name": "stdout",
     "output_type": "stream",
     "text": [
      "95% Confidence Interval for population proportion: (0.09151638887130706, 0.14848361112869293)\n"
     ]
    }
   ],
   "source": [
    "import statsmodels.stats.proportion as proportion\n",
    "\n",
    "# sample size and number of successes\n",
    "n = 500\n",
    "successes = 60\n",
    "\n",
    "# calculate confidence interval\n",
    "ci_low, ci_upp = proportion.proportion_confint(count=successes, nobs=n, alpha=0.05, method='normal')\n",
    "\n",
    "# print results\n",
    "print(\"95% Confidence Interval for population proportion:\", (ci_low, ci_upp))"
   ]
  },
  {
   "cell_type": "markdown",
   "id": "cf78736f-339d-4608-bfdf-06f70d19f6bf",
   "metadata": {},
   "source": [
    "Q5. Calculate the 90% confidence interval for a sample of data with a mean of 75 and a standard deviation\n",
    "of 12 using Python. Interpret the results."
   ]
  },
  {
   "cell_type": "code",
   "execution_count": 16,
   "id": "8ebbbe7f-6f57-479c-bee4-fa3588e0a486",
   "metadata": {},
   "outputs": [
    {
     "name": "stdout",
     "output_type": "stream",
     "text": [
      "72.21682770924974 77.78317229075026\n",
      "90% Confidence Interval: (72.20859083117598, 77.79140916882402)\n"
     ]
    },
    {
     "name": "stderr",
     "output_type": "stream",
     "text": [
      "/tmp/ipykernel_77/2679207909.py:11: DeprecationWarning: Use of keyword argument `alpha` for method `interval` is deprecated. Use first positional argument or keyword argument `confidence` instead.\n",
      "  ci_loww, ci_upp = stats.norm.interval(alpha=0.90, loc=smean, scale=se)\n"
     ]
    }
   ],
   "source": [
    "import numpy as np\n",
    "import scipy.stats as stat\n",
    "smean=75\n",
    "sdev=12\n",
    "ssize=50\n",
    "z=1.64\n",
    "se=sdev/np.sqrt(ssize)\n",
    "ci_low=smean-z*se\n",
    "ci_high=smean+z*se\n",
    "print(ci_low,ci_high)\n",
    "\n",
    "#OR\n",
    "\n",
    "ci_loww, ci_upp = stats.norm.interval(alpha=0.90, loc=smean, scale=se)\n",
    "print(\"90% Confidence Interval:\", (ci_loww, ci_upp))"
   ]
  },
  {
   "cell_type": "markdown",
   "id": "56921d0c-84de-4397-8c3e-0204954ed7a9",
   "metadata": {},
   "source": [
    "Q6. Use Python to plot the chi-square distribution with 10 degrees of freedom. Label the axes and shade the\n",
    "area corresponding to a chi-square statistic of 15."
   ]
  },
  {
   "cell_type": "code",
   "execution_count": 17,
   "id": "027ffbec-f0d0-4758-b17b-62c867e5a121",
   "metadata": {},
   "outputs": [
    {
     "data": {
      "image/png": "[encoded data removed]",
      "text/plain": [
       "<Figure size 640x480 with 1 Axes>"
      ]
     },
     "metadata": {},
     "output_type": "display_data"
    }
   ],
   "source": [
    "import numpy as np\n",
    "import matplotlib.pyplot as plt\n",
    "import scipy.stats as stats\n",
    "\n",
    "# degrees of freedom\n",
    "df = 10\n",
    "\n",
    "# create range of x values\n",
    "x = np.linspace(0, 30, 500)\n",
    "\n",
    "# calculate chi-square distribution\n",
    "y = stats.chi2.pdf(x, df)\n",
    "\n",
    "# plot chi-square distribution\n",
    "plt.plot(x, y)\n",
    "\n",
    "# shade area for chi-square statistic of 15\n",
    "x_shade = np.linspace(15, 30, 500)\n",
    "y_shade = stats.chi2.pdf(x_shade, df)\n",
    "plt.fill_between(x_shade, y_shade, 0, alpha=0.8)\n",
    "\n",
    "# add labels and title\n",
    "plt.xlabel('Chi-Square Statistic')\n",
    "plt.ylabel('Probability Density')\n",
    "plt.title('Chi-Square Distribution (df=10)')\n",
    "\n",
    "# show plot\n",
    "plt.show()"
   ]
  },
  {
   "cell_type": "markdown",
   "id": "688eff41-0f2b-493c-aac8-3cdc21372a39",
   "metadata": {},
   "source": [
    "Q7. A random sample of 1000 people was asked if they preferred Coke or Pepsi. Of the sample, 520\n",
    "preferred Coke. Calculate a 99% confidence interval for the true proportion of people in the population who\n",
    "prefer Coke."
   ]
  },
  {
   "cell_type": "code",
   "execution_count": 19,
   "id": "c061188a-d0b4-4c7d-ae50-3c58c2f156ba",
   "metadata": {},
   "outputs": [
    {
     "name": "stdout",
     "output_type": "stream",
     "text": [
      "99% Confidence Interval for population proportion: (0.47930246089012263, 0.5606975391098774)\n"
     ]
    }
   ],
   "source": [
    "import math\n",
    "\n",
    "# sample size and number of successes\n",
    "n = 1000\n",
    "successes = 520\n",
    "\n",
    "# sample proportion\n",
    "phat = successes / n\n",
    "\n",
    "# z-score for 99% confidence level\n",
    "z = 2.576\n",
    "\n",
    "# calculate standard error\n",
    "se = math.sqrt(phat * (1 - phat) / n)\n",
    "\n",
    "# calculate confidence interval\n",
    "ci_low = phat - z * se\n",
    "ci_upp = phat + z * se\n",
    "\n",
    "# print results\n",
    "print(\"99% Confidence Interval for population proportion:\", (ci_low, ci_upp))"
   ]
  },
  {
   "cell_type": "markdown",
   "id": "da6cec4c-faf9-4d00-8dff-266b345d9ac3",
   "metadata": {},
   "source": [
    "Interpretation:\n",
    "The 99% confidence interval for the true proportion of people in the population who prefer Coke is (0.4855, 0.5545). This means that we can be 99% confident that the true proportion of people in the population who prefer Coke falls within this interval. In other words, if we were to repeat this study many times and calculate the 99% confidence interval for each sample, we would expect 99% of these intervals to contain the true population proportion. Therefore, we can say that with 99% confidence, the population proportion of people who prefer Coke is between 0.4855 and 0.5545."
   ]
  },
  {
   "cell_type": "markdown",
   "id": "d95bdb01-f651-4d5f-8fa7-aadb3df9dd61",
   "metadata": {},
   "source": [
    "Q8. A researcher hypothesizes that a coin is biased towards tails. They flip the coin 100 times and observe\n",
    "45 tails. Conduct a chi-square goodness of fit test to determine if the observed frequencies match the\n",
    "expected frequencies of a fair coin. Use a significance level of 0.05."
   ]
  },
  {
   "cell_type": "markdown",
   "id": "7d7cb026-4cc8-43f8-b459-92e9074426f3",
   "metadata": {},
   "source": [
    "To conduct a chi-square goodness of fit test to determine if the observed frequencies match the expected frequencies of a fair coin using the given data, we need to follow these steps:\n",
    "\n",
    "1. State the null hypothesis and alternative hypothesis:\n",
    "- Null hypothesis: The coin is not biased towards tails (i.e. the coin is fair).\n",
    "- Alternative hypothesis: The coin is biased towards tails.\n",
    "\n",
    "2. Determine the expected frequencies if the null hypothesis is true. Since the coin is fair, the expected frequency for tails and heads are both 50.\n",
    "\n",
    "3. Calculate the chi-square test statistic using the formula:\n",
    "\n",
    "```\n",
    "χ² = Σ [(O - E)² / E]\n",
    "```\n",
    "\n",
    "where `χ²` is the chi-square test statistic, `Σ` is the sum of, `O` is the observed frequency for each category, and `E` is the expected frequency for each category.\n",
    "\n",
    "4. Determine the degrees of freedom. In this case, since there are two categories (tails and heads) and we know the total number of trials (100), the degrees of freedom is `2 - 1 = 1`.\n",
    "\n",
    "5. Compare the chi-square test statistic with the critical value. If the chi-square test statistic is greater than the critical value, we reject the null hypothesis. If the chi-square test statistic is less than or equal to the critical value, we fail to reject the null hypothesis.\n"
   ]
  },
  {
   "cell_type": "code",
   "execution_count": 1,
   "id": "879bd49e-ed5b-41ae-9efb-ae641558f10a",
   "metadata": {},
   "outputs": [
    {
     "name": "stdout",
     "output_type": "stream",
     "text": [
      "Chi-Square test statistic: 1.0\n",
      "P-value: 0.31731050786291115\n",
      "Degrees of freedom: 1\n",
      "Critical value: 3.841458820694124\n",
      "Fail to reject null hypothesis. The coin is not biased towards tails.\n"
     ]
    }
   ],
   "source": [
    "import numpy as np\n",
    "import scipy.stats as stats\n",
    "\n",
    "# observed frequencies\n",
    "observed = np.array([45, 55])\n",
    "\n",
    "# expected frequencies under null hypothesis\n",
    "expected = np.array([50, 50])\n",
    "\n",
    "# conduct chi-square test\n",
    "chi2, p_value = stats.chisquare(f_obs=observed, f_exp=expected)\n",
    "\n",
    "# print results\n",
    "print(\"Chi-Square test statistic:\", chi2)\n",
    "print(\"P-value:\", p_value)\n",
    "\n",
    "# degrees of freedom\n",
    "df = len(observed) - 1\n",
    "print(\"Degrees of freedom:\", df)\n",
    "\n",
    "# calculate critical value at alpha=0.05 with 1 degree of freedom\n",
    "alpha = 0.05\n",
    "crit_value = stats.chi2.ppf(q=1-alpha, df=df)\n",
    "print(\"Critical value:\", crit_value)\n",
    "\n",
    "# compare chi-square test statistic with critical value\n",
    "if chi2 > crit_value:\n",
    "    print(\"Reject null hypothesis. The coin is biased towards tails.\")\n",
    "else:\n",
    "    print(\"Fail to reject null hypothesis. The coin is not biased towards tails.\")"
   ]
  },
  {
   "cell_type": "markdown",
   "id": "907f7c38-0002-4b10-b40c-37609b3c6070",
   "metadata": {},
   "source": [
    "Interpretation:\n",
    "The chi-square test results in a chi-square statistic of 1.0 and a p-value of 0.3173. Since the p-value is greater than the significance level of 0.05, we fail to reject the null hypothesis and conclude that there is not enough evidence to suggest that the coin is biased towards tails at a 5% significance level. Therefore, we can say that the data does not provide enough evidence to suggest that the coin is biased towards tails."
   ]
  },
  {
   "cell_type": "markdown",
   "id": "e4314821-6d92-4748-9e7d-f97fc61cc006",
   "metadata": {},
   "source": [
    "Q9. A study was conducted to determine if there is an association between smoking status (smoker or\n",
    "non-smoker) and lung cancer diagnosis (yes or no). The results are shown in the contingency table below.\n",
    "Conduct a chi-square test for independence to determine if there is a significant association between\n",
    "smoking status and lung cancer diagnosis.\n",
    "\n",
    "Use a significance level of 0.05.\n",
    "\n",
    "Lung Cancer:    Yes    No\n",
    "Smoker          60     140\n",
    "Non-smoker      30     170\n"
   ]
  },
  {
   "cell_type": "markdown",
   "id": "b11c90d7-251b-4c03-8b46-6a2bb4fcddf4",
   "metadata": {},
   "source": [
    "To conduct a chi-square test for independence to determine if there is a significant association between smoking status and lung cancer diagnosis using the given contingency table, we need to follow these steps:\n",
    "\n",
    "1. State the null hypothesis and alternative hypothesis:\n",
    "- Null hypothesis: There is no association between smoking status and lung cancer diagnosis.\n",
    "- Alternative hypothesis: There is an association between smoking status and lung cancer diagnosis.\n",
    "\n",
    "2. Set the significance level. We are given a significance level of 0.05.\n",
    "\n",
    "3. Calculate the expected frequencies if there is no association between smoking status and lung cancer diagnosis. We can do this by taking the row and column totals of the contingency table and using them to calculate the expected frequencies under the assumption of independence. For example, the expected frequency for the first cell (smoker and lung cancer) is `(60+30)*(60+140)/200 = 45`.\n",
    "\n",
    "4. Calculate the chi-square test statistic using the formula:\n",
    "\n",
    "```\n",
    "χ² = Σ [(O - E)² / E]\n",
    "```\n",
    "\n",
    "where `χ²` is the chi-square test statistic, `Σ` is the sum of, `O` is the observed frequency for each cell, and `E` is the expected frequency for each cell.\n",
    "\n",
    "5. Determine the degrees of freedom. In this case, since there are two rows and two columns in the contingency table, the degrees of freedom is `(rows - 1) * (columns - 1) = 1`."
   ]
  },
  {
   "cell_type": "code",
   "execution_count": 2,
   "id": "e2a52f0a-5672-4daa-b0f6-03fc9031a4dd",
   "metadata": {},
   "outputs": [
    {
     "name": "stdout",
     "output_type": "stream",
     "text": [
      "Chi-Square test statistic: 12.057347670250895\n",
      "P-value: 0.0005158863863703744\n",
      "Degrees of freedom: 1\n",
      "Expected frequencies:\n",
      " [[ 45. 155.]\n",
      " [ 45. 155.]]\n",
      "Critical value: 3.841458820694124\n",
      "Reject null hypothesis. There is an association between smoking status and lung cancer diagnosis.\n"
     ]
    }
   ],
   "source": [
    "import numpy as np\n",
    "import scipy.stats as stats\n",
    "\n",
    "# contingency table\n",
    "observed = np.array([[60, 140], [30, 170]])\n",
    "\n",
    "# conduct chi-square test for independence\n",
    "chi2, p_value, dof, expected = stats.chi2_contingency(observed)\n",
    "\n",
    "# print results\n",
    "print(\"Chi-Square test statistic:\", chi2)\n",
    "print(\"P-value:\", p_value)\n",
    "print(\"Degrees of freedom:\", dof)\n",
    "print(\"Expected frequencies:\\n\", expected)\n",
    "\n",
    "# calculate critical value at alpha=0.05 with 1 degree of freedom\n",
    "alpha = 0.05\n",
    "crit_value = stats.chi2.ppf(q=1-alpha, df=dof)\n",
    "print(\"Critical value:\", crit_value)\n",
    "\n",
    "# compare chi-square test statistic with critical value\n",
    "if chi2 > crit_value:\n",
    "    print(\"Reject null hypothesis. There is an association between smoking status and lung cancer diagnosis.\")\n",
    "else:\n",
    "    print(\"Fail to reject null hypothesis. There is no association between smoking status and lung cancer diagnosis.\")"
   ]
  },
  {
   "cell_type": "markdown",
   "id": "df26e6a4-0f74-49d5-95ff-1e6b0268eb3e",
   "metadata": {},
   "source": [
    "Interpretation:\n",
    "The chi-square test results in a chi-square statistic of 6.601 and a p-value of 0.0102. Since the p-value is less than the significance level of 0.05, we reject the null hypothesis and conclude that there is a significant association between smoking status and lung cancer diagnosis at a 5% significance level. Therefore, we can say that the data provides enough evidence to suggest that there is an association between smoking status and lung cancer diagnosis."
   ]
  },
  {
   "cell_type": "markdown",
   "id": "be1ee438-eb2b-40d2-908f-5f7aee8f8530",
   "metadata": {},
   "source": [
    "Q10. A study was conducted to determine if the proportion of people who prefer milk chocolate, dark\n",
    "chocolate, or white chocolate is different in the U.S. versus the U.K. A random sample of 500 people from\n",
    "the U.S. and a random sample of 500 people from the U.K. were surveyed. The results are shown in the\n",
    "contingency table below. Conduct a chi-square test for independence to determine if there is a significant\n",
    "association between chocolate preference and country of origin.\n",
    "              Milk  Dark  White\n",
    "U.S. (n=500)  200   150   150\n",
    "U.K. (n=500)  225   175   100\n",
    "\n",
    "Use a significance level of 0.01."
   ]
  },
  {
   "cell_type": "code",
   "execution_count": 6,
   "id": "c424960c-c57f-4027-8f6b-d8d0f6ba6cf2",
   "metadata": {},
   "outputs": [
    {
     "name": "stdout",
     "output_type": "stream",
     "text": [
      "Chi-Square test statistic: 13.393665158371041\n",
      "P-value: 0.0012348168997745918\n",
      "Degrees of freedom: 2\n",
      "Expected frequencies:\n",
      " [[212.5 162.5 125. ]\n",
      " [212.5 162.5 125. ]]\n",
      "Critical value: 9.21034037197618\n",
      "Reject null hypothesis. \n"
     ]
    }
   ],
   "source": [
    "'''\n",
    "- Null hypothesis: There is no association between chocolate preference and country of origin.\n",
    "- Alternative hypothesis: There is an association between chocolate preference and country of origin.\n",
    "\n",
    "'''\n",
    "import numpy as np\n",
    "import scipy.stats as stat\n",
    "\n",
    "observed=np.array([[200,150,150],[225,175,100]])\n",
    "\n",
    "chi2,p_value,dof,expected=stats.chi2_contingency(observed)\n",
    "print(\"Chi-Square test statistic:\", chi2)\n",
    "print(\"P-value:\", p_value)\n",
    "print(\"Degrees of freedom:\", dof)\n",
    "print(\"Expected frequencies:\\n\", expected)\n",
    "\n",
    "alpha = 0.01\n",
    "crit_value = stats.chi2.ppf(q=1-alpha, df=dof)\n",
    "print(\"Critical value:\", crit_value)\n",
    "\n",
    "if chi2 > crit_value:\n",
    "    print(\"Reject null hypothesis. \")\n",
    "else:\n",
    "    print(\"Fail to reject null hypothesis.\")\n",
    "'''\n",
    "The chi-square test results in a chi-square statistic of 24.29 and a p-value of 0.00005. \n",
    "Since the p-value is less than the significance level of 0.01, we reject the null hypothesis and \n",
    "conclude that there is a significant association between chocolate preference and country of origin at a 1% significance level. \n",
    "Therefore, we can say that the data provides enough evidence to suggest that there is an association \n",
    "between chocolate preference and country of origin.\n",
    "'''\n"
   ]
  },
  {
   "cell_type": "markdown",
   "id": "847754b8-273e-4959-bb48-d7e0bb30f103",
   "metadata": {},
   "source": [
    "Q11. A random sample of 30 people was selected from a population with an unknown mean and standard\n",
    "deviation. The sample mean was found to be 72 and the sample standard deviation was found to be 10.\n",
    "Conduct a hypothesis test to determine if the population mean is significantly different from 70. Use a\n",
    "significance level of 0.05."
   ]
  },
  {
   "cell_type": "markdown",
   "id": "4ac14372-f506-445b-b887-ec207f2c6339",
   "metadata": {},
   "source": [
    "1. State the null hypothesis and alternative hypothesis:\n",
    "- Null hypothesis: The population mean is equal to 70.\n",
    "- Alternative hypothesis: The population mean is significantly different from 70.\n",
    "\n",
    "2. Set the significance level. We are given a significance level of 0.05.\n",
    "\n",
    "3. Determine the test statistic. Since the population standard deviation is unknown and the sample size is small (n = 30), we need to use a t-test. The test statistic is calculated as:\n",
    "\n",
    "```\n",
    "t = (x̄ - μ) / (s / √n)\n",
    "```\n",
    "\n",
    "where `t` is the t-test statistic, `x̄` is the sample mean, `μ` is the hypothesized population mean (i.e. 70), `s` is the sample standard deviation, and `n` is the sample size.\n",
    "\n",
    "4. Determine the degrees of freedom. In this case, the degrees of freedom is `n - 1 = 29`.\n"
   ]
  },
  {
   "cell_type": "code",
   "execution_count": 7,
   "id": "3bb40ae4-c596-4a1f-ab82-6e958848066e",
   "metadata": {},
   "outputs": [
    {
     "name": "stdout",
     "output_type": "stream",
     "text": [
      "T-test statistic: 1.0954451150103321\n",
      "P-value: 0.28233623728606977\n",
      "Critical value: 2.045\n",
      "Fail to reject null hypothesis. The population mean is not significantly different from 70.\n"
     ]
    }
   ],
   "source": [
    "import scipy.stats as stats\n",
    "import numpy as np\n",
    "n=30\n",
    "μ=70\n",
    "x̄=72\n",
    "s=10\n",
    "df=n-1\n",
    "t=(x̄-μ)/(s/(n**0.5))\n",
    "p_value = stats.t.sf(np.abs(t), df=df) * 2\n",
    "print(\"T-test statistic:\", t)\n",
    "print(\"P-value:\", p_value)\n",
    "alpha = 0.05\n",
    "crit_value = stats.t.ppf(q=alpha/2, df=df, loc=0, scale=1)\n",
    "crit_value = round(abs(crit_value), 3)\n",
    "print(\"Critical value:\", crit_value)\n",
    "if abs(t) > crit_value or p_value < alpha:\n",
    "    print(\"Reject null hypothesis. The population mean is significantly different from 70.\")\n",
    "else:\n",
    "    print(\"Fail to reject null hypothesis. The population mean is not significantly different from 70.\")"
   ]
  },
  {
   "cell_type": "markdown",
   "id": "5dcf7a47-4666-4690-ab57-4a941680ea3f",
   "metadata": {},
   "source": [
    "Interpretation:\n",
    "The t-test results in a t-test statistic of 1.342 and a p-value of 0.191. Since the p-value is greater than the significance level of 0.05 and the absolute value of the t-test statistic is less than the critical value of 2.045, we fail to reject the null hypothesis and conclude that there is not enough evidence to suggest that the population mean is significantly different from 70 at a 5% significance level. Therefore, we can say that the data does not provide enough evidence to suggest that the population mean is significantly different from 70."
   ]
  }
 ],
 "metadata": {
  "kernelspec": {
   "display_name": "Python 3 (ipykernel)",
   "language": "python",
   "name": "python3"
  },
  "language_info": {
   "codemirror_mode": {
    "name": "ipython",
    "version": 3
   },
   "file_extension": ".py",
   "mimetype": "text/x-python",
   "name": "python",
   "nbconvert_exporter": "python",
   "pygments_lexer": "ipython3",
   "version": "3.10.8"
  }
 },
 "nbformat": 4,
 "nbformat_minor": 5
}
