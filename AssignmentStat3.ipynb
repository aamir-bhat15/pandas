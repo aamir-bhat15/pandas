{
 "cells": [
  {
   "cell_type": "markdown",
   "id": "b53f3dc7-ac05-4e87-b00e-264b3af41019",
   "metadata": {},
   "source": [
    "Q1. What is the Probability density function?"
   ]
  },
  {
   "cell_type": "markdown",
   "id": "780a8c38-695a-4c11-98b3-60a5a7e16eaf",
   "metadata": {},
   "source": [
    "The probability density function (PDF) is a concept in probability theory that describes the likelihood of a random variable taking on a specific value within a given range. It gives us valuable information about the distribution of probabilities for a continuous random variable.\n",
    "\n",
    "In simple terms, the PDF provides a mathematical function that characterizes the relative likelihood of different outcomes. Unlike discrete random variables, which have distinct probabilities assigned to each possible outcome, continuous random variables have a range of possible outcomes and the PDF helps us understand the likelihood of observing a particular value within that range.\n",
    "\n",
    "The PDF is non-negative for any given variable value and integrates to 1 over the entire range of possible values. By integrating the PDF over a specific interval, we can obtain the probability of the variable falling within that range.\n",
    "\n",
    "This enables us to analyze and make predictions about complex systems in fields such as physics, economics, and engineering, where continuous variables are common. In summary, the PDF is an essential tool for quantifying the probabilities associated with continuous random variables."
   ]
  },
  {
   "cell_type": "markdown",
   "id": "674dea1a-febe-4b34-8c67-83a5237dd37a",
   "metadata": {},
   "source": [
    "Q2. What are the types of Probability distribution?"
   ]
  },
  {
   "cell_type": "markdown",
   "id": "55dc6520-2598-47b8-9ce5-5917bb3c1829",
   "metadata": {},
   "source": [
    "There are various types of probability distributions that are used to describe the distribution of probabilities for different random variables. Some common types include:\n",
    "\n",
    "1. Uniform distribution: A uniform distribution assigns equal probability to all outcomes within a given range.\n",
    "\n",
    "2. Normal distribution: The normal distribution, also known as the Gaussian distribution, is characterized by a bell-shaped curve. It is widely used in statistical analysis due to its properties of symmetry and its ability to describe many real-world phenomena.\n",
    "\n",
    "3. Binomial distribution: The binomial distribution models the probability of obtaining a certain number of successes in a fixed number of independent trials, where each trial has two possible outcomes (e.g., success or failure).\n",
    "\n",
    "4. Poisson distribution: The Poisson distribution is often used to model the number of events that occur within a fixed interval of time or space when the average rate of occurrence is known.\n",
    "\n",
    "5. Exponential distribution: The exponential distribution is used to model the time between events in a Poisson process, where events occur at a constant average rate.\n",
    "\n",
    "These are just a few examples of probability distributions, and there are many more, each with its own specific characteristics and applications."
   ]
  },
  {
   "cell_type": "markdown",
   "id": "bc7e3859-eb15-423d-8c91-755b4a6cda2b",
   "metadata": {},
   "source": [
    "Q3. Write a Python function to calculate the probability density function of a normal distribution with\n",
    "given mean and standard deviation at a given point."
   ]
  },
  {
   "cell_type": "code",
   "execution_count": 1,
   "id": "e76f5604-798c-4778-a4b6-3486bde89140",
   "metadata": {},
   "outputs": [
    {
     "name": "stdout",
     "output_type": "stream",
     "text": [
      "0.12951759566589174\n"
     ]
    },
    {
     "data": {
      "text/plain": [
       "'In this function, `x` is the point at which you want to calculate the PDF, `mean` is the mean of the normal distribution, and `std_dev` is the standard deviation. \\nThe function computes the PDF using the formula for the normal distribution and returns the result.\\n\\nYou can use this function to calculate the PDF at a specific point like this:\\n\\nThis will calculate and print the PDF of a standard normal distribution at `x=1.5` (assuming a mean of 0 and standard deviation of 1).'"
      ]
     },
     "execution_count": 1,
     "metadata": {},
     "output_type": "execute_result"
    }
   ],
   "source": [
    "import math\n",
    "\n",
    "def normal_pdf(x, mean, std_dev):\n",
    "    coefficient = 1 / (std_dev * math.sqrt(2 * math.pi))\n",
    "    exponent = -((x - mean) ** 2) / (2 * std_dev ** 2)\n",
    "    pdf = coefficient * math.exp(exponent)\n",
    "    return pdf\n",
    "\n",
    "\n",
    "mean = 0\n",
    "std_dev = 1\n",
    "x = 1.5\n",
    "pdf_value = normal_pdf(x, mean, std_dev)\n",
    "print(pdf_value)\n",
    "'''In this function, `x` is the point at which you want to calculate the PDF, `mean` is the mean of the normal distribution, and `std_dev` is the standard deviation. \n",
    "The function computes the PDF using the formula for the normal distribution and returns the result.\n",
    "\n",
    "You can use this function to calculate the PDF at a specific point like this:\n",
    "\n",
    "This will calculate and print the PDF of a standard normal distribution at `x=1.5` (assuming a mean of 0 and standard deviation of 1).'''"
   ]
  },
  {
   "cell_type": "markdown",
   "id": "f40aae0a-167b-4ad6-b882-7c68d8007fa3",
   "metadata": {},
   "source": [
    "Q4. What are the properties of Binomial distribution? Give two examples of events where binomial\n",
    "distribution can be applied."
   ]
  },
  {
   "cell_type": "markdown",
   "id": "b11cabe6-c0a5-4d3c-b8b9-f74d67f9dd86",
   "metadata": {},
   "source": [
    "The binomial distribution has several key properties:\n",
    "\n",
    "1. Fixed number of trials: The binomial distribution applies to situations where a fixed number of independent trials or experiments are conducted.\n",
    "\n",
    "2. Two possible outcomes: Each trial has only two possible outcomes, conventionally referred to as success and failure.\n",
    "\n",
    "3. Constant probability: The probability of success remains constant for each trial. This probability is denoted as \"p\" and the probability of failure is denoted as \"q,\" where q = 1 - p.\n",
    "\n",
    "4. Independence: Each trial is assumed to be independent, meaning that the outcome of one trial does not affect the outcomes of other trials.\n",
    "\n",
    "Two examples of events where the binomial distribution can be applied are:\n",
    "\n",
    "1. Coin flipping: When flipping a fair coin, the outcome can be heads or tails, making it a binary outcome. If we conduct a fixed number of independent coin flips and are interested in the probability of obtaining a certain number of heads, the binomial distribution can be used.\n",
    "\n",
    "2. Quality control: In manufacturing, quality control processes often involve inspecting a fixed number of items for defects. Each item can be either defective or non-defective. By using the binomial distribution, we can analyze the probability of finding a specific number of defective items in the sample.\n",
    "\n",
    "These examples demonstrate the binomial distribution's applicability in scenarios involving repeated trials with two possible outcomes."
   ]
  },
  {
   "cell_type": "markdown",
   "id": "725587f8-c757-4301-be33-ba70d2999074",
   "metadata": {},
   "source": [
    "Q5. Generate a random sample of size 1000 from a binomial distribution with probability of success 0.4\n",
    "and plot a histogram of the results using matplotlib."
   ]
  },
  {
   "cell_type": "code",
   "execution_count": 1,
   "id": "70cae55f-ca07-4896-a65d-39b181d9c025",
   "metadata": {},
   "outputs": [],
   "source": [
    "import numpy as np\n",
    "import matplotlib.pyplot as plt"
   ]
  },
  {
   "cell_type": "code",
   "execution_count": 4,
   "id": "440b2c73-713c-49d0-952d-6f540c69aa60",
   "metadata": {},
   "outputs": [
    {
     "data": {
      "image/png": "[encoded data removed]",
      "text/plain": [
       "<Figure size 640x480 with 1 Axes>"
      ]
     },
     "metadata": {},
     "output_type": "display_data"
    }
   ],
   "source": [
    "np.random.seed(123)\n",
    "sample=np.random.binomial(n=1,p=0.4,size=1000)\n",
    "plt.hist(sample,bins=2,edgecolor='black')\n",
    "plt.xlabel('Success or Failure')\n",
    "plt.ylabel('Count')\n",
    "plt.title('Binominal Distribution')\n",
    "plt.show()"
   ]
  },
  {
   "cell_type": "markdown",
   "id": "a33134b8-1bea-479c-be10-8030cfe42e46",
   "metadata": {},
   "source": [
    "Q6. Write a Python function to calculate the cumulative distribution function of a Poisson distribution\n",
    "with given mean at a given point."
   ]
  },
  {
   "cell_type": "markdown",
   "id": "16f20697-4952-4f50-ac8b-ff25df91962c",
   "metadata": {},
   "source": [
    "The cumulative distribution function (CDF) of a Poisson distribution with mean `mu` is given by:\n",
    "\n",
    "CDF(k) = P(X <= k) = sum(i=0 to k) (e^(-mu) * mu^i) / i!\n",
    "\n",
    "where X is the Poisson random variable."
   ]
  },
  {
   "cell_type": "code",
   "execution_count": 23,
   "id": "0e03018e-af9c-490e-8c4b-b59d496b990e",
   "metadata": {},
   "outputs": [],
   "source": [
    "import math\n",
    "def poissonfun(mu,k):\n",
    "    cdf = 0.0\n",
    "    for i in range(k+1):\n",
    "        cdf += math.exp(-mu) * (mu**i) / math.factorial(i)\n",
    "    return cdf"
   ]
  },
  {
   "cell_type": "code",
   "execution_count": 24,
   "id": "d331f1e8-1a50-42bd-8926-0e70bee68a05",
   "metadata": {},
   "outputs": [
    {
     "name": "stdout",
     "output_type": "stream",
     "text": [
      "CDF of Poisson distribution with mean 2.5 at point 3 is 0.7575761331330659\n"
     ]
    }
   ],
   "source": [
    "mu = 2.5\n",
    "k = 3\n",
    "cdf = poissonfun(mu, k)\n",
    "print(\"CDF of Poisson distribution with mean\", mu, \"at point\", k, \"is\", cdf)"
   ]
  },
  {
   "cell_type": "markdown",
   "id": "331099a8-47cc-426a-9531-4cff2746e774",
   "metadata": {},
   "source": [
    "Q7. How Binomial distribution different from Poisson distribution?"
   ]
  },
  {
   "cell_type": "markdown",
   "id": "78d44959-f525-40d8-9ed6-b353f39e86b0",
   "metadata": {},
   "source": [
    "Binomial distribution and Poisson distribution are two discrete probability distributions that are often used in statistical modeling. Here are some of the key differences between them:\n",
    "\n",
    "1. Definition:\n",
    "\n",
    "Binomial distribution is the probability distribution of the number of successes in a fixed number of independent trials, each with the same probability of success. Poisson distribution is the probability distribution of the number of events occurring in a fixed interval of time or space, given that these events occur independently of the time since the last event.\n",
    "\n",
    "2. Parameters:\n",
    "\n",
    "Binomial distribution has two parameters: the number of trials (n) and the probability of success in each trial (p). Poisson distribution has one parameter: the average rate of occurrence (λ) of the events within the fixed interval.\n",
    "\n",
    "3. Assumptions:\n",
    "\n",
    "Binomial distribution assumes that the trials are independent and that the probability of success in each trial is constant. Poisson distribution assumes that the events occur independently of each other and that the occurrence rate is constant.\n",
    "\n",
    "4. Shape:\n",
    "\n",
    "The shape of the binomial distribution is bell-shaped, symmetric and discrete, whereas Poisson distribution has a skewed right shape and is discrete.\n",
    "\n",
    "5. Use:\n",
    "\n",
    "Binomial distribution is used when there are a fixed number of independent trials and the outcome of each trial is either success or failure. Poisson distribution is used when the number of events occurring in a fixed interval is of interest.\n",
    "\n",
    "In summary, the key difference between binomial and Poisson distributions is that binomial distribution is used for a fixed number of independent trials, whereas Poisson distribution is used for a fixed interval of time or space."
   ]
  },
  {
   "cell_type": "markdown",
   "id": "6f8b9af0-ddf8-4fe9-ae9a-aa5c62f2122a",
   "metadata": {},
   "source": [
    "Q8. Generate a random sample of size 1000 from a Poisson distribution with mean 5 and calculate the\n",
    "sample mean and variance."
   ]
  },
  {
   "cell_type": "code",
   "execution_count": 25,
   "id": "1f9f2408-ff42-45e6-8368-6c23b55c4277",
   "metadata": {},
   "outputs": [
    {
     "name": "stdout",
     "output_type": "stream",
     "text": [
      "mean: 4.919\n",
      "variance: 5.035474474474475\n"
     ]
    }
   ],
   "source": [
    "import numpy as np\n",
    "np.random.seed(123)\n",
    "sam=np.random.poisson(lam=5,size=1000)\n",
    "mean=np.mean(sam)\n",
    "var=np.var(sam,ddof=1)\n",
    "print(\"mean:\",mean)\n",
    "print(\"variance:\",var)"
   ]
  },
  {
   "cell_type": "markdown",
   "id": "53667785-b1e2-4dda-85a4-d4b653de5bef",
   "metadata": {},
   "source": [
    "Q9. How mean and variance are related in Binomial distribution and Poisson distribution?"
   ]
  },
  {
   "cell_type": "markdown",
   "id": "9df53798-04a9-49af-b5dd-e2edffb84386",
   "metadata": {},
   "source": [
    "In Binomial distribution and Poisson distribution, the mean and variance are closely related.\n",
    "\n",
    "For a Binomial distribution with parameters n and p, the mean is given by μ = np and the variance is given by σ^2 = np(1-p). So, the variance of the Binomial distribution is directly proportional to both n and p, and it reaches its maximum value when p=0.5.\n",
    "\n",
    "For a Poisson distribution with parameter λ, the mean is also given by μ = λ, and the variance is also given by σ^2 = λ. So, the variance of the Poisson distribution is equal to the mean, and it reaches its maximum value when λ is large.\n",
    "\n",
    "In summary, the variance of the Binomial distribution depends on both the number of trials and the probability of success, while the variance of the Poisson distribution only depends on the mean or the average rate of occurrence of events. However, when λ is large, the Poisson distribution can be approximated by a normal distribution with the same mean and variance as the Poisson distribution, according to the Central Limit Theorem."
   ]
  },
  {
   "cell_type": "markdown",
   "id": "1987da45-381c-44ff-8416-3b27553fef1e",
   "metadata": {},
   "source": [
    "Q10. In normal distribution with respect to mean position, where does the least frequent data appear?"
   ]
  },
  {
   "cell_type": "markdown",
   "id": "a403de90-d144-4034-8327-63fab150541f",
   "metadata": {},
   "source": [
    "In a normal distribution, the least frequent data appear at the two extreme ends of the distribution, which are the tails. The tails of a normal distribution contain the values that are farthest from the mean, and thus have the lowest frequencies.\n",
    "\n",
    "Specifically, the least frequent data in a normal distribution appear in the tails beyond two standard deviations from the mean. According to the empirical rule or the 68-95-99.7 rule, approximately 68% of the data lie within one standard deviation of the mean, about 95% lie within two standard deviations of the mean, and almost all (99.7%) lie within three standard deviations of the mean. Thus, the remaining 0.3% of the data that lie beyond three standard deviations from the mean are the least frequent data in a normal distribution.\n",
    "\n",
    "Therefore, in a normal distribution, the least frequent data appear in the tails beyond two standard deviations from the mean."
   ]
  }
 ],
 "metadata": {
  "kernelspec": {
   "display_name": "Python 3 (ipykernel)",
   "language": "python",
   "name": "python3"
  },
  "language_info": {
   "codemirror_mode": {
    "name": "ipython",
    "version": 3
   },
   "file_extension": ".py",
   "mimetype": "text/x-python",
   "name": "python",
   "nbconvert_exporter": "python",
   "pygments_lexer": "ipython3",
   "version": "3.10.8"
  }
 },
 "nbformat": 4,
 "nbformat_minor": 5
}
