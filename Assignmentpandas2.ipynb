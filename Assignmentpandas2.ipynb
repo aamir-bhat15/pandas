{
 "cells": [
  {
   "cell_type": "code",
   "execution_count": 2,
   "id": "8ac0fd18-bc1f-4f38-987f-c8e52df0a102",
   "metadata": {},
   "outputs": [
    {
     "data": {
      "text/html": [
       "<div>\n",
       "<style scoped>\n",
       "    .dataframe tbody tr th:only-of-type {\n",
       "        vertical-align: middle;\n",
       "    }\n",
       "\n",
       "    .dataframe tbody tr th {\n",
       "        vertical-align: top;\n",
       "    }\n",
       "\n",
       "    .dataframe thead th {\n",
       "        text-align: right;\n",
       "    }\n",
       "</style>\n",
       "<table border=\"1\" class=\"dataframe\">\n",
       "  <thead>\n",
       "    <tr style=\"text-align: right;\">\n",
       "      <th></th>\n",
       "      <th>course_name</th>\n",
       "      <th>duration</th>\n",
       "    </tr>\n",
       "  </thead>\n",
       "  <tbody>\n",
       "    <tr>\n",
       "      <th>0</th>\n",
       "      <td>Data Science</td>\n",
       "      <td>2</td>\n",
       "    </tr>\n",
       "    <tr>\n",
       "      <th>1</th>\n",
       "      <td>Machine Learning</td>\n",
       "      <td>3</td>\n",
       "    </tr>\n",
       "    <tr>\n",
       "      <th>2</th>\n",
       "      <td>Big Data</td>\n",
       "      <td>6</td>\n",
       "    </tr>\n",
       "    <tr>\n",
       "      <th>3</th>\n",
       "      <td>Data Engineer</td>\n",
       "      <td>4</td>\n",
       "    </tr>\n",
       "  </tbody>\n",
       "</table>\n",
       "</div>"
      ],
      "text/plain": [
       "        course_name  duration\n",
       "0      Data Science         2\n",
       "1  Machine Learning         3\n",
       "2          Big Data         6\n",
       "3     Data Engineer         4"
      ]
     },
     "execution_count": 2,
     "metadata": {},
     "output_type": "execute_result"
    }
   ],
   "source": [
    "import pandas as pd\n",
    "course_name = ['Data Science', 'Machine Learning', 'Big Data', 'Data Engineer']\n",
    "duration = [2,3,6,4]\n",
    "df = pd.DataFrame(data = {'course_name' : course_name, 'duration': duration})\n",
    "df"
   ]
  },
  {
   "cell_type": "markdown",
   "id": "36747d89-7057-4afd-93ab-36e09ca109c4",
   "metadata": {},
   "source": [
    "Q1. Write a code to print the data present in the second row of the dataframe, df."
   ]
  },
  {
   "cell_type": "code",
   "execution_count": 7,
   "id": "83afd7d2-a96c-4ce9-8913-44f5a1069aee",
   "metadata": {},
   "outputs": [
    {
     "data": {
      "text/plain": [
       "course_name    Machine Learning\n",
       "duration                      3\n",
       "Name: 1, dtype: object"
      ]
     },
     "execution_count": 7,
     "metadata": {},
     "output_type": "execute_result"
    }
   ],
   "source": [
    "df.iloc[1]"
   ]
  },
  {
   "cell_type": "code",
   "execution_count": 11,
   "id": "2ea5ca80-8fe1-4d84-8992-4278e8638619",
   "metadata": {},
   "outputs": [
    {
     "data": {
      "text/plain": [
       "course_name    Machine Learning\n",
       "duration                      3\n",
       "Name: 1, dtype: object"
      ]
     },
     "execution_count": 11,
     "metadata": {},
     "output_type": "execute_result"
    }
   ],
   "source": [
    "df.loc[1]"
   ]
  },
  {
   "cell_type": "markdown",
   "id": "9e8ed991-2ee5-44b8-b179-276af08679cd",
   "metadata": {},
   "source": [
    "Q2. What is the difference between the functions loc and iloc in pandas.DataFrame?"
   ]
  },
  {
   "cell_type": "markdown",
   "id": "79b3263b-22f9-4dc6-8d71-e0b02d1ed6e7",
   "metadata": {},
   "source": [
    "The iloc() function is an indexed-based selecting method which means that we have to pass an integer index in the method to select a specific row/column. \n",
    "This method does not include the last element of the range passed in it unlike loc(). iloc() does not accept the boolean data unlike loc()."
   ]
  },
  {
   "cell_type": "markdown",
   "id": "9e6ac7e3-68d0-4ff0-812e-bad60d936074",
   "metadata": {},
   "source": [
    "The loc() function is label based data selecting method which means that we have to pass the name of the row or column which we want to select. \n",
    "This method includes the last element of the range passed in it, unlike iloc(). \n",
    "loc() can accept the boolean data unlike iloc()"
   ]
  },
  {
   "cell_type": "markdown",
   "id": "1ddae346-f8f9-45a0-807b-a6725257431c",
   "metadata": {},
   "source": [
    "Q3. Reindex the given dataframe using a variable, reindex = [3,0,1,2] and store it in the variable, new_df\n",
    "then find the output for both new_df.loc[2] and new_df.iloc[2]."
   ]
  },
  {
   "cell_type": "code",
   "execution_count": 24,
   "id": "bc774f55-ff60-4d73-a52b-bcd8e89bcaf6",
   "metadata": {},
   "outputs": [
    {
     "data": {
      "text/html": [
       "<div>\n",
       "<style scoped>\n",
       "    .dataframe tbody tr th:only-of-type {\n",
       "        vertical-align: middle;\n",
       "    }\n",
       "\n",
       "    .dataframe tbody tr th {\n",
       "        vertical-align: top;\n",
       "    }\n",
       "\n",
       "    .dataframe thead th {\n",
       "        text-align: right;\n",
       "    }\n",
       "</style>\n",
       "<table border=\"1\" class=\"dataframe\">\n",
       "  <thead>\n",
       "    <tr style=\"text-align: right;\">\n",
       "      <th></th>\n",
       "      <th>column_1</th>\n",
       "      <th>column_2</th>\n",
       "      <th>column_3</th>\n",
       "      <th>column_4</th>\n",
       "      <th>column_5</th>\n",
       "      <th>column_6</th>\n",
       "    </tr>\n",
       "  </thead>\n",
       "  <tbody>\n",
       "    <tr>\n",
       "      <th>1</th>\n",
       "      <td>0.132759</td>\n",
       "      <td>0.915922</td>\n",
       "      <td>0.253411</td>\n",
       "      <td>0.455565</td>\n",
       "      <td>0.493187</td>\n",
       "      <td>0.715907</td>\n",
       "    </tr>\n",
       "    <tr>\n",
       "      <th>2</th>\n",
       "      <td>0.827728</td>\n",
       "      <td>0.006718</td>\n",
       "      <td>0.131063</td>\n",
       "      <td>0.432478</td>\n",
       "      <td>0.155969</td>\n",
       "      <td>0.310643</td>\n",
       "    </tr>\n",
       "    <tr>\n",
       "      <th>3</th>\n",
       "      <td>0.588238</td>\n",
       "      <td>0.615323</td>\n",
       "      <td>0.456519</td>\n",
       "      <td>0.355225</td>\n",
       "      <td>0.160746</td>\n",
       "      <td>0.071875</td>\n",
       "    </tr>\n",
       "    <tr>\n",
       "      <th>4</th>\n",
       "      <td>0.188085</td>\n",
       "      <td>0.672089</td>\n",
       "      <td>0.752180</td>\n",
       "      <td>0.194524</td>\n",
       "      <td>0.623173</td>\n",
       "      <td>0.566842</td>\n",
       "    </tr>\n",
       "    <tr>\n",
       "      <th>5</th>\n",
       "      <td>0.609439</td>\n",
       "      <td>0.180016</td>\n",
       "      <td>0.410176</td>\n",
       "      <td>0.146160</td>\n",
       "      <td>0.834981</td>\n",
       "      <td>0.479554</td>\n",
       "    </tr>\n",
       "    <tr>\n",
       "      <th>6</th>\n",
       "      <td>0.363687</td>\n",
       "      <td>0.709103</td>\n",
       "      <td>0.865060</td>\n",
       "      <td>0.916750</td>\n",
       "      <td>0.623932</td>\n",
       "      <td>0.250113</td>\n",
       "    </tr>\n",
       "  </tbody>\n",
       "</table>\n",
       "</div>"
      ],
      "text/plain": [
       "   column_1  column_2  column_3  column_4  column_5  column_6\n",
       "1  0.132759  0.915922  0.253411  0.455565  0.493187  0.715907\n",
       "2  0.827728  0.006718  0.131063  0.432478  0.155969  0.310643\n",
       "3  0.588238  0.615323  0.456519  0.355225  0.160746  0.071875\n",
       "4  0.188085  0.672089  0.752180  0.194524  0.623173  0.566842\n",
       "5  0.609439  0.180016  0.410176  0.146160  0.834981  0.479554\n",
       "6  0.363687  0.709103  0.865060  0.916750  0.623932  0.250113"
      ]
     },
     "execution_count": 24,
     "metadata": {},
     "output_type": "execute_result"
    }
   ],
   "source": [
    "import pandas as pd\n",
    "import numpy as np\n",
    "columns = ['column_1', 'column_2', 'column_3', 'column_4', 'column_5', 'column_6']\n",
    "indices = [1,2,3,4,5,6]\n",
    "#Creating a dataframe:\n",
    "df1 = pd.DataFrame(np.random.rand(6,6), columns = columns, index = indices)\n",
    "df1"
   ]
  },
  {
   "cell_type": "code",
   "execution_count": 26,
   "id": "db095b60-edb2-41b1-8546-1fc176ee2e5d",
   "metadata": {},
   "outputs": [],
   "source": [
    "ndf=df1.reindex([3,0,1,2])"
   ]
  },
  {
   "cell_type": "code",
   "execution_count": 27,
   "id": "2a8561f6-c292-4f2a-9bb9-4fa8e616e196",
   "metadata": {},
   "outputs": [
    {
     "data": {
      "text/html": [
       "<div>\n",
       "<style scoped>\n",
       "    .dataframe tbody tr th:only-of-type {\n",
       "        vertical-align: middle;\n",
       "    }\n",
       "\n",
       "    .dataframe tbody tr th {\n",
       "        vertical-align: top;\n",
       "    }\n",
       "\n",
       "    .dataframe thead th {\n",
       "        text-align: right;\n",
       "    }\n",
       "</style>\n",
       "<table border=\"1\" class=\"dataframe\">\n",
       "  <thead>\n",
       "    <tr style=\"text-align: right;\">\n",
       "      <th></th>\n",
       "      <th>column_1</th>\n",
       "      <th>column_2</th>\n",
       "      <th>column_3</th>\n",
       "      <th>column_4</th>\n",
       "      <th>column_5</th>\n",
       "      <th>column_6</th>\n",
       "    </tr>\n",
       "  </thead>\n",
       "  <tbody>\n",
       "    <tr>\n",
       "      <th>3</th>\n",
       "      <td>0.588238</td>\n",
       "      <td>0.615323</td>\n",
       "      <td>0.456519</td>\n",
       "      <td>0.355225</td>\n",
       "      <td>0.160746</td>\n",
       "      <td>0.071875</td>\n",
       "    </tr>\n",
       "    <tr>\n",
       "      <th>0</th>\n",
       "      <td>NaN</td>\n",
       "      <td>NaN</td>\n",
       "      <td>NaN</td>\n",
       "      <td>NaN</td>\n",
       "      <td>NaN</td>\n",
       "      <td>NaN</td>\n",
       "    </tr>\n",
       "    <tr>\n",
       "      <th>1</th>\n",
       "      <td>0.132759</td>\n",
       "      <td>0.915922</td>\n",
       "      <td>0.253411</td>\n",
       "      <td>0.455565</td>\n",
       "      <td>0.493187</td>\n",
       "      <td>0.715907</td>\n",
       "    </tr>\n",
       "    <tr>\n",
       "      <th>2</th>\n",
       "      <td>0.827728</td>\n",
       "      <td>0.006718</td>\n",
       "      <td>0.131063</td>\n",
       "      <td>0.432478</td>\n",
       "      <td>0.155969</td>\n",
       "      <td>0.310643</td>\n",
       "    </tr>\n",
       "  </tbody>\n",
       "</table>\n",
       "</div>"
      ],
      "text/plain": [
       "   column_1  column_2  column_3  column_4  column_5  column_6\n",
       "3  0.588238  0.615323  0.456519  0.355225  0.160746  0.071875\n",
       "0       NaN       NaN       NaN       NaN       NaN       NaN\n",
       "1  0.132759  0.915922  0.253411  0.455565  0.493187  0.715907\n",
       "2  0.827728  0.006718  0.131063  0.432478  0.155969  0.310643"
      ]
     },
     "execution_count": 27,
     "metadata": {},
     "output_type": "execute_result"
    }
   ],
   "source": [
    "ndf"
   ]
  },
  {
   "cell_type": "code",
   "execution_count": 28,
   "id": "d689541a-1bc5-44df-ad9f-7b26f56f38d1",
   "metadata": {},
   "outputs": [
    {
     "data": {
      "text/plain": [
       "column_1    0.827728\n",
       "column_2    0.006718\n",
       "column_3    0.131063\n",
       "column_4    0.432478\n",
       "column_5    0.155969\n",
       "column_6    0.310643\n",
       "Name: 2, dtype: float64"
      ]
     },
     "execution_count": 28,
     "metadata": {},
     "output_type": "execute_result"
    }
   ],
   "source": [
    "ndf.loc[2]\n",
    "#accesses the column having index =2"
   ]
  },
  {
   "cell_type": "code",
   "execution_count": 29,
   "id": "720d89bb-4d68-4e9d-89ea-20ae8a703c83",
   "metadata": {},
   "outputs": [
    {
     "data": {
      "text/plain": [
       "column_1    0.132759\n",
       "column_2    0.915922\n",
       "column_3    0.253411\n",
       "column_4    0.455565\n",
       "column_5    0.493187\n",
       "column_6    0.715907\n",
       "Name: 1, dtype: float64"
      ]
     },
     "execution_count": 29,
     "metadata": {},
     "output_type": "execute_result"
    }
   ],
   "source": [
    "ndf.iloc[2]\n",
    "#accesses the second index elements"
   ]
  },
  {
   "cell_type": "code",
   "execution_count": null,
   "id": "b56c0d90-af84-435e-9f4f-20714be44b24",
   "metadata": {},
   "outputs": [],
   "source": [
    "Q4. Write a code to find the following statistical measurements for the above dataframe df1:\n",
    "(i) mean of each and every column present in the dataframe.\n",
    "(ii) standard deviation of column, ‘column_2’"
   ]
  },
  {
   "cell_type": "code",
   "execution_count": 30,
   "id": "31179330-72aa-4296-91aa-f251316a3b07",
   "metadata": {},
   "outputs": [
    {
     "data": {
      "text/html": [
       "<div>\n",
       "<style scoped>\n",
       "    .dataframe tbody tr th:only-of-type {\n",
       "        vertical-align: middle;\n",
       "    }\n",
       "\n",
       "    .dataframe tbody tr th {\n",
       "        vertical-align: top;\n",
       "    }\n",
       "\n",
       "    .dataframe thead th {\n",
       "        text-align: right;\n",
       "    }\n",
       "</style>\n",
       "<table border=\"1\" class=\"dataframe\">\n",
       "  <thead>\n",
       "    <tr style=\"text-align: right;\">\n",
       "      <th></th>\n",
       "      <th>column_1</th>\n",
       "      <th>column_2</th>\n",
       "      <th>column_3</th>\n",
       "      <th>column_4</th>\n",
       "      <th>column_5</th>\n",
       "      <th>column_6</th>\n",
       "    </tr>\n",
       "  </thead>\n",
       "  <tbody>\n",
       "    <tr>\n",
       "      <th>1</th>\n",
       "      <td>0.132759</td>\n",
       "      <td>0.915922</td>\n",
       "      <td>0.253411</td>\n",
       "      <td>0.455565</td>\n",
       "      <td>0.493187</td>\n",
       "      <td>0.715907</td>\n",
       "    </tr>\n",
       "    <tr>\n",
       "      <th>2</th>\n",
       "      <td>0.827728</td>\n",
       "      <td>0.006718</td>\n",
       "      <td>0.131063</td>\n",
       "      <td>0.432478</td>\n",
       "      <td>0.155969</td>\n",
       "      <td>0.310643</td>\n",
       "    </tr>\n",
       "    <tr>\n",
       "      <th>3</th>\n",
       "      <td>0.588238</td>\n",
       "      <td>0.615323</td>\n",
       "      <td>0.456519</td>\n",
       "      <td>0.355225</td>\n",
       "      <td>0.160746</td>\n",
       "      <td>0.071875</td>\n",
       "    </tr>\n",
       "    <tr>\n",
       "      <th>4</th>\n",
       "      <td>0.188085</td>\n",
       "      <td>0.672089</td>\n",
       "      <td>0.752180</td>\n",
       "      <td>0.194524</td>\n",
       "      <td>0.623173</td>\n",
       "      <td>0.566842</td>\n",
       "    </tr>\n",
       "    <tr>\n",
       "      <th>5</th>\n",
       "      <td>0.609439</td>\n",
       "      <td>0.180016</td>\n",
       "      <td>0.410176</td>\n",
       "      <td>0.146160</td>\n",
       "      <td>0.834981</td>\n",
       "      <td>0.479554</td>\n",
       "    </tr>\n",
       "    <tr>\n",
       "      <th>6</th>\n",
       "      <td>0.363687</td>\n",
       "      <td>0.709103</td>\n",
       "      <td>0.865060</td>\n",
       "      <td>0.916750</td>\n",
       "      <td>0.623932</td>\n",
       "      <td>0.250113</td>\n",
       "    </tr>\n",
       "  </tbody>\n",
       "</table>\n",
       "</div>"
      ],
      "text/plain": [
       "   column_1  column_2  column_3  column_4  column_5  column_6\n",
       "1  0.132759  0.915922  0.253411  0.455565  0.493187  0.715907\n",
       "2  0.827728  0.006718  0.131063  0.432478  0.155969  0.310643\n",
       "3  0.588238  0.615323  0.456519  0.355225  0.160746  0.071875\n",
       "4  0.188085  0.672089  0.752180  0.194524  0.623173  0.566842\n",
       "5  0.609439  0.180016  0.410176  0.146160  0.834981  0.479554\n",
       "6  0.363687  0.709103  0.865060  0.916750  0.623932  0.250113"
      ]
     },
     "execution_count": 30,
     "metadata": {},
     "output_type": "execute_result"
    }
   ],
   "source": [
    "df1"
   ]
  },
  {
   "cell_type": "code",
   "execution_count": 31,
   "id": "a138d797-7276-48ee-b02e-bf6d3c8dae06",
   "metadata": {},
   "outputs": [
    {
     "data": {
      "text/plain": [
       "column_1    0.451656\n",
       "column_2    0.516529\n",
       "column_3    0.478068\n",
       "column_4    0.416784\n",
       "column_5    0.481998\n",
       "column_6    0.399156\n",
       "dtype: float64"
      ]
     },
     "execution_count": 31,
     "metadata": {},
     "output_type": "execute_result"
    }
   ],
   "source": [
    "df1.mean()"
   ]
  },
  {
   "cell_type": "code",
   "execution_count": 32,
   "id": "e81fab82-f889-4dfd-a5a3-0934aea6de24",
   "metadata": {},
   "outputs": [
    {
     "data": {
      "text/plain": [
       "column_1    0.269772\n",
       "column_2    0.347479\n",
       "column_3    0.283146\n",
       "column_4    0.275006\n",
       "column_5    0.273604\n",
       "column_6    0.233270\n",
       "dtype: float64"
      ]
     },
     "execution_count": 32,
     "metadata": {},
     "output_type": "execute_result"
    }
   ],
   "source": [
    "df1.std()"
   ]
  },
  {
   "cell_type": "code",
   "execution_count": 33,
   "id": "ea9fcee4-f9a4-4a64-b150-354be125bf5b",
   "metadata": {},
   "outputs": [
    {
     "data": {
      "text/html": [
       "<div>\n",
       "<style scoped>\n",
       "    .dataframe tbody tr th:only-of-type {\n",
       "        vertical-align: middle;\n",
       "    }\n",
       "\n",
       "    .dataframe tbody tr th {\n",
       "        vertical-align: top;\n",
       "    }\n",
       "\n",
       "    .dataframe thead th {\n",
       "        text-align: right;\n",
       "    }\n",
       "</style>\n",
       "<table border=\"1\" class=\"dataframe\">\n",
       "  <thead>\n",
       "    <tr style=\"text-align: right;\">\n",
       "      <th></th>\n",
       "      <th>column_1</th>\n",
       "      <th>column_2</th>\n",
       "      <th>column_3</th>\n",
       "      <th>column_4</th>\n",
       "      <th>column_5</th>\n",
       "      <th>column_6</th>\n",
       "    </tr>\n",
       "  </thead>\n",
       "  <tbody>\n",
       "    <tr>\n",
       "      <th>count</th>\n",
       "      <td>6.000000</td>\n",
       "      <td>6.000000</td>\n",
       "      <td>6.000000</td>\n",
       "      <td>6.000000</td>\n",
       "      <td>6.000000</td>\n",
       "      <td>6.000000</td>\n",
       "    </tr>\n",
       "    <tr>\n",
       "      <th>mean</th>\n",
       "      <td>0.451656</td>\n",
       "      <td>0.516529</td>\n",
       "      <td>0.478068</td>\n",
       "      <td>0.416784</td>\n",
       "      <td>0.481998</td>\n",
       "      <td>0.399156</td>\n",
       "    </tr>\n",
       "    <tr>\n",
       "      <th>std</th>\n",
       "      <td>0.269772</td>\n",
       "      <td>0.347479</td>\n",
       "      <td>0.283146</td>\n",
       "      <td>0.275006</td>\n",
       "      <td>0.273604</td>\n",
       "      <td>0.233270</td>\n",
       "    </tr>\n",
       "    <tr>\n",
       "      <th>min</th>\n",
       "      <td>0.132759</td>\n",
       "      <td>0.006718</td>\n",
       "      <td>0.131063</td>\n",
       "      <td>0.146160</td>\n",
       "      <td>0.155969</td>\n",
       "      <td>0.071875</td>\n",
       "    </tr>\n",
       "    <tr>\n",
       "      <th>25%</th>\n",
       "      <td>0.231986</td>\n",
       "      <td>0.288843</td>\n",
       "      <td>0.292602</td>\n",
       "      <td>0.234699</td>\n",
       "      <td>0.243856</td>\n",
       "      <td>0.265245</td>\n",
       "    </tr>\n",
       "    <tr>\n",
       "      <th>50%</th>\n",
       "      <td>0.475962</td>\n",
       "      <td>0.643706</td>\n",
       "      <td>0.433348</td>\n",
       "      <td>0.393852</td>\n",
       "      <td>0.558180</td>\n",
       "      <td>0.395098</td>\n",
       "    </tr>\n",
       "    <tr>\n",
       "      <th>75%</th>\n",
       "      <td>0.604139</td>\n",
       "      <td>0.699849</td>\n",
       "      <td>0.678265</td>\n",
       "      <td>0.449793</td>\n",
       "      <td>0.623742</td>\n",
       "      <td>0.545020</td>\n",
       "    </tr>\n",
       "    <tr>\n",
       "      <th>max</th>\n",
       "      <td>0.827728</td>\n",
       "      <td>0.915922</td>\n",
       "      <td>0.865060</td>\n",
       "      <td>0.916750</td>\n",
       "      <td>0.834981</td>\n",
       "      <td>0.715907</td>\n",
       "    </tr>\n",
       "  </tbody>\n",
       "</table>\n",
       "</div>"
      ],
      "text/plain": [
       "       column_1  column_2  column_3  column_4  column_5  column_6\n",
       "count  6.000000  6.000000  6.000000  6.000000  6.000000  6.000000\n",
       "mean   0.451656  0.516529  0.478068  0.416784  0.481998  0.399156\n",
       "std    0.269772  0.347479  0.283146  0.275006  0.273604  0.233270\n",
       "min    0.132759  0.006718  0.131063  0.146160  0.155969  0.071875\n",
       "25%    0.231986  0.288843  0.292602  0.234699  0.243856  0.265245\n",
       "50%    0.475962  0.643706  0.433348  0.393852  0.558180  0.395098\n",
       "75%    0.604139  0.699849  0.678265  0.449793  0.623742  0.545020\n",
       "max    0.827728  0.915922  0.865060  0.916750  0.834981  0.715907"
      ]
     },
     "execution_count": 33,
     "metadata": {},
     "output_type": "execute_result"
    }
   ],
   "source": [
    "df1.describe()"
   ]
  },
  {
   "cell_type": "code",
   "execution_count": null,
   "id": "8f5a169d-ab4c-4f8e-ac11-d55d97296f1b",
   "metadata": {},
   "outputs": [],
   "source": [
    "Q5. Replace the data present in the second row of column, ‘column_2’ by a string variable then find the\n",
    "mean of column, column_2."
   ]
  },
  {
   "cell_type": "code",
   "execution_count": 49,
   "id": "f585650e-54e2-40d5-ba7e-477a5b9f6899",
   "metadata": {},
   "outputs": [
    {
     "data": {
      "text/plain": [
       "0.006718461790642061"
      ]
     },
     "execution_count": 49,
     "metadata": {},
     "output_type": "execute_result"
    }
   ],
   "source": [
    "df1.loc[2]['column_2']"
   ]
  },
  {
   "cell_type": "code",
   "execution_count": 50,
   "id": "a437223e-177a-4be6-adab-f482392cba69",
   "metadata": {},
   "outputs": [],
   "source": [
    "df1=df1.replace(df1.loc[2]['column_2'],'Aamir')"
   ]
  },
  {
   "cell_type": "code",
   "execution_count": 51,
   "id": "d2a9967e-1e93-4425-b130-9dc97d773015",
   "metadata": {},
   "outputs": [
    {
     "data": {
      "text/html": [
       "<div>\n",
       "<style scoped>\n",
       "    .dataframe tbody tr th:only-of-type {\n",
       "        vertical-align: middle;\n",
       "    }\n",
       "\n",
       "    .dataframe tbody tr th {\n",
       "        vertical-align: top;\n",
       "    }\n",
       "\n",
       "    .dataframe thead th {\n",
       "        text-align: right;\n",
       "    }\n",
       "</style>\n",
       "<table border=\"1\" class=\"dataframe\">\n",
       "  <thead>\n",
       "    <tr style=\"text-align: right;\">\n",
       "      <th></th>\n",
       "      <th>column_1</th>\n",
       "      <th>column_2</th>\n",
       "      <th>column_3</th>\n",
       "      <th>column_4</th>\n",
       "      <th>column_5</th>\n",
       "      <th>column_6</th>\n",
       "    </tr>\n",
       "  </thead>\n",
       "  <tbody>\n",
       "    <tr>\n",
       "      <th>1</th>\n",
       "      <td>0.132759</td>\n",
       "      <td>0.915922</td>\n",
       "      <td>0.253411</td>\n",
       "      <td>0.455565</td>\n",
       "      <td>0.493187</td>\n",
       "      <td>0.715907</td>\n",
       "    </tr>\n",
       "    <tr>\n",
       "      <th>2</th>\n",
       "      <td>0.827728</td>\n",
       "      <td>Aamir</td>\n",
       "      <td>0.131063</td>\n",
       "      <td>0.432478</td>\n",
       "      <td>0.155969</td>\n",
       "      <td>0.310643</td>\n",
       "    </tr>\n",
       "    <tr>\n",
       "      <th>3</th>\n",
       "      <td>0.588238</td>\n",
       "      <td>0.615323</td>\n",
       "      <td>0.456519</td>\n",
       "      <td>0.355225</td>\n",
       "      <td>0.160746</td>\n",
       "      <td>0.071875</td>\n",
       "    </tr>\n",
       "    <tr>\n",
       "      <th>4</th>\n",
       "      <td>0.188085</td>\n",
       "      <td>0.672089</td>\n",
       "      <td>0.752180</td>\n",
       "      <td>0.194524</td>\n",
       "      <td>0.623173</td>\n",
       "      <td>0.566842</td>\n",
       "    </tr>\n",
       "    <tr>\n",
       "      <th>5</th>\n",
       "      <td>0.609439</td>\n",
       "      <td>0.180016</td>\n",
       "      <td>0.410176</td>\n",
       "      <td>0.146160</td>\n",
       "      <td>0.834981</td>\n",
       "      <td>0.479554</td>\n",
       "    </tr>\n",
       "    <tr>\n",
       "      <th>6</th>\n",
       "      <td>0.363687</td>\n",
       "      <td>0.709103</td>\n",
       "      <td>0.865060</td>\n",
       "      <td>0.916750</td>\n",
       "      <td>0.623932</td>\n",
       "      <td>0.250113</td>\n",
       "    </tr>\n",
       "  </tbody>\n",
       "</table>\n",
       "</div>"
      ],
      "text/plain": [
       "   column_1  column_2  column_3  column_4  column_5  column_6\n",
       "1  0.132759  0.915922  0.253411  0.455565  0.493187  0.715907\n",
       "2  0.827728     Aamir  0.131063  0.432478  0.155969  0.310643\n",
       "3  0.588238  0.615323  0.456519  0.355225  0.160746  0.071875\n",
       "4  0.188085  0.672089  0.752180  0.194524  0.623173  0.566842\n",
       "5  0.609439  0.180016  0.410176  0.146160  0.834981  0.479554\n",
       "6  0.363687  0.709103  0.865060  0.916750  0.623932  0.250113"
      ]
     },
     "execution_count": 51,
     "metadata": {},
     "output_type": "execute_result"
    }
   ],
   "source": [
    "df1"
   ]
  },
  {
   "cell_type": "code",
   "execution_count": 52,
   "id": "fb0afd6d-6464-4cff-889b-902e1d797031",
   "metadata": {},
   "outputs": [
    {
     "name": "stderr",
     "output_type": "stream",
     "text": [
      "/tmp/ipykernel_77/2053335143.py:1: FutureWarning: The default value of numeric_only in DataFrame.mean is deprecated. In a future version, it will default to False. In addition, specifying 'numeric_only=None' is deprecated. Select only valid columns or specify the value of numeric_only to silence this warning.\n",
      "  df1.mean()\n"
     ]
    },
    {
     "data": {
      "text/plain": [
       "column_1    0.451656\n",
       "column_3    0.478068\n",
       "column_4    0.416784\n",
       "column_5    0.481998\n",
       "column_6    0.399156\n",
       "dtype: float64"
      ]
     },
     "execution_count": 52,
     "metadata": {},
     "output_type": "execute_result"
    }
   ],
   "source": [
    "df1.mean()"
   ]
  },
  {
   "cell_type": "code",
   "execution_count": 53,
   "id": "b886a9b3-ddce-44d3-b0bb-81dbbab4ace9",
   "metadata": {},
   "outputs": [],
   "source": [
    "#Since one of the value in column_2 is string, its not showing any mean for that column"
   ]
  },
  {
   "cell_type": "code",
   "execution_count": null,
   "id": "29ad280e-db31-48bf-b68a-c482824c1b2b",
   "metadata": {},
   "outputs": [],
   "source": [
    "Q6. What do you understand about the windows function in pandas and list the types of windows\n",
    "functions?"
   ]
  },
  {
   "cell_type": "code",
   "execution_count": null,
   "id": "d668714f-1197-4837-b644-02ec0fef0113",
   "metadata": {},
   "outputs": [],
   "source": [
    "Window functions allow us to perform computations among the values of a specified column. \n",
    "For example, I might want to compare today’s stock price with yesterday’s — then I would want a window of “1” looking backwards."
   ]
  },
  {
   "cell_type": "code",
   "execution_count": null,
   "id": "ded2312c-06b7-4591-a7e1-c71496aa9df6",
   "metadata": {},
   "outputs": [],
   "source": [
    ".rolling() Function\n",
    "\n",
    "    This function can be applied on a series of data. Specify the window=n argument and apply the appropriate statistical function on top of it.\n",
    "\n",
    ".expanding() Function\n",
    "\n",
    "    This function can be applied on a series of data. Specify the min_periods=n argument and apply the appropriate statistical function on top of it.\n",
    "\n",
    ".ewm() Function\n",
    "\n",
    "    ewm is applied on a series of data. Specify any of the com, span, halflife argument and apply the appropriate statistical function on top of it. \n",
    "It assigns the weights exponentially."
   ]
  },
  {
   "cell_type": "code",
   "execution_count": null,
   "id": "4dbeaff5-b664-4cc2-92ef-b3f508a4cd1b",
   "metadata": {},
   "outputs": [],
   "source": [
    "Q7. Write a code to print only the current month and year at the time of answering this question."
   ]
  },
  {
   "cell_type": "code",
   "execution_count": 7,
   "id": "859b7aca-2b15-4af5-a616-728312277df3",
   "metadata": {},
   "outputs": [
    {
     "name": "stdout",
     "output_type": "stream",
     "text": [
      "7\n",
      "2023\n"
     ]
    }
   ],
   "source": [
    "from datetime import date\n",
    "todays_date = date.today()\n",
    "current_month=todays_date.month\n",
    "current_year=todays_date.year\n",
    "print(current_month)\n",
    "print(current_year)"
   ]
  },
  {
   "cell_type": "code",
   "execution_count": null,
   "id": "ed436bf8-271f-4ae0-bf0b-c743125d610c",
   "metadata": {},
   "outputs": [],
   "source": [
    "Q8. Write a Python program that takes in two dates as input (in the format YYYY-MM-DD) and\n",
    "calculates the difference between them in days, hours, and minutes using Pandas time delta. The\n",
    "program should prompt the user to enter the dates and display the result."
   ]
  },
  {
   "cell_type": "code",
   "execution_count": 19,
   "id": "d8226019-8b96-40b7-988f-2679823d4694",
   "metadata": {},
   "outputs": [
    {
     "name": "stdin",
     "output_type": "stream",
     "text": [
      "Enter first date 2023-11-12 00:00:00\n",
      "Enter second date 2023-12-12 12:59:59\n"
     ]
    },
    {
     "name": "stdout",
     "output_type": "stream",
     "text": [
      "30 12 59\n"
     ]
    }
   ],
   "source": [
    "import pandas as pd\n",
    "daet1=input(\"Enter first date\")\n",
    "daet2=input(\"Enter second date\")\n",
    "daet1=pd.to_datetime(daet1)\n",
    "daet2=pd.to_datetime(daet2)\n",
    "diff= daet2-daet1\n",
    "days=diff.days\n",
    "hours=diff.seconds//3600\n",
    "minutes=(diff.seconds//60)%60\n",
    "print(days,hours,minutes)"
   ]
  },
  {
   "cell_type": "code",
   "execution_count": null,
   "id": "73f29564-075b-4127-9ca6-8766144b65ef",
   "metadata": {},
   "outputs": [],
   "source": [
    "Q9. Write a Python program that reads a CSV file containing categorical data and converts a specified\n",
    "column to a categorical data type. The program should prompt the user to enter the file path, column\n",
    "name, and category order, and then display the sorted data."
   ]
  },
  {
   "cell_type": "code",
   "execution_count": 20,
   "id": "1dbe2405-17bb-4c8e-8975-0858c4a1005a",
   "metadata": {},
   "outputs": [],
   "source": [
    "import pandas as pd\n",
    "df=pd.read_csv('player.csv')"
   ]
  },
  {
   "cell_type": "code",
   "execution_count": 21,
   "id": "c5f80cef-53f5-4889-a74e-a4d49e1c1f5e",
   "metadata": {},
   "outputs": [
    {
     "data": {
      "text/html": [
       "<div>\n",
       "<style scoped>\n",
       "    .dataframe tbody tr th:only-of-type {\n",
       "        vertical-align: middle;\n",
       "    }\n",
       "\n",
       "    .dataframe tbody tr th {\n",
       "        vertical-align: top;\n",
       "    }\n",
       "\n",
       "    .dataframe thead th {\n",
       "        text-align: right;\n",
       "    }\n",
       "</style>\n",
       "<table border=\"1\" class=\"dataframe\">\n",
       "  <thead>\n",
       "    <tr style=\"text-align: right;\">\n",
       "      <th></th>\n",
       "      <th>Rk</th>\n",
       "      <th>Player</th>\n",
       "      <th>Pos</th>\n",
       "      <th>Age</th>\n",
       "      <th>Tm</th>\n",
       "      <th>G</th>\n",
       "      <th>GS</th>\n",
       "      <th>MP</th>\n",
       "      <th>FG</th>\n",
       "      <th>FGA</th>\n",
       "      <th>...</th>\n",
       "      <th>FT%</th>\n",
       "      <th>ORB</th>\n",
       "      <th>DRB</th>\n",
       "      <th>TRB</th>\n",
       "      <th>AST</th>\n",
       "      <th>STL</th>\n",
       "      <th>BLK</th>\n",
       "      <th>TOV</th>\n",
       "      <th>PF</th>\n",
       "      <th>PTS</th>\n",
       "    </tr>\n",
       "  </thead>\n",
       "  <tbody>\n",
       "    <tr>\n",
       "      <th>0</th>\n",
       "      <td>1</td>\n",
       "      <td>Quincy Acy</td>\n",
       "      <td>PF</td>\n",
       "      <td>24</td>\n",
       "      <td>NYK</td>\n",
       "      <td>68</td>\n",
       "      <td>22</td>\n",
       "      <td>1287</td>\n",
       "      <td>152</td>\n",
       "      <td>331</td>\n",
       "      <td>...</td>\n",
       "      <td>.784</td>\n",
       "      <td>79</td>\n",
       "      <td>222</td>\n",
       "      <td>301</td>\n",
       "      <td>68</td>\n",
       "      <td>27</td>\n",
       "      <td>22</td>\n",
       "      <td>60</td>\n",
       "      <td>147</td>\n",
       "      <td>398</td>\n",
       "    </tr>\n",
       "    <tr>\n",
       "      <th>1</th>\n",
       "      <td>2</td>\n",
       "      <td>Jordan Adams</td>\n",
       "      <td>SG</td>\n",
       "      <td>20</td>\n",
       "      <td>MEM</td>\n",
       "      <td>30</td>\n",
       "      <td>0</td>\n",
       "      <td>248</td>\n",
       "      <td>35</td>\n",
       "      <td>86</td>\n",
       "      <td>...</td>\n",
       "      <td>.609</td>\n",
       "      <td>9</td>\n",
       "      <td>19</td>\n",
       "      <td>28</td>\n",
       "      <td>16</td>\n",
       "      <td>16</td>\n",
       "      <td>7</td>\n",
       "      <td>14</td>\n",
       "      <td>24</td>\n",
       "      <td>94</td>\n",
       "    </tr>\n",
       "    <tr>\n",
       "      <th>2</th>\n",
       "      <td>3</td>\n",
       "      <td>Steven Adams</td>\n",
       "      <td>C</td>\n",
       "      <td>21</td>\n",
       "      <td>OKC</td>\n",
       "      <td>70</td>\n",
       "      <td>67</td>\n",
       "      <td>1771</td>\n",
       "      <td>217</td>\n",
       "      <td>399</td>\n",
       "      <td>...</td>\n",
       "      <td>.502</td>\n",
       "      <td>199</td>\n",
       "      <td>324</td>\n",
       "      <td>523</td>\n",
       "      <td>66</td>\n",
       "      <td>38</td>\n",
       "      <td>86</td>\n",
       "      <td>99</td>\n",
       "      <td>222</td>\n",
       "      <td>537</td>\n",
       "    </tr>\n",
       "    <tr>\n",
       "      <th>3</th>\n",
       "      <td>4</td>\n",
       "      <td>Jeff Adrien</td>\n",
       "      <td>PF</td>\n",
       "      <td>28</td>\n",
       "      <td>MIN</td>\n",
       "      <td>17</td>\n",
       "      <td>0</td>\n",
       "      <td>215</td>\n",
       "      <td>19</td>\n",
       "      <td>44</td>\n",
       "      <td>...</td>\n",
       "      <td>.579</td>\n",
       "      <td>23</td>\n",
       "      <td>54</td>\n",
       "      <td>77</td>\n",
       "      <td>15</td>\n",
       "      <td>4</td>\n",
       "      <td>9</td>\n",
       "      <td>9</td>\n",
       "      <td>30</td>\n",
       "      <td>60</td>\n",
       "    </tr>\n",
       "    <tr>\n",
       "      <th>4</th>\n",
       "      <td>5</td>\n",
       "      <td>Arron Afflalo</td>\n",
       "      <td>SG</td>\n",
       "      <td>29</td>\n",
       "      <td>TOT</td>\n",
       "      <td>78</td>\n",
       "      <td>72</td>\n",
       "      <td>2502</td>\n",
       "      <td>375</td>\n",
       "      <td>884</td>\n",
       "      <td>...</td>\n",
       "      <td>.843</td>\n",
       "      <td>27</td>\n",
       "      <td>220</td>\n",
       "      <td>247</td>\n",
       "      <td>129</td>\n",
       "      <td>41</td>\n",
       "      <td>7</td>\n",
       "      <td>116</td>\n",
       "      <td>167</td>\n",
       "      <td>1035</td>\n",
       "    </tr>\n",
       "  </tbody>\n",
       "</table>\n",
       "<p>5 rows × 30 columns</p>\n",
       "</div>"
      ],
      "text/plain": [
       "  Rk         Player Pos Age   Tm   G  GS    MP   FG  FGA  ...   FT%  ORB  DRB  \\\n",
       "0  1     Quincy Acy  PF  24  NYK  68  22  1287  152  331  ...  .784   79  222   \n",
       "1  2   Jordan Adams  SG  20  MEM  30   0   248   35   86  ...  .609    9   19   \n",
       "2  3   Steven Adams   C  21  OKC  70  67  1771  217  399  ...  .502  199  324   \n",
       "3  4    Jeff Adrien  PF  28  MIN  17   0   215   19   44  ...  .579   23   54   \n",
       "4  5  Arron Afflalo  SG  29  TOT  78  72  2502  375  884  ...  .843   27  220   \n",
       "\n",
       "   TRB  AST STL BLK  TOV   PF   PTS  \n",
       "0  301   68  27  22   60  147   398  \n",
       "1   28   16  16   7   14   24    94  \n",
       "2  523   66  38  86   99  222   537  \n",
       "3   77   15   4   9    9   30    60  \n",
       "4  247  129  41   7  116  167  1035  \n",
       "\n",
       "[5 rows x 30 columns]"
      ]
     },
     "execution_count": 21,
     "metadata": {},
     "output_type": "execute_result"
    }
   ],
   "source": [
    "df.head()"
   ]
  },
  {
   "cell_type": "code",
   "execution_count": 30,
   "id": "b410af7f-d343-4641-bc97-56154c4c7cee",
   "metadata": {},
   "outputs": [
    {
     "data": {
      "text/plain": [
       "0       79\n",
       "1        9\n",
       "2      199\n",
       "3       23\n",
       "4       27\n",
       "      ... \n",
       "670    127\n",
       "671     75\n",
       "672     52\n",
       "673     97\n",
       "674    146\n",
       "Name: ORB, Length: 675, dtype: object"
      ]
     },
     "execution_count": 30,
     "metadata": {},
     "output_type": "execute_result"
    }
   ],
   "source": [
    "df['ORB']"
   ]
  },
  {
   "cell_type": "code",
   "execution_count": 1,
   "id": "431f65d4-ff07-49dc-adce-0873826d709a",
   "metadata": {},
   "outputs": [
    {
     "name": "stdin",
     "output_type": "stream",
     "text": [
      "Enter the file path:  player.csv\n",
      "Enter the column name:  Age\n",
      "Enter the category order (comma-separated):  m,f\n"
     ]
    },
    {
     "name": "stdout",
     "output_type": "stream",
     "text": [
      "      Rk          Player Pos  Age   Tm   G  GS    MP   FG  FGA  ...   FT%  \\\n",
      "0      1      Quincy Acy  PF  NaN  NYK  68  22  1287  152  331  ...  .784   \n",
      "1      2    Jordan Adams  SG  NaN  MEM  30   0   248   35   86  ...  .609   \n",
      "2      3    Steven Adams   C  NaN  OKC  70  67  1771  217  399  ...  .502   \n",
      "3      4     Jeff Adrien  PF  NaN  MIN  17   0   215   19   44  ...  .579   \n",
      "4      5   Arron Afflalo  SG  NaN  TOT  78  72  2502  375  884  ...  .843   \n",
      "..   ...             ...  ..  ...  ...  ..  ..   ...  ...  ...  ...   ...   \n",
      "670  490  Thaddeus Young  PF  NaN  TOT  76  68  2434  451  968  ...  .655   \n",
      "671  490  Thaddeus Young  PF  NaN  MIN  48  48  1605  289  641  ...  .682   \n",
      "672  490  Thaddeus Young  PF  NaN  BRK  28  20   829  162  327  ...  .606   \n",
      "673  491     Cody Zeller   C  NaN  CHO  62  45  1487  172  373  ...  .774   \n",
      "674  492    Tyler Zeller   C  NaN  BOS  82  59  1731  340  619  ...  .823   \n",
      "\n",
      "     ORB  DRB  TRB  AST  STL BLK  TOV   PF   PTS  \n",
      "0     79  222  301   68   27  22   60  147   398  \n",
      "1      9   19   28   16   16   7   14   24    94  \n",
      "2    199  324  523   66   38  86   99  222   537  \n",
      "3     23   54   77   15    4   9    9   30    60  \n",
      "4     27  220  247  129   41   7  116  167  1035  \n",
      "..   ...  ...  ...  ...  ...  ..  ...  ...   ...  \n",
      "670  127  284  411  173  124  25  117  171  1071  \n",
      "671   75  170  245  135   86  17   75  115   685  \n",
      "672   52  114  166   38   38   8   42   56   386  \n",
      "673   97  265  362  100   34  49   62  156   472  \n",
      "674  146  319  465  113   18  52   76  205   833  \n",
      "\n",
      "[675 rows x 30 columns]\n"
     ]
    }
   ],
   "source": [
    "import pandas as pd\n",
    "\n",
    "# Get the file path from the user\n",
    "file_path = input(\"Enter the file path: \")\n",
    "\n",
    "# Read the CSV file\n",
    "data = pd.read_csv(file_path)\n",
    "\n",
    "# Get the column name from the user\n",
    "column_name = input(\"Enter the column name: \")\n",
    "\n",
    "# Get the category order from the user\n",
    "category_order = input(\"Enter the category order (comma-separated): \").split(',')\n",
    "\n",
    "# Convert the column to categorical data type with the specified category order\n",
    "data[column_name] = pd.Categorical(data[column_name], categories=category_order, ordered=True)\n",
    "\n",
    "# Sort the data based on the specified column\n",
    "sorted_data = data.sort_values(by=column_name)\n",
    "\n",
    "# Display the sorted data\n",
    "print(sorted_data)\n"
   ]
  },
  {
   "cell_type": "markdown",
   "id": "69bd9202-4876-4e40-b85f-db0d2e79eb11",
   "metadata": {},
   "source": [
    "Q10. Write a Python program that reads a CSV file containing sales data for different products and\n",
    "visualizes the data using a stacked bar chart to show the sales of each product category over time. The\n",
    "program should prompt the user to enter the file path and display the chart."
   ]
  },
  {
   "cell_type": "code",
   "execution_count": null,
   "id": "f46c37f2-d1a4-4549-8166-70da30b24f38",
   "metadata": {},
   "outputs": [],
   "source": [
    "import pandas as pd\n",
    "import matplotlib.pyplot as plt\n",
    "\n",
    "file_path=input(\"Enter the file name\")\n",
    "\n",
    "data=pd.read_csv(file_path)\n",
    "\n",
    "grouped_data = data.groupby('Category')['Sales'].sum().unstack()\n",
    "\n",
    "grouped_data.plot(kind='bar', stacked=True)\n",
    "\n",
    "plt.xlabel('Year')\n",
    "plt.ylabel('Sales')\n",
    "plt.title('Sales of each product category over time')\n",
    "\n",
    "plt.show()"
   ]
  },
  {
   "cell_type": "markdown",
   "id": "f4b51b73-71ff-41a2-b593-8f15b8b28971",
   "metadata": {},
   "source": [
    "You are given a CSV file containing student data that includes the student ID and their test score. Write\n",
    "a Python program that reads the CSV file, calculates the mean, median, and mode of the test scores, and\n",
    "displays the results in a table."
   ]
  },
  {
   "cell_type": "code",
   "execution_count": 10,
   "id": "6d498000-2ee1-4447-9bd0-df67f2ca2ef0",
   "metadata": {},
   "outputs": [
    {
     "name": "stdin",
     "output_type": "stream",
     "text": [
      "Enter the file name stud.csv\n"
     ]
    },
    {
     "name": "stdout",
     "output_type": "stream",
     "text": [
      "  Measure  Score\n",
      "0    Mean   83.5\n",
      "1  Median   85.0\n",
      "2    Mode   85.0\n"
     ]
    }
   ],
   "source": [
    "import pandas as pd\n",
    "file_path=input(\"Enter the file name\")\n",
    "data=pd.read_csv(file_path)\n",
    "\n",
    "means=data['Test Score'].mean()\n",
    "medians=data['Test Score'].median()\n",
    "modes=mode(data['Test Score'])\n",
    "\n",
    "result=pd.DataFrame({'Measure':['Mean','Median','Mode'],'Score':[means,medians,modes]})\n",
    "print(result)"
   ]
  },
  {
   "cell_type": "code",
   "execution_count": 4,
   "id": "1e6fdeb1-c0cb-41fd-b886-4fa4ca81957e",
   "metadata": {},
   "outputs": [
    {
     "data": {
      "text/html": [
       "<div>\n",
       "<style scoped>\n",
       "    .dataframe tbody tr th:only-of-type {\n",
       "        vertical-align: middle;\n",
       "    }\n",
       "\n",
       "    .dataframe tbody tr th {\n",
       "        vertical-align: top;\n",
       "    }\n",
       "\n",
       "    .dataframe thead th {\n",
       "        text-align: right;\n",
       "    }\n",
       "</style>\n",
       "<table border=\"1\" class=\"dataframe\">\n",
       "  <thead>\n",
       "    <tr style=\"text-align: right;\">\n",
       "      <th></th>\n",
       "      <th>Student ID</th>\n",
       "      <th>Test Score</th>\n",
       "    </tr>\n",
       "  </thead>\n",
       "  <tbody>\n",
       "    <tr>\n",
       "      <th>0</th>\n",
       "      <td>1</td>\n",
       "      <td>85</td>\n",
       "    </tr>\n",
       "    <tr>\n",
       "      <th>1</th>\n",
       "      <td>2</td>\n",
       "      <td>90</td>\n",
       "    </tr>\n",
       "    <tr>\n",
       "      <th>2</th>\n",
       "      <td>3</td>\n",
       "      <td>80</td>\n",
       "    </tr>\n",
       "    <tr>\n",
       "      <th>3</th>\n",
       "      <td>4</td>\n",
       "      <td>75</td>\n",
       "    </tr>\n",
       "    <tr>\n",
       "      <th>4</th>\n",
       "      <td>5</td>\n",
       "      <td>85</td>\n",
       "    </tr>\n",
       "    <tr>\n",
       "      <th>5</th>\n",
       "      <td>6</td>\n",
       "      <td>82</td>\n",
       "    </tr>\n",
       "    <tr>\n",
       "      <th>6</th>\n",
       "      <td>7</td>\n",
       "      <td>78</td>\n",
       "    </tr>\n",
       "    <tr>\n",
       "      <th>7</th>\n",
       "      <td>8</td>\n",
       "      <td>85</td>\n",
       "    </tr>\n",
       "    <tr>\n",
       "      <th>8</th>\n",
       "      <td>9</td>\n",
       "      <td>90</td>\n",
       "    </tr>\n",
       "    <tr>\n",
       "      <th>9</th>\n",
       "      <td>10</td>\n",
       "      <td>85</td>\n",
       "    </tr>\n",
       "  </tbody>\n",
       "</table>\n",
       "</div>"
      ],
      "text/plain": [
       "   Student ID  Test Score\n",
       "0           1          85\n",
       "1           2          90\n",
       "2           3          80\n",
       "3           4          75\n",
       "4           5          85\n",
       "5           6          82\n",
       "6           7          78\n",
       "7           8          85\n",
       "8           9          90\n",
       "9          10          85"
      ]
     },
     "execution_count": 4,
     "metadata": {},
     "output_type": "execute_result"
    }
   ],
   "source": [
    "data=pd.read_csv(\"stud.csv\")\n",
    "data"
   ]
  },
  {
   "cell_type": "code",
   "execution_count": 9,
   "id": "43250cf9-6931-4a24-a826-fbe20d5e6851",
   "metadata": {},
   "outputs": [
    {
     "name": "stdin",
     "output_type": "stream",
     "text": [
      "Enter the file path:  stud.csv\n"
     ]
    },
    {
     "name": "stdout",
     "output_type": "stream",
     "text": [
      "  Measure  Score\n",
      "0    Mean   83.5\n",
      "1  Median   85.0\n",
      "2    Mode   85.0\n"
     ]
    }
   ],
   "source": [
    "\n",
    "import pandas as pd\n",
    "from statistics import mode\n",
    "\n",
    "# Prompt user to enter file path\n",
    "file_path = input(\"Enter the file path: \")\n",
    "\n",
    "# Read CSV file into a DataFrame\n",
    "data = pd.read_csv(file_path)\n",
    "\n",
    "# Calculate mean, median, and mode of test scores\n",
    "mean_score = data['Test Score'].mean()\n",
    "median_score = data['Test Score'].median()\n",
    "mode_score = mode(data['Test Score'])\n",
    "\n",
    "# Create a DataFrame to display the results\n",
    "results = pd.DataFrame({\n",
    "    'Measure': ['Mean', 'Median', 'Mode'],\n",
    "    'Score': [mean_score, median_score, mode_score]\n",
    "})\n",
    "\n",
    "# Display the results\n",
    "print(results)\n",
    "\n",
    "\n"
   ]
  },
  {
   "cell_type": "code",
   "execution_count": null,
   "id": "06a0dff0-27d1-4887-a293-74ff1c888821",
   "metadata": {},
   "outputs": [],
   "source": []
  }
 ],
 "metadata": {
  "kernelspec": {
   "display_name": "Python 3 (ipykernel)",
   "language": "python",
   "name": "python3"
  },
  "language_info": {
   "codemirror_mode": {
    "name": "ipython",
    "version": 3
   },
   "file_extension": ".py",
   "mimetype": "text/x-python",
   "name": "python",
   "nbconvert_exporter": "python",
   "pygments_lexer": "ipython3",
   "version": "3.10.8"
  }
 },
 "nbformat": 4,
 "nbformat_minor": 5
}
