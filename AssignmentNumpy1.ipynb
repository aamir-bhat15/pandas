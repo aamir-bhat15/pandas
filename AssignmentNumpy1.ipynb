{
 "cells": [
  {
   "cell_type": "code",
   "execution_count": 7,
   "id": "7255d418-b1ce-4049-9b87-758e67a4b51c",
   "metadata": {},
   "outputs": [
    {
     "name": "stdout",
     "output_type": "stream",
     "text": [
      "['1', '2', '3', '4', '5']\n",
      "['1' '2' '3' '4' '5']\n"
     ]
    }
   ],
   "source": [
    "import numpy as np\n",
    "list_ = [ '1' , '2' , '3' , '4' , '5' ]\n",
    "array_list = np.array(object = list_)\n",
    "print(list_)\n",
    "print(array_list)"
   ]
  },
  {
   "cell_type": "markdown",
   "id": "d48ce2a2-f647-45f9-b5ed-812e2e2d62ef",
   "metadata": {},
   "source": [
    "Q1. Is there any difference in the data type of variables list_ and array_list? If there is then write a code\n",
    "to print the data types of both the variables."
   ]
  },
  {
   "cell_type": "markdown",
   "id": "68bb917a-df1e-482f-b99e-7ee7dff4261f",
   "metadata": {},
   "source": [
    "Arrays can only store elements of the same data type, but lists can store elements of different data types. But data type of both will be different."
   ]
  },
  {
   "cell_type": "code",
   "execution_count": 8,
   "id": "95db18e3-89da-472d-8d3f-c66a66829b62",
   "metadata": {},
   "outputs": [
    {
     "name": "stdout",
     "output_type": "stream",
     "text": [
      "['1', '2', '3', '4', '5', 'Aamir']\n",
      "['1' '2' '3' '4' '5' 'Aamir']\n"
     ]
    }
   ],
   "source": [
    "import numpy as np\n",
    "list1 = [ '1' , '2' , '3' , '4' , '5' , 'Aamir']\n",
    "arrlist =np.array(list1) \n",
    "print(list1)\n",
    "print(arrlist)\n"
   ]
  },
  {
   "cell_type": "code",
   "execution_count": null,
   "id": "32e003bf-ffc6-4497-ae53-66245995d75b",
   "metadata": {},
   "outputs": [],
   "source": [
    "Q2. Write a code to print the data type of each and every element of both the variables list_ and\n",
    "arra_list."
   ]
  },
  {
   "cell_type": "code",
   "execution_count": 5,
   "id": "67474347-597f-4aa5-9ea7-7d45dbc4fedf",
   "metadata": {},
   "outputs": [
    {
     "name": "stdout",
     "output_type": "stream",
     "text": [
      "<class 'str'>\n",
      "<class 'str'>\n",
      "<class 'str'>\n",
      "<class 'str'>\n",
      "<class 'str'>\n",
      "<class 'str'>\n"
     ]
    }
   ],
   "source": [
    "for i in list1:\n",
    "    print(type(i))"
   ]
  },
  {
   "cell_type": "code",
   "execution_count": 10,
   "id": "bb87400c-00a1-4d01-a5c9-e08d1ac38894",
   "metadata": {},
   "outputs": [
    {
     "name": "stdout",
     "output_type": "stream",
     "text": [
      "<class 'numpy.str_'>\n",
      "<class 'numpy.str_'>\n",
      "<class 'numpy.str_'>\n",
      "<class 'numpy.str_'>\n",
      "<class 'numpy.str_'>\n",
      "<class 'numpy.str_'>\n"
     ]
    }
   ],
   "source": [
    "for i in arrlist:\n",
    "    print(type(i))"
   ]
  },
  {
   "cell_type": "markdown",
   "id": "fbf8531e-068e-4fed-8769-b5c069e0a6e9",
   "metadata": {},
   "source": [
    "Q3. Considering the following changes in the variable, array_list:\n",
    "array_list = np.array(object = list_, dtype = int)\n",
    "Will there be any difference in the data type of the elements present in both the variables, list_ and\n",
    "arra_list? If so then print the data types of each and every element present in both the variables, list_\n",
    "and arra_list."
   ]
  },
  {
   "cell_type": "code",
   "execution_count": 11,
   "id": "22192da1-05dd-4836-b7e8-517aae331411",
   "metadata": {},
   "outputs": [],
   "source": [
    "import numpy as np\n",
    "num_list = [ [ 1 , 2 , 3 ] , [ 4 , 5 , 6 ] ]\n",
    "num_array = np.array(object = num_list,dtype=int)"
   ]
  },
  {
   "cell_type": "code",
   "execution_count": 12,
   "id": "9c88c46b-370b-40a1-8496-03ec76c8065f",
   "metadata": {},
   "outputs": [
    {
     "name": "stdout",
     "output_type": "stream",
     "text": [
      "[[1, 2, 3], [4, 5, 6]]\n",
      "[[1 2 3]\n",
      " [4 5 6]]\n"
     ]
    }
   ],
   "source": [
    "print(num_list)\n",
    "print(num_array)"
   ]
  },
  {
   "cell_type": "code",
   "execution_count": 14,
   "id": "0b3b6756-8424-4ab6-809b-973cfebcad96",
   "metadata": {},
   "outputs": [
    {
     "name": "stdout",
     "output_type": "stream",
     "text": [
      "<class 'list'>\n"
     ]
    }
   ],
   "source": [
    "print(type(num_list))"
   ]
  },
  {
   "cell_type": "code",
   "execution_count": 15,
   "id": "d03363a2-eeff-4f7d-a329-78212d3030e6",
   "metadata": {},
   "outputs": [
    {
     "name": "stdout",
     "output_type": "stream",
     "text": [
      "<class 'numpy.ndarray'>\n"
     ]
    }
   ],
   "source": [
    "print(type(num_array))"
   ]
  },
  {
   "cell_type": "markdown",
   "id": "03f31241-5fbd-4a67-8c20-22d90b36948e",
   "metadata": {},
   "source": [
    "Q4. Write a code to find the following characteristics of variable, num_array:\n",
    "(i) shape\n",
    "(ii) size"
   ]
  },
  {
   "cell_type": "code",
   "execution_count": 19,
   "id": "b9305adf-8ea4-4d64-9c40-4884c82a730c",
   "metadata": {},
   "outputs": [
    {
     "name": "stdout",
     "output_type": "stream",
     "text": [
      "6\n",
      "(2, 3)\n"
     ]
    }
   ],
   "source": [
    "import numpy as np\n",
    "print(np.size(num_array))\n",
    "print(np.shape(num_array))"
   ]
  },
  {
   "cell_type": "code",
   "execution_count": 20,
   "id": "ae19bbae-8e89-4534-818f-e89e2af624a5",
   "metadata": {},
   "outputs": [
    {
     "name": "stdout",
     "output_type": "stream",
     "text": [
      "6\n",
      "(2, 3)\n"
     ]
    }
   ],
   "source": [
    "import numpy as np\n",
    "print(np.size(num_list))\n",
    "print(np.shape(num_list))"
   ]
  },
  {
   "cell_type": "markdown",
   "id": "4d9eca02-7316-4481-b44b-ad77c8af089c",
   "metadata": {},
   "source": [
    "Q5. Write a code to create numpy array of 3*3 matrix containing zeros only, using a numpy array\n",
    "creation function.\n",
    "[Hint: The size of the array will be 9 and the shape will be (3,3).]"
   ]
  },
  {
   "cell_type": "code",
   "execution_count": 23,
   "id": "b903b3b4-e098-4d5e-b0bc-efaf5b326902",
   "metadata": {},
   "outputs": [
    {
     "data": {
      "text/plain": [
       "array([[0., 0., 0.],\n",
       "       [0., 0., 0.],\n",
       "       [0., 0., 0.]])"
      ]
     },
     "execution_count": 23,
     "metadata": {},
     "output_type": "execute_result"
    }
   ],
   "source": [
    "import numpy as np\n",
    "zarr=np.zeros((3,3))\n",
    "zarr"
   ]
  },
  {
   "cell_type": "markdown",
   "id": "166aa493-c6bb-4233-addf-36979efc75d8",
   "metadata": {},
   "source": [
    "Q6. Create an identity matrix of shape (5,5) using numpy functions?\n",
    "[Hint: An identity matrix is a matrix containing 1 diagonally and other elements will be 0.]"
   ]
  },
  {
   "cell_type": "code",
   "execution_count": 25,
   "id": "61af3856-dd47-4c29-bae4-3a9f5d2298f0",
   "metadata": {},
   "outputs": [],
   "source": [
    "import numpy as np\n",
    "iarr=np.eye((5))"
   ]
  },
  {
   "cell_type": "code",
   "execution_count": 26,
   "id": "b1b45051-b362-4956-9077-a4f19a8e7ce7",
   "metadata": {},
   "outputs": [
    {
     "data": {
      "text/plain": [
       "array([[1., 0., 0., 0., 0.],\n",
       "       [0., 1., 0., 0., 0.],\n",
       "       [0., 0., 1., 0., 0.],\n",
       "       [0., 0., 0., 1., 0.],\n",
       "       [0., 0., 0., 0., 1.]])"
      ]
     },
     "execution_count": 26,
     "metadata": {},
     "output_type": "execute_result"
    }
   ],
   "source": [
    "iarr"
   ]
  },
  {
   "cell_type": "code",
   "execution_count": null,
   "id": "c1a7ef75-eec2-4920-88a2-958d6180b0d1",
   "metadata": {},
   "outputs": [],
   "source": []
  }
 ],
 "metadata": {
  "kernelspec": {
   "display_name": "Python 3 (ipykernel)",
   "language": "python",
   "name": "python3"
  },
  "language_info": {
   "codemirror_mode": {
    "name": "ipython",
    "version": 3
   },
   "file_extension": ".py",
   "mimetype": "text/x-python",
   "name": "python",
   "nbconvert_exporter": "python",
   "pygments_lexer": "ipython3",
   "version": "3.10.8"
  }
 },
 "nbformat": 4,
 "nbformat_minor": 5
}
