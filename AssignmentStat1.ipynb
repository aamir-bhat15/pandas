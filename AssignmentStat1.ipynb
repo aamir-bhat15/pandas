{
 "cells": [
  {
   "cell_type": "markdown",
   "id": "19486254-098d-431d-9b44-a4ef3856b6ee",
   "metadata": {},
   "source": [
    "Q1. What is Statistics?"
   ]
  },
  {
   "cell_type": "code",
   "execution_count": null,
   "id": "973c2ad3-44c9-4ae6-9ec8-7a108c938e26",
   "metadata": {},
   "outputs": [],
   "source": [
    "Statistics is the scince of collecting, organizing and analysing of data"
   ]
  },
  {
   "cell_type": "markdown",
   "id": "791f7788-e072-47d0-9250-179b2fe2fa36",
   "metadata": {},
   "source": [
    "Q2. Define the different types of statistics and give an example of when each type might be used."
   ]
  },
  {
   "cell_type": "code",
   "execution_count": null,
   "id": "9f8bfa4e-3f69-446b-af5c-20679e179dab",
   "metadata": {},
   "outputs": [],
   "source": [
    "There are two types of statistics\n",
    "1.Descriptive Stat: In this type we are organizing and sumarizing the data\n",
    "2.Inferiential Stat: In this type we are using the data to measure/build some assumption and valid the same assumption."
   ]
  },
  {
   "cell_type": "markdown",
   "id": "c73bd8c8-a9a6-4d07-8c2a-daea5ea745cd",
   "metadata": {},
   "source": [
    "Q3. What are the different types of data and how do they differ from each other? Provide an example of\n",
    "each type of data."
   ]
  },
  {
   "cell_type": "code",
   "execution_count": null,
   "id": "cc0e31ae-5a48-479d-be89-ae2cacf1f559",
   "metadata": {},
   "outputs": [],
   "source": [
    "Quantitative data\n",
    "Data is depicted in numerical terms.\n",
    "Can be shown in numbers and variables like ratio, percentage, and more.\n",
    "Example: 100%, 1:3, 123\t\n",
    "\n",
    "Qualitative data\n",
    "Data is not depicted in numerical terms. \n",
    "Could be about the behavioral attributes of a person, or thing. \n",
    "Example: loud behavior, fair skin, soft quality, and more.\n",
    "\n",
    "\n",
    "Discrete Data\n",
    "Countable.\t\n",
    "The type of data that has clear spaces between values is discrete data.  \t\n",
    "There are distinct or different values in discrete data.\n",
    "Depicted using bar graphs\t\n",
    "Ungrouped frequency distribution of discrete data is performed against a single value.\t\n",
    "\n",
    "Continuous Data\n",
    "This information falls into a continuous series.\n",
    "Measurable\n",
    "Every value within a range is included in continuous data.\n",
    "Depicted using histograms\n",
    "Grouped distribution of continuous data tabulation frequencies is performed against a value group.\n",
    "\n",
    "Nominal Data:\n",
    "Nominal data is a type of data that consists of categories or names that cannot be ordered or ranked. \n",
    "Nominal data is often used to categorize observations into groups, and the groups are not comparable. \n",
    "In other words, nominal data has no inherent order or ranking. \n",
    "Examples of nominal data include gender (male/female), race (White/Black/Asian), religion (Christianity/Islam/Judaism), and blood type (A/B/AB/O).\n",
    "\n",
    "Ordinal Data:\n",
    "Ordinal data is a type of data that consists of categories that can be ordered or ranked. \n",
    "However, the distance between categories is not necessarily equal. \n",
    "Ordinal data is often used to measure subjective attributes or opinions, where there is a natural order to the responses. \n",
    "Examples of ordinal data include education level (elementary/middle/high school/college), job position (manager/supervisor/employee)\n"
   ]
  },
  {
   "cell_type": "markdown",
   "id": "7a6d72a1-bccf-40d8-875f-fbfd65821c72",
   "metadata": {},
   "source": [
    "Q4. Categorise the following datasets with respect to quantitative and qualitative data types:\n",
    "(i) Grading in exam: A+, A, B+, B, C+, C, D, E\n",
    "(ii) Colour of mangoes: yellow, green, orange, red\n",
    "(iii) Height data of a class: [178.9, 179, 179.5, 176, 177.2, 178.3, 175.8,...]\n",
    "(iv) Number of mangoes exported by a farm: [500, 600, 478, 672, ...]"
   ]
  },
  {
   "cell_type": "code",
   "execution_count": null,
   "id": "6d221fc1-c2d4-448c-a64b-ad4403ebbee5",
   "metadata": {},
   "outputs": [],
   "source": [
    "I) Qualitative-->Ordinal\n",
    "II)Qualitative-->Nominal\n",
    "III)Quantitative-->Continuous\n",
    "IV)Quantitative-->Discrete"
   ]
  },
  {
   "cell_type": "markdown",
   "id": "25f137b9-cf0d-40be-8e28-05e6901a85aa",
   "metadata": {},
   "source": [
    "Q5. Explain the concept of levels of measurement and give an example of a variable for each level."
   ]
  },
  {
   "cell_type": "markdown",
   "id": "b521245a-8afa-4e9a-9232-4da2190eddaf",
   "metadata": {},
   "source": [
    "Nominal Data:\n",
    "Nominal data is a type of data that consists of categories or names that cannot be ordered or ranked. \n",
    "Nominal data is often used to categorize observations into groups, and the groups are not comparable. \n",
    "In other words, nominal data has no inherent order or ranking. \n",
    "Examples of nominal data include gender (male/female), race (White/Black/Asian), religion (Christianity/Islam/Judaism), and blood type (A/B/AB/O).\n",
    "\n",
    "Ordinal Data:\n",
    "Ordinal data is a type of data that consists of categories that can be ordered or ranked. \n",
    "However, the distance between categories is not necessarily equal. \n",
    "Ordinal data is often used to measure subjective attributes or opinions, where there is a natural order to the responses. \n",
    "Examples of ordinal data include education level (elementary/middle/high school/college), job position (manager/supervisor/employee)\n",
    "\n",
    "Interval Data:\n",
    "Interval data is a type of data that consists of numerical values where the distance between each value is equal. \n",
    "However, there is no true zero point. Interval data is often used to measure attributes such as temperature, dates, and time. \n",
    "Examples of interval data include temperature (Celsius/Fahrenheit), dates (days/months/years), and time (hours/minutes/seconds).\n",
    "\n",
    "Ratio Data:\n",
    "Ratio data is a type of data that has a true zero point and an equal distance between each value. \n",
    "Ratio data is considered the most informative type of data because it can be used to make meaningful comparisons and calculations. \n",
    "In addition, ratio data can be used to perform all types of statistical analyses.\n",
    "Examples of ratio data include height (inches/centimeters)"
   ]
  },
  {
   "cell_type": "markdown",
   "id": "6c29485c-a03e-49a6-9365-f5920abb9c7a",
   "metadata": {},
   "source": [
    "Q6. Why is it important to understand the level of measurement when analyzing data? Provide an\n",
    "example to illustrate your answer."
   ]
  },
  {
   "cell_type": "markdown",
   "id": "912db1c3-61c5-4f67-b691-b822fab33c5d",
   "metadata": {},
   "source": [
    "The level at which you measure a variable determines how you can analyze your data. \n",
    "Depending on the level of measurement, you can perform different descriptive statistics \n",
    "to get an overall summary of your data and inferential statistics to see if your results support or refute your hypothesis.\n",
    "\n",
    "Ordinal level: You create brackets of income ranges: $0–$19,999, $20,000–$39,999, and $40,000–$59,999. \n",
    "You ask participants to select the bracket that represents their annual income. \n",
    "The brackets are coded with numbers from 1–3.\n",
    "\n",
    "Ratio level: You collect data on the exact annual incomes of your participants.\n",
    "Participant\tIncome (ordinal level)\tIncome (ratio level)\n",
    "A\tBracket 1\t$12,550\n",
    "B\tBracket 2\t$39,700\n",
    "C\tBracket 3\t$40,300\n",
    "\n",
    "At a ratio level, you can see that the difference between A and B’s incomes is far greater than the difference between B and C’s incomes.\n",
    "\n",
    "At an ordinal level, however, you only know the income bracket for each participant, not their exact income. \n",
    "Since you cannot say exactly how much each income differs from the others in your data set, you can only order the income levels and group the participants."
   ]
  },
  {
   "cell_type": "markdown",
   "id": "931f8e45-7ab9-435e-855c-c61db8fba395",
   "metadata": {},
   "source": [
    "Q7. How nominal data type is different from ordinal data type."
   ]
  },
  {
   "cell_type": "markdown",
   "id": "7b6c114f-8ae8-46ea-b040-5c34912a08b6",
   "metadata": {},
   "source": [
    "Nominal Data:\n",
    "Nominal data is a type of data that consists of categories or names that cannot be ordered or ranked. \n",
    "Nominal data is often used to categorize observations into groups, and the groups are not comparable. \n",
    "In other words, nominal data has no inherent order or ranking. \n",
    "Examples of nominal data include gender (male/female), race (White/Black/Asian), religion (Christianity/Islam/Judaism), and blood type (A/B/AB/O).\n",
    "\n",
    "Ordinal Data:\n",
    "Ordinal data is a type of data that consists of categories that can be ordered or ranked. \n",
    "However, the distance between categories is not necessarily equal. \n",
    "Ordinal data is often used to measure subjective attributes or opinions, where there is a natural order to the responses. \n",
    "Examples of ordinal data include education level (elementary/middle/high school/college), job position (manager/supervisor/employee)"
   ]
  },
  {
   "cell_type": "markdown",
   "id": "e7a9cb28-0545-4bdd-99cb-7faad3455a25",
   "metadata": {},
   "source": [
    "Q8. Which type of plot can be used to display data in terms of range?"
   ]
  },
  {
   "cell_type": "code",
   "execution_count": null,
   "id": "bd7b94d3-5aa7-4430-a72e-4213ba93b9c6",
   "metadata": {},
   "outputs": [],
   "source": [
    "Histogram"
   ]
  },
  {
   "cell_type": "markdown",
   "id": "6959ca5a-121e-4314-b8b9-7ce07ddc1b9d",
   "metadata": {},
   "source": [
    "Q9. Describe the difference between descriptive and inferential statistics. Give an example of each\n",
    "type of statistics and explain how they are used."
   ]
  },
  {
   "cell_type": "markdown",
   "id": "b1b537d7-d44e-4fbc-81ff-1106530ddca6",
   "metadata": {},
   "source": [
    "There are two types of statistics\n",
    "1.Descriptive Stat: In this type we are organizing and sumarizing the data\n",
    "2.Inferiential Stat: In this type we are using the data to measure/build some assumption and valid the same assumption."
   ]
  },
  {
   "cell_type": "markdown",
   "id": "8b24a1bc-91ed-45d4-ba22-d953c7661314",
   "metadata": {},
   "source": [
    "Descriptive statistics and inferential statistics are two branches of statistical analysis that serve different purposes.\n",
    "\n",
    "Descriptive statistics involve the summary and presentation of data to describe and summarize its main characteristics. \n",
    "It provides a clear and concise understanding of the data at hand. \n",
    "Examples of descriptive statistics include measures like mean, median, and standard deviation. \n",
    "For instance, let's say we have a dataset of the heights of students in a class. Descriptive statistics would allow us to calculate the average height of the students in the class, \n",
    "along with other descriptive measures such as the range or distribution of heights. \n",
    "These statistics are useful in conveying basic information about the dataset and can help in making comparisons or drawing simple conclusions.\n",
    "\n",
    "Inferential statistics, on the other hand, involve using sample data to make inferences or draw conclusions about a larger population. \n",
    "It extends beyond the data available and makes assumptions about the population. \n",
    "Inferential statistics use methods such as hypothesis testing and confidence intervals to make these inferences. \n",
    "For example, let's say we want to determine if the average height of the students in our class is representative of the average height of all students in the school. \n",
    "We can use inferential statistics to take a random sample from the class, calculate the average height of the sample, and then use that information to make an inference about the entire student population at the school. \n",
    "Inferential statistics are commonly used across various fields to make predictions, draw conclusions, or generalize findings from a sample to a larger population.\n",
    "\n",
    "In summary, descriptive statistics aims to summarize and describe the characteristics of data, \n",
    "while inferential statistics allows us to make broader inferences and draw conclusions about a population based on sample data. \n",
    "Both types of statistics have their unique applications and play crucial roles in statistical analysis."
   ]
  },
  {
   "cell_type": "markdown",
   "id": "26f0860c-796a-421a-a8f6-5fc9f23b7e70",
   "metadata": {},
   "source": [
    "Q10. What are some common measures of central tendency and variability used in statistics? Explain\n",
    "how each measure can be used to describe a dataset."
   ]
  },
  {
   "cell_type": "markdown",
   "id": "6194d668-a66d-47cd-90f3-9fe3efe7f3ac",
   "metadata": {},
   "source": [
    "Measures of central tendency: categories or scores that describe what is \"average\" or \"typical\" of a given distribution. \n",
    "These include the mode, median and mean. \n",
    "Percentile: a score below which a specific percentage of a given distribution falls."
   ]
  }
 ],
 "metadata": {
  "kernelspec": {
   "display_name": "Python 3 (ipykernel)",
   "language": "python",
   "name": "python3"
  },
  "language_info": {
   "codemirror_mode": {
    "name": "ipython",
    "version": 3
   },
   "file_extension": ".py",
   "mimetype": "text/x-python",
   "name": "python",
   "nbconvert_exporter": "python",
   "pygments_lexer": "ipython3",
   "version": "3.10.8"
  }
 },
 "nbformat": 4,
 "nbformat_minor": 5
}
