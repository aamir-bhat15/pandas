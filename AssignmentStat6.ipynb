{
 "cells": [
  {
   "cell_type": "markdown",
   "id": "b9e0f8b1-8528-4937-be68-23d1b2bf78f1",
   "metadata": {},
   "source": [
    "Q1: What is the difference between a t-test and a z-test? Provide an example scenario where you would\n",
    "use each type of test."
   ]
  },
  {
   "cell_type": "markdown",
   "id": "5ece426c-a601-453f-a9e0-0ddc4113c737",
   "metadata": {},
   "source": [
    "The main difference between a t-test and a z-test is in the assumptions made about the population standard deviation. A t-test is used when the population standard deviation is unknown and is estimated using the sample standard deviation. A z-test is used when the population standard deviation is known or when the sample size is sufficiently large that the sample standard deviation can be assumed to be a good estimate of the population standard deviation.\n",
    "\n",
    "Example scenario where you would use each type of test:\n",
    "\n",
    "1. T-test: Suppose you want to compare the mean heights of two groups of students, one group from a school in New York and another from a school in Los Angeles. You randomly select 30 students from each school and measure their heights. Since you do not know the population standard deviation of heights, you would use a two-sample t-test to determine if there is a statistically significant difference in the heights of the two groups.\n",
    "\n",
    "2. Z-test: Suppose you want to test if the average salary of software engineers in a particular company is significantly higher than the national average. You have a dataset of 500 salaries of software engineers in that company, and you know the population standard deviation of salaries in the country. Since you have a large sample size and know the population standard deviation, you would use a one-sample z-test to determine if the average salary of software engineers in the company is significantly different from the national average."
   ]
  },
  {
   "cell_type": "markdown",
   "id": "af1bb14b-e1ad-4457-8b1f-f2b8e1289542",
   "metadata": {},
   "source": [
    "Q2: Differentiate between one-tailed and two-tailed tests."
   ]
  },
  {
   "cell_type": "markdown",
   "id": "cff81234-f432-427f-8d57-3731499456a4",
   "metadata": {},
   "source": [
    "One-tailed and two-tailed tests are the two types of hypothesis tests that are used in statistical analysis to make an inference about a population parameter using sample data. The main difference between them lies in the directionality of the hypothesis being tested.\n",
    "\n",
    "One-tailed tests:\n",
    "A one-tailed test is used when the hypothesis being tested is directional, i.e., it specifies whether the population parameter is greater than or less than a particular value. The null hypothesis for a one-tailed test is that there is no significant difference between the sample mean and the population mean in the specified direction. One-tailed tests are used when the researcher has a specific hypothesis in mind and wants to test it in a specific direction.\n",
    "\n",
    "Example: A researcher wants to test if a new drug is more effective than the current drug for treating a disease. The one-tailed hypothesis would be that the new drug is more effective, and the null hypothesis would be that there is no significant difference in effectiveness between the two drugs.\n",
    "\n",
    "Two-tailed tests:\n",
    "A two-tailed test is used when the hypothesis being tested is non-directional, i.e., it simply states that there is a significant difference between the sample mean and the population mean. The null hypothesis for a two-tailed test is that there is no significant difference between the sample mean and the population mean in either direction. Two-tailed tests are used when the researcher does not have a specific hypothesis in mind and wants to test if there is any significant difference between the sample mean and the population mean.\n",
    "\n",
    "Example: A researcher wants to test if there is a significant difference in the heights of men and women. The two-tailed hypothesis would be that there is a significant difference in heights, and the null hypothesis would be that there is no significant difference in heights."
   ]
  },
  {
   "cell_type": "markdown",
   "id": "3854ac3e-cc03-4a03-aae3-d1334785f3c0",
   "metadata": {},
   "source": [
    "Q3: Explain the concept of Type 1 and Type 2 errors in hypothesis testing. Provide an example scenario for\n",
    "each type of error."
   ]
  },
  {
   "cell_type": "markdown",
   "id": "48c61f55-73db-4ab8-9c9f-b8eacde92439",
   "metadata": {},
   "source": [
    "Type 1 and Type 2 errors are two types of errors that can occur in hypothesis testing while making inferences about a population parameter using sample data.\n",
    "\n",
    "Type 1 error:\n",
    "Type 1 error occurs when the null hypothesis is rejected when it is actually true. In other words, it is a false positive. It is also called the alpha error and has a significance level of alpha (α), typically set at 0.05. The probability of Type 1 error is denoted by α.\n",
    "\n",
    "Example: Suppose a researcher is conducting a hypothesis test to determine if a new drug has an effect on improving memory. The null hypothesis is that the drug has no effect on memory. If the researcher rejects the null hypothesis and concludes that the drug does have an effect, but in reality, the drug has no effect on memory, then it is a Type 1 error.\n",
    "\n",
    "Type 2 error:\n",
    "Type 2 error occurs when the null hypothesis is not rejected when it is actually false. In other words, it is a false negative. It is also called the beta error and has a probability of beta (β). The probability of Type 2 error is affected by factors such as the sample size, the level of significance, and the effect size.\n",
    "\n",
    "Example: Suppose a researcher is conducting a hypothesis test to determine if a new treatment for a disease is effective. The null hypothesis is that the treatment is not effective. If the researcher does not reject the null hypothesis and concludes that the treatment is not effective, but in reality, the treatment is effective, then it is a Type 2 error.\n",
    "\n",
    "In summary, Type 1 error occurs when the researcher mistakenly rejects the null hypothesis when it is actually true, while Type 2 error occurs when the researcher fails to reject the null hypothesis when it is actually false. Both types of errors can have serious consequences, and it is important to minimize their probabilities through appropriate sample size determination, significance level selection, and power analysis."
   ]
  },
  {
   "cell_type": "markdown",
   "id": "d6e1909f-b599-46bb-9583-ff6ea0e90a58",
   "metadata": {},
   "source": [
    "Q4: Explain Bayes's theorem with an example."
   ]
  },
  {
   "cell_type": "markdown",
   "id": "2ede1257-9deb-47e0-ae41-89b0816b75c7",
   "metadata": {},
   "source": [
    "Bayes's theorem is a fundamental concept in probability theory that describes the relationship between conditional probabilities. It provides a way to update the probability of a hypothesis based on new evidence.\n",
    "\n",
    "Bayes's theorem states that the probability of a hypothesis H given the evidence E can be calculated as follows:\n",
    "\n",
    "P(H|E) = P(E|H) * P(H) / P(E)\n",
    "\n",
    "where:\n",
    "- P(H|E) is the probability of the hypothesis H given the evidence E (the posterior probability).\n",
    "- P(E|H) is the probability of the evidence E given the hypothesis H (the likelihood).\n",
    "- P(H) is the prior probability of the hypothesis H (the probability of the hypothesis before considering the evidence).\n",
    "- P(E) is the probability of the evidence E.\n",
    "\n",
    "Example:\n",
    "Suppose a company produces two types of laptops - Type A and Type B. The company claims that 80% of laptops are of Type A, and the remaining 20% are of Type B. A customer purchases a laptop and reports that it is not working properly. The customer service representative performs a diagnostic test and finds that the laptop has a faulty battery. The customer service representative knows that the probability of a faulty battery in Type A laptops is 5%, while the probability of a faulty battery in Type B laptops is 10%.\n",
    "\n",
    "We can use Bayes's theorem to calculate the probability that the laptop is of Type A given that it has a faulty battery.\n",
    "\n",
    "Let H be the hypothesis that the laptop is of Type A, and E be the evidence that the laptop has a faulty battery. Then,\n",
    "\n",
    "P(H) = 0.8 (the prior probability of Type A laptop)\n",
    "P(~H) = 0.2 (the prior probability of Type B laptop)\n",
    "P(E|H) = 0.05 (the probability of a faulty battery given a Type A laptop)\n",
    "P(E|~H) = 0.1 (the probability of a faulty battery given a Type B laptop)\n",
    "\n",
    "Using Bayes's theorem, we can compute:\n",
    "\n",
    "P(H|E) = P(E|H) * P(H) / P(E)\n",
    "\n",
    "P(H|E) = (0.05 * 0.8) / [(0.05 * 0.8) + (0.1 * 0.2)]\n",
    "P(H|E) = 0.333\n",
    "\n",
    "Thus, there is a 33.3% probability that the laptop is of Type A given that it has a faulty battery."
   ]
  },
  {
   "cell_type": "markdown",
   "id": "76269c7f-12cb-4267-98dd-ce4a910ce8a1",
   "metadata": {},
   "source": [
    "Q5: What is a confidence interval? How to calculate the confidence interval, explain with an example."
   ]
  },
  {
   "cell_type": "markdown",
   "id": "d134d084-271d-4942-85ac-760491cc85af",
   "metadata": {},
   "source": [
    "A confidence interval is a range of values that is computed from sample data and is used to estimate the population parameter. It is a useful tool in statistics for making inferences about the population mean or proportion, given a sample from the population. The confidence level specifies the level of certainty that the true population parameter lies within the calculated interval.\n",
    "\n",
    "A confidence interval is calculated using the sample data and the desired level of confidence. The formula for calculating a confidence interval depends on the parameter of interest (mean or proportion) and the nature of the data (normal or non-normal).\n",
    "\n",
    "Example of calculating a confidence interval for the population mean:\n",
    "\n",
    "Suppose we want to estimate the average weight of all apples in a particular region. We collect a sample of 50 apples and measure their weights. The mean weight of the sample is 150 grams, with a standard deviation of 10 grams. We want to calculate a 95% confidence interval for the population mean weight of all apples.\n",
    "\n",
    "1. Determine the appropriate z or t value for the desired level of confidence and the sample size. Since the sample size is greater than 30, we can use the normal distribution and a z value. From a standard normal table, a 95% confidence level corresponds to a z-value of 1.96.\n",
    "\n",
    "2. Calculate the standard error (SE) using the formula:\n",
    "\n",
    "SE = sample standard deviation / sqrt(sample size)\n",
    "\n",
    "SE = 10 / sqrt(50)\n",
    "\n",
    "SE = 1.41\n",
    "\n",
    "3. Calculate the margin of error using the formula:\n",
    "\n",
    "Margin of error = z-value * SE\n",
    "\n",
    "Margin of error = 1.96 * 1.41\n",
    "\n",
    "Margin of error = 2.76\n",
    "\n",
    "4. Calculate the confidence interval using the formula:\n",
    "\n",
    "Confidence interval = sample mean ± margin of error\n",
    "\n",
    "Confidence interval = 150 ± 2.76\n",
    "\n",
    "Confidence interval = [147.24, 152.76]\n",
    "\n",
    "Thus, we can be 95% confident that the true population mean weight of apples falls between 147.24 grams and 152.76 grams."
   ]
  },
  {
   "cell_type": "markdown",
   "id": "8b92cbc1-e639-48bc-8d62-b8ead41d178b",
   "metadata": {},
   "source": [
    "Q6. Use Bayes' Theorem to calculate the probability of an event occurring given prior knowledge of the\n",
    "event's probability and new evidence. Provide a sample problem and solution."
   ]
  },
  {
   "cell_type": "markdown",
   "id": "37832069-298c-47b5-bf04-50310904a739",
   "metadata": {},
   "source": [
    "Problem:\n",
    "Suppose a doctor wants to determine the probability that a patient has a rare disease. The disease affects 1 in 1000 people in the general population. The doctor administers a diagnostic test that has a 95% probability of correctly diagnosing the disease if the patient has it and a 10% probability of falsely diagnosing the disease if the patient does not have it. If the test comes back positive, what is the probability that the patient has the disease?\n",
    "\n",
    "Solution:\n",
    "Let D be the event that the patient has the disease, and T be the event that the test is positive. We want to calculate P(D|T), the probability that the patient has the disease given a positive test result. We can use Bayes' Theorem to do this:\n",
    "\n",
    "P(D|T) = P(T|D) * P(D) / P(T)\n",
    "\n",
    "where:\n",
    "- P(T|D) is the probability of a positive test result given that the patient has the disease, which is 0.95 (the test has a 95% probability of correctly diagnosing the disease).\n",
    "- P(D) is the prior probability of the patient having the disease, which is 1/1000 or 0.001.\n",
    "- P(T) is the probability of a positive test result, which can be calculated using the law of total probability:\n",
    "\n",
    "P(T) = P(T|D) * P(D) + P(T|~D) * P(~D)\n",
    "\n",
    "where:\n",
    "- P(T|~D) is the probability of a positive test result given that the patient does not have the disease, which is 0.10 (the test has a 10% probability of falsely diagnosing the disease).\n",
    "- P(~D) is the prior probability of the patient not having the disease, which is 1 - P(D) or 0.999.\n",
    "\n",
    "Plugging in the values, we get:\n",
    "\n",
    "P(T) = 0.95 * 0.001 + 0.10 * 0.999\n",
    "P(T) = 0.1004\n",
    "\n",
    "Now we can calculate P(D|T):\n",
    "\n",
    "P(D|T) = 0.95 * 0.001 / 0.1004\n",
    "P(D|T) = 0.0095\n",
    "\n",
    "Therefore, the probability that the patient has the disease given a positive test result is 0.0095 or approximately 0.95%. This shows that even with a highly accurate test, the probability of a false positive can be quite high when the prior probability of the event is low."
   ]
  },
  {
   "cell_type": "markdown",
   "id": "927c64bd-d540-400d-81b7-794e23e71f04",
   "metadata": {},
   "source": [
    "Q7. Calculate the 95% confidence interval for a sample of data with a mean of 50 and a standard deviation\n",
    "of 5. Interpret the results."
   ]
  },
  {
   "cell_type": "markdown",
   "id": "ab83e4a2-902c-4057-b94e-ac0d59db2d44",
   "metadata": {},
   "source": [
    "To calculate the 95% confidence interval for a sample of data with a mean of 50 and a standard deviation of 5, we can use the following formula:\n",
    "\n",
    "95% confidence interval = sample mean ± (1.96 * standard error)\n",
    "\n",
    "where the standard error is calculated as:\n",
    "\n",
    "standard error = standard deviation / sqrt(sample size)\n",
    "\n",
    "Since we don't know the sample size, we cannot calculate the standard error. Therefore, let us assume that the sample size is 30. Then, the standard error can be calculated as:\n",
    "\n",
    "standard error = 5 / sqrt(30) = 0.9129\n",
    "\n",
    "Substituting the values in the formula, we get:\n",
    "\n",
    "95% confidence interval = 50 ± (1.96 * 0.9129) = (48.202, 51.798)\n",
    "\n",
    "This means that we can say with 95% confidence that the true population mean lies between 48.202 and 51.798. In other words, if we were to repeat the sampling process multiple times and calculate the confidence intervals each time, 95% of these intervals would contain the true population mean."
   ]
  },
  {
   "cell_type": "markdown",
   "id": "7222efa5-7282-4b10-bd2e-2ed0c3553925",
   "metadata": {},
   "source": [
    "Q8. What is the margin of error in a confidence interval? How does sample size affect the margin of error?\n",
    "Provide an example of a scenario where a larger sample size would result in a smaller margin of error."
   ]
  },
  {
   "cell_type": "markdown",
   "id": "2d68173d-c435-410d-8425-25099f793195",
   "metadata": {},
   "source": [
    "The margin of error in a confidence interval is the range of values above and below the sample estimate that is likely to contain the true population parameter with a certain level of confidence. It is calculated as the product of the critical value and the standard error.\n",
    "\n",
    "The margin of error is influenced by several factors, including the level of confidence, the sample size, and the variability of the data. In general, a larger sample size leads to a smaller margin of error, all other things being equal. This is because a larger sample size provides more information about the population and reduces the variability of the estimates.\n",
    "\n",
    "For example, suppose a researcher wants to estimate the average height of all students in a particular school. If the researcher takes a sample of 10 students and calculates a 95% confidence interval, the margin of error may be relatively large due to the small sample size. However, if the researcher increases the sample size to 100 students, the margin of error would decrease since there is more information available about the population.\n",
    "\n",
    "To illustrate this further, let us consider another example. Suppose a company wants to determine the average salary of its employees. A sample of 50 employees is selected, and the sample mean is calculated to be $60,000 with a standard deviation of $10,000. The company wants to calculate a 95% confidence interval for the population mean salary.\n",
    "\n",
    "Using the formula for calculating the margin of error:\n",
    "\n",
    "Margin of error = z * (standard deviation / sqrt(sample size))\n",
    "\n",
    "For a 95% confidence interval, the z-value is 1.96.\n",
    "\n",
    "With a sample size of 50, the margin of error is:\n",
    "\n",
    "Margin of error = 1.96 * (10,000 / sqrt(50)) = $2,790.9\n",
    "\n",
    "Therefore, the 95% confidence interval for the average salary of employees is ($57,209.1, $62,790.9).\n",
    "\n",
    "Suppose the company wants to reduce the margin of error to $1000. To achieve this, the company needs to increase the sample size. Using the same formula for calculating the margin of error, if the sample size is increased to 500, the margin of error becomes:\n",
    "\n",
    "Margin of error = 1.96 * (10,000 / sqrt(500)) = $1,385.6\n",
    "\n",
    "Therefore, the 95% confidence interval for the average salary of employees with a sample size of 500 employees is ($58,614.4, $61,385.6).\n",
    "\n",
    "This example shows that by increasing the sample size, the margin of error is reduced, resulting in a more precise estimate of the population mean."
   ]
  },
  {
   "cell_type": "markdown",
   "id": "2b96a91d-b0b8-4287-bb7c-6494a8d8a2f9",
   "metadata": {},
   "source": [
    "Q9. Calculate the z-score for a data point with a value of 75, a population mean of 70, and a population\n",
    "standard deviation of 5. Interpret the results."
   ]
  },
  {
   "cell_type": "markdown",
   "id": "c1a94d70-03a6-4046-80f0-2f11efc8d8d3",
   "metadata": {},
   "source": [
    "To calculate the z-score for a data point with a value of 75, a population mean of 70, and a population standard deviation of 5, we can use the following formula for z-score:\n",
    "\n",
    "z = (x - μ) / σ\n",
    "\n",
    "where x is the data point, μ is the population mean, and σ is the population standard deviation.\n",
    "\n",
    "Substituting the values, we get:\n",
    "\n",
    "z = (75 - 70) / 5 = 1\n",
    "\n",
    "This means that the data point of 75 is 1 standard deviation above the population mean of 70. Since the z-score is positive, we know that the data point is above the mean. A z-score of 1 indicates that the data point is one standard deviation above the mean.\n",
    "\n",
    "We can also use a z-table to find the proportion of values in a standard normal distribution that are below or above the z-score. In this case, the proportion of values below the z-score of 1 is 0.8413 and above it is 1 - 0.8413 = 0.1587. This means that 84.13% of the values in a standard normal distribution are below the data point of 75, and 15.87% are above it.\n"
   ]
  },
  {
   "cell_type": "markdown",
   "id": "b32b9093-1f18-4049-bdfc-90ca75419588",
   "metadata": {},
   "source": [
    "Q10. In a study of the effectiveness of a new weight loss drug, a sample of 50 participants lost an average\n",
    "of 6 pounds with a standard deviation of 2.5 pounds. Conduct a hypothesis test to determine if the drug is\n",
    "significantly effective at a 95% confidence level using a t-test."
   ]
  },
  {
   "cell_type": "markdown",
   "id": "75ab3121-466c-4974-9f9c-43d8c889c17c",
   "metadata": {},
   "source": [
    "To determine if the new weight loss drug is significantly effective at a 95% confidence level, we can conduct a two-tailed t-test using the following hypotheses:\n",
    "\n",
    "- Null hypothesis (H0): The mean weight loss of the population is equal to 0.\n",
    "- Alternative hypothesis (Ha): The mean weight loss of the population is not equal to 0.\n",
    "\n",
    "We can use the t-statistic to test these hypotheses, which is calculated as:\n",
    "\n",
    "t = (x̄ - μ) / (s / sqrt(n))\n",
    "\n",
    "where x̄ is the sample mean, μ is the population mean (which is assumed to be 0 under the null hypothesis), s is the sample standard deviation, and n is the sample size.\n",
    "\n",
    "Substituting the values, we get:\n",
    "\n",
    "t = (6 - 0) / (2.5 / sqrt(50)) = 12\n",
    "\n",
    "Using a t-table with 49 degrees of freedom (50-1), the critical values for a two-tailed test at a 95% confidence level are ±2.009.\n",
    "\n",
    "Since our calculated t-value of 12 is greater than the critical value of 2.009, we can reject the null hypothesis and conclude that the mean weight loss of the population is significantly different from zero at a 95% confidence level. This means that the new weight loss drug is significantly effective in helping participants lose weight.\n",
    "\n",
    "Therefore, we can conclude that there is sufficient evidence to support the claim that the new weight loss drug is significantly effective in helping participants lose weight at a 95% confidence level."
   ]
  },
  {
   "cell_type": "markdown",
   "id": "5072e146-d5ee-416f-bdc7-8863a81cd932",
   "metadata": {},
   "source": [
    "Q11. In a survey of 500 people, 65% reported being satisfied with their current job. Calculate the 95%\n",
    "confidence interval for the true proportion of people who are satisfied with their job."
   ]
  },
  {
   "cell_type": "markdown",
   "id": "34d60351-00d0-49b5-a7c3-4bdd62a21533",
   "metadata": {},
   "source": [
    "To calculate the 95% confidence interval for the true proportion of people who are satisfied with their job, we can use the following formula:\n",
    "\n",
    "confidence interval = sample proportion ± (z-score * standard error)\n",
    "\n",
    "where the z-score corresponds to the desired level of confidence and the standard error is calculated as:\n",
    "\n",
    "standard error = sqrt((sample proportion * (1 - sample proportion)) / sample size)\n",
    "\n",
    "Substituting the given values, we get:\n",
    "\n",
    "sample proportion = 0.65\n",
    "sample size = 500\n",
    "level of confidence = 0.95\n",
    "z-score = 1.96\n",
    "\n",
    "First, we need to calculate the standard error:\n",
    "\n",
    "standard error = sqrt((0.65 * (1 - 0.65)) / 500) = 0.026\n",
    "\n",
    "Next, we can calculate the confidence interval:\n",
    "\n",
    "confidence interval = 0.65 ± (1.96 * 0.026) = (0.599, 0.701)\n",
    "\n",
    "Therefore, we can say with 95% confidence that the true proportion of people who are satisfied with their job lies between 0.599 and 0.701. In other words, if we were to repeat the sampling process multiple times and calculate the confidence intervals each time, 95% of these intervals would contain the true population proportion. We can interpret this to mean that there is strong evidence to suggest that the majority of people are satisfied with their current job.\n"
   ]
  },
  {
   "cell_type": "markdown",
   "id": "75e70c85-7419-48d8-817a-ffa1edf30e83",
   "metadata": {},
   "source": [
    "Q12. A researcher is testing the effectiveness of two different teaching methods on student performance.\n",
    "Sample A has a mean score of 85 with a standard deviation of 6, while sample B has a mean score of 82\n",
    "with a standard deviation of 5. Conduct a hypothesis test to determine if the two teaching methods have a\n",
    "significant difference in student performance using a t-test with a significance level of 0.01."
   ]
  },
  {
   "cell_type": "markdown",
   "id": "8efa246e-9c0e-4908-b33e-3977faf40e66",
   "metadata": {},
   "source": [
    "To determine if there is a significant difference between the mean scores of the two teaching methods, we can conduct a two-sample t-test with a significance level of 0.01. The null and alternative hypotheses are:\n",
    "\n",
    "- Null hypothesis (H0): The mean score of sample A is equal to the mean score of sample B.\n",
    "- Alternative hypothesis (Ha): The mean score of sample A is not equal to the mean score of sample B.\n",
    "\n",
    "We can use the t-statistic to test these hypotheses, which is calculated as:\n",
    "\n",
    "t = (x̄1 - x̄2) / sqrt((s1^2/n1) + (s2^2/n2))\n",
    "\n",
    "where x̄1 and x̄2 are the sample means, s1 and s2 are the sample standard deviations, and n1 and n2 are the sample sizes.\n",
    "\n",
    "Substituting the values from the example, we get:\n",
    "\n",
    "t = (85 - 82) / sqrt((6^2/50) + (5^2/50)) = 2.09\n",
    "\n",
    "Using a t-table with 98 degrees of freedom (50+50-2) and a significance level of 0.01, the critical t-value for a two-tailed test is ±2.614.\n",
    "\n",
    "Since our calculated t-value of 2.09 is less than the critical t-value of 2.614, we fail to reject the null hypothesis and conclude that there is no significant difference between the mean scores of the two teaching methods at a 99% confidence level. This means that there is no evidence to suggest that one teaching method is more effective than the other in terms of student performance.\n",
    "\n",
    "Therefore, we can conclude that there is insufficient evidence to support the claim that the two teaching methods have a significant difference in student performance."
   ]
  },
  {
   "cell_type": "markdown",
   "id": "3d649ed0-e3a7-4a08-ac69-b09a3d7a1078",
   "metadata": {},
   "source": [
    "Q13. A population has a mean of 60 and a standard deviation of 8. A sample of 50 observations has a mean\n",
    "of 65. Calculate the 90% confidence interval for the true population mean."
   ]
  },
  {
   "cell_type": "markdown",
   "id": "744a05c7-f79f-4757-bf3a-ac78c14d5e48",
   "metadata": {},
   "source": [
    "To calculate the 90% confidence interval for the true population mean, we can use the following formula:\n",
    "\n",
    "confidence interval = sample mean ± (z-score * (standard deviation / sqrt(sample size)))\n",
    "\n",
    "where the z-score corresponds to the desired level of confidence and is obtained from a standard normal distribution table, or calculated using a statistical software. For a 90% confidence level, the z-score is 1.645.\n",
    "\n",
    "Substituting the given values, we get:\n",
    "\n",
    "sample mean = 65\n",
    "standard deviation = 8\n",
    "sample size = 50\n",
    "z-score = 1.645\n",
    "\n",
    "Plugging these values into the formula, we get:\n",
    "\n",
    "confidence interval = 65 ± (1.645 * (8 / sqrt(50))) = (62.29, 67.71)\n",
    "\n",
    "Therefore, we can say with 90% confidence that the true population mean lies between 62.29 and 67.71. In other words, if we were to repeat the sampling process multiple times and calculate the confidence intervals each time, 90% of these intervals would contain the true population mean. We can interpret this to mean that we are 90% confident that the true population mean falls within this interval."
   ]
  },
  {
   "cell_type": "markdown",
   "id": "7f68b076-a71c-41d6-ae05-472dd2cfe468",
   "metadata": {},
   "source": [
    "Q14. In a study of the effects of caffeine on reaction time, a sample of 30 participants had an average\n",
    "reaction time of 0.25 seconds with a standard deviation of 0.05 seconds. Conduct a hypothesis test to\n",
    "determine if the caffeine has a significant effect on reaction time at a 90% confidence level using a t-test."
   ]
  },
  {
   "cell_type": "markdown",
   "id": "b3de6d91-81ac-4cee-8158-36378ae0643b",
   "metadata": {},
   "source": [
    "To determine if caffeine has a significant effect on reaction time at a 90% confidence level, we can conduct a one-sample t-test. The null and alternative hypotheses are:\n",
    "\n",
    "- Null hypothesis (H0): The population mean reaction time is equal to 0.25 seconds.\n",
    "- Alternative hypothesis (Ha): The population mean reaction time is different from 0.25 seconds.\n",
    "\n",
    "We can use the t-statistic to test these hypotheses, which is calculated as:\n",
    "\n",
    "t = (x̄ - μ) / (s / sqrt(n))\n",
    "\n",
    "where x̄ is the sample mean, μ is the population mean under the null hypothesis, s is the sample standard deviation, and n is the sample size.\n",
    "\n",
    "Substituting the given values, we get:\n",
    "\n",
    "t = (0.25 - μ) / (0.05 / sqrt(30))\n",
    "\n",
    "To calculate the critical t-value, we need to find the degrees of freedom, which is given by (n-1) = 29. Using a t-table or a statistical software, the critical t-value for a two-tailed test at a 90% confidence level with 29 degrees of freedom is ±1.699.\n",
    "\n",
    "If we assume a two-tailed test, then the rejection region is t < -1.699 or t > 1.699.\n",
    "\n",
    "We can calculate the t-value using the formula:\n",
    "\n",
    "t = (0.25 - μ) / (0.05 / sqrt(30))\n",
    "\n",
    "If we assume a two-tailed test, the p-value is given by:\n",
    "\n",
    "p-value = 2 * P(t < -|t-value|)\n",
    "\n",
    "where P is the cumulative probability distribution function for the t-distribution.\n",
    "\n",
    "If we use a statistical software or a t-table, we can find that the p-value is less than 0.05. Since the p-value is less than the significance level of 0.1, we can reject the null hypothesis.\n",
    "\n",
    "Therefore, we can conclude that there is sufficient evidence to support the claim that caffeine has a significant effect on reaction time at a 90% confidence level."
   ]
  }
 ],
 "metadata": {
  "kernelspec": {
   "display_name": "Python 3 (ipykernel)",
   "language": "python",
   "name": "python3"
  },
  "language_info": {
   "codemirror_mode": {
    "name": "ipython",
    "version": 3
   },
   "file_extension": ".py",
   "mimetype": "text/x-python",
   "name": "python",
   "nbconvert_exporter": "python",
   "pygments_lexer": "ipython3",
   "version": "3.10.8"
  }
 },
 "nbformat": 4,
 "nbformat_minor": 5
}
